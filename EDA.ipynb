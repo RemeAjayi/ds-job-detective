{
 "cells": [
  {
   "cell_type": "code",
   "execution_count": 1,
   "id": "22401b3d",
   "metadata": {},
   "outputs": [],
   "source": [
    "import pandas as pd\n",
    "df = pd.read_csv('outputs/data_science_jobs.csv')"
   ]
  },
  {
   "cell_type": "code",
   "execution_count": 2,
   "id": "c26d9015",
   "metadata": {},
   "outputs": [
    {
     "data": {
      "text/html": [
       "<div>\n",
       "<style scoped>\n",
       "    .dataframe tbody tr th:only-of-type {\n",
       "        vertical-align: middle;\n",
       "    }\n",
       "\n",
       "    .dataframe tbody tr th {\n",
       "        vertical-align: top;\n",
       "    }\n",
       "\n",
       "    .dataframe thead th {\n",
       "        text-align: right;\n",
       "    }\n",
       "</style>\n",
       "<table border=\"1\" class=\"dataframe\">\n",
       "  <thead>\n",
       "    <tr style=\"text-align: right;\">\n",
       "      <th></th>\n",
       "      <th>Unnamed: 0</th>\n",
       "      <th>Job Title</th>\n",
       "      <th>Company Name</th>\n",
       "      <th>Job Description</th>\n",
       "      <th>Location</th>\n",
       "      <th>Job Board</th>\n",
       "    </tr>\n",
       "  </thead>\n",
       "  <tbody>\n",
       "    <tr>\n",
       "      <th>0</th>\n",
       "      <td>0</td>\n",
       "      <td>Data Scientist</td>\n",
       "      <td>Metricsflow Inc</td>\n",
       "      <td>At Metricsflow, we work to shape the future of...</td>\n",
       "      <td>St. John's</td>\n",
       "      <td>Glassdoor</td>\n",
       "    </tr>\n",
       "    <tr>\n",
       "      <th>1</th>\n",
       "      <td>1</td>\n",
       "      <td>Data Scientist - 05/12/21</td>\n",
       "      <td>Acerta Analytics Solutions Inc</td>\n",
       "      <td>Acerta’s machine learning platforms leverage a...</td>\n",
       "      <td>Kitchener</td>\n",
       "      <td>Indeed</td>\n",
       "    </tr>\n",
       "    <tr>\n",
       "      <th>2</th>\n",
       "      <td>2</td>\n",
       "      <td>Data Engineer</td>\n",
       "      <td>GoodLife Fitness\\n</td>\n",
       "      <td>Position Description\\n\\n\\n\\n\\nDATA ENGINEER\\n*...</td>\n",
       "      <td>Midtown Toronto</td>\n",
       "      <td>Glassdoor</td>\n",
       "    </tr>\n",
       "    <tr>\n",
       "      <th>3</th>\n",
       "      <td>3</td>\n",
       "      <td>Safety Aggregate Reporting &amp; Analytics Coordin...</td>\n",
       "      <td>IQVIA</td>\n",
       "      <td>Job Overview\\nManage the administrative suppor...</td>\n",
       "      <td>Kirkland</td>\n",
       "      <td>Indeed</td>\n",
       "    </tr>\n",
       "    <tr>\n",
       "      <th>4</th>\n",
       "      <td>4</td>\n",
       "      <td>Senior Data Engineer</td>\n",
       "      <td>Samsung Electronics\\n</td>\n",
       "      <td>Position Summary\\n\\nThe SmartThings Big Data t...</td>\n",
       "      <td>Vancouver</td>\n",
       "      <td>Glassdoor</td>\n",
       "    </tr>\n",
       "  </tbody>\n",
       "</table>\n",
       "</div>"
      ],
      "text/plain": [
       "   Unnamed: 0                                          Job Title  \\\n",
       "0           0                                     Data Scientist   \n",
       "1           1                          Data Scientist - 05/12/21   \n",
       "2           2                                      Data Engineer   \n",
       "3           3  Safety Aggregate Reporting & Analytics Coordin...   \n",
       "4           4                               Senior Data Engineer   \n",
       "\n",
       "                     Company Name  \\\n",
       "0                 Metricsflow Inc   \n",
       "1  Acerta Analytics Solutions Inc   \n",
       "2              GoodLife Fitness\\n   \n",
       "3                           IQVIA   \n",
       "4           Samsung Electronics\\n   \n",
       "\n",
       "                                     Job Description         Location  \\\n",
       "0  At Metricsflow, we work to shape the future of...       St. John's   \n",
       "1  Acerta’s machine learning platforms leverage a...        Kitchener   \n",
       "2  Position Description\\n\\n\\n\\n\\nDATA ENGINEER\\n*...  Midtown Toronto   \n",
       "3  Job Overview\\nManage the administrative suppor...         Kirkland   \n",
       "4  Position Summary\\n\\nThe SmartThings Big Data t...        Vancouver   \n",
       "\n",
       "   Job Board  \n",
       "0  Glassdoor  \n",
       "1     Indeed  \n",
       "2  Glassdoor  \n",
       "3     Indeed  \n",
       "4  Glassdoor  "
      ]
     },
     "execution_count": 2,
     "metadata": {},
     "output_type": "execute_result"
    }
   ],
   "source": [
    "df.head()"
   ]
  },
  {
   "cell_type": "code",
   "execution_count": 3,
   "id": "0e0bf3ba",
   "metadata": {},
   "outputs": [],
   "source": [
    "df = df.drop(df.columns[0], axis = 1) "
   ]
  },
  {
   "cell_type": "code",
   "execution_count": 4,
   "id": "9a024ef9",
   "metadata": {},
   "outputs": [
    {
     "data": {
      "text/html": [
       "<div>\n",
       "<style scoped>\n",
       "    .dataframe tbody tr th:only-of-type {\n",
       "        vertical-align: middle;\n",
       "    }\n",
       "\n",
       "    .dataframe tbody tr th {\n",
       "        vertical-align: top;\n",
       "    }\n",
       "\n",
       "    .dataframe thead th {\n",
       "        text-align: right;\n",
       "    }\n",
       "</style>\n",
       "<table border=\"1\" class=\"dataframe\">\n",
       "  <thead>\n",
       "    <tr style=\"text-align: right;\">\n",
       "      <th></th>\n",
       "      <th>Job Title</th>\n",
       "      <th>Company Name</th>\n",
       "      <th>Job Description</th>\n",
       "      <th>Location</th>\n",
       "      <th>Job Board</th>\n",
       "    </tr>\n",
       "  </thead>\n",
       "  <tbody>\n",
       "    <tr>\n",
       "      <th>0</th>\n",
       "      <td>Data Scientist</td>\n",
       "      <td>Metricsflow Inc</td>\n",
       "      <td>At Metricsflow, we work to shape the future of...</td>\n",
       "      <td>St. John's</td>\n",
       "      <td>Glassdoor</td>\n",
       "    </tr>\n",
       "    <tr>\n",
       "      <th>1</th>\n",
       "      <td>Data Scientist - 05/12/21</td>\n",
       "      <td>Acerta Analytics Solutions Inc</td>\n",
       "      <td>Acerta’s machine learning platforms leverage a...</td>\n",
       "      <td>Kitchener</td>\n",
       "      <td>Indeed</td>\n",
       "    </tr>\n",
       "    <tr>\n",
       "      <th>2</th>\n",
       "      <td>Data Engineer</td>\n",
       "      <td>GoodLife Fitness\\n</td>\n",
       "      <td>Position Description\\n\\n\\n\\n\\nDATA ENGINEER\\n*...</td>\n",
       "      <td>Midtown Toronto</td>\n",
       "      <td>Glassdoor</td>\n",
       "    </tr>\n",
       "    <tr>\n",
       "      <th>3</th>\n",
       "      <td>Safety Aggregate Reporting &amp; Analytics Coordin...</td>\n",
       "      <td>IQVIA</td>\n",
       "      <td>Job Overview\\nManage the administrative suppor...</td>\n",
       "      <td>Kirkland</td>\n",
       "      <td>Indeed</td>\n",
       "    </tr>\n",
       "    <tr>\n",
       "      <th>4</th>\n",
       "      <td>Senior Data Engineer</td>\n",
       "      <td>Samsung Electronics\\n</td>\n",
       "      <td>Position Summary\\n\\nThe SmartThings Big Data t...</td>\n",
       "      <td>Vancouver</td>\n",
       "      <td>Glassdoor</td>\n",
       "    </tr>\n",
       "  </tbody>\n",
       "</table>\n",
       "</div>"
      ],
      "text/plain": [
       "                                           Job Title  \\\n",
       "0                                     Data Scientist   \n",
       "1                          Data Scientist - 05/12/21   \n",
       "2                                      Data Engineer   \n",
       "3  Safety Aggregate Reporting & Analytics Coordin...   \n",
       "4                               Senior Data Engineer   \n",
       "\n",
       "                     Company Name  \\\n",
       "0                 Metricsflow Inc   \n",
       "1  Acerta Analytics Solutions Inc   \n",
       "2              GoodLife Fitness\\n   \n",
       "3                           IQVIA   \n",
       "4           Samsung Electronics\\n   \n",
       "\n",
       "                                     Job Description         Location  \\\n",
       "0  At Metricsflow, we work to shape the future of...       St. John's   \n",
       "1  Acerta’s machine learning platforms leverage a...        Kitchener   \n",
       "2  Position Description\\n\\n\\n\\n\\nDATA ENGINEER\\n*...  Midtown Toronto   \n",
       "3  Job Overview\\nManage the administrative suppor...         Kirkland   \n",
       "4  Position Summary\\n\\nThe SmartThings Big Data t...        Vancouver   \n",
       "\n",
       "   Job Board  \n",
       "0  Glassdoor  \n",
       "1     Indeed  \n",
       "2  Glassdoor  \n",
       "3     Indeed  \n",
       "4  Glassdoor  "
      ]
     },
     "execution_count": 4,
     "metadata": {},
     "output_type": "execute_result"
    }
   ],
   "source": [
    "df.head()"
   ]
  },
  {
   "cell_type": "code",
   "execution_count": 5,
   "id": "d411c01b",
   "metadata": {},
   "outputs": [
    {
     "name": "stdout",
     "output_type": "stream",
     "text": [
      "<class 'pandas.core.frame.DataFrame'>\n",
      "RangeIndex: 881 entries, 0 to 880\n",
      "Data columns (total 5 columns):\n",
      " #   Column           Non-Null Count  Dtype \n",
      "---  ------           --------------  ----- \n",
      " 0   Job Title        881 non-null    object\n",
      " 1   Company Name     881 non-null    object\n",
      " 2   Job Description  881 non-null    object\n",
      " 3   Location         881 non-null    object\n",
      " 4   Job Board        881 non-null    object\n",
      "dtypes: object(5)\n",
      "memory usage: 34.5+ KB\n"
     ]
    }
   ],
   "source": [
    "df.info()"
   ]
  },
  {
   "cell_type": "code",
   "execution_count": 6,
   "id": "2d550558",
   "metadata": {},
   "outputs": [
    {
     "data": {
      "text/plain": [
       "<AxesSubplot:xlabel='Job Board', ylabel='Counts'>"
      ]
     },
     "execution_count": 6,
     "metadata": {},
     "output_type": "execute_result"
    },
    {
     "data": {
      "image/png": "[encoded data removed]",
      "text/plain": [
       "<Figure size 720x504 with 1 Axes>"
      ]
     },
     "metadata": {
      "needs_background": "light"
     },
     "output_type": "display_data"
    }
   ],
   "source": [
    "import matplotlib.pyplot as plt\n",
    "\n",
    "plt.figure(figsize=(10,7))\n",
    "\n",
    "plt.xlabel(\"Job Board\")\n",
    "plt.ylabel(\"Counts\")\n",
    "\n",
    "df[\"Job Board\"].value_counts().plot(kind='bar')"
   ]
  },
  {
   "cell_type": "code",
   "execution_count": 7,
   "id": "5fe3f4ad",
   "metadata": {},
   "outputs": [
    {
     "data": {
      "text/plain": [
       "<AxesSubplot:xlabel='Location', ylabel='Counts'>"
      ]
     },
     "execution_count": 7,
     "metadata": {},
     "output_type": "execute_result"
    },
    {
     "data": {
      "image/png": "[encoded data removed]",
      "text/plain": [
       "<Figure size 1080x936 with 1 Axes>"
      ]
     },
     "metadata": {
      "needs_background": "light"
     },
     "output_type": "display_data"
    }
   ],
   "source": [
    "plt.figure(figsize=(15,13))\n",
    "\n",
    "plt.xlabel(\"Location\")\n",
    "plt.ylabel(\"Counts\")\n",
    "df[\"Location\"].value_counts().plot(kind='bar')"
   ]
  },
  {
   "cell_type": "markdown",
   "id": "a61b45c8",
   "metadata": {},
   "source": [
    "### Most Frequent Job Titles"
   ]
  },
  {
   "cell_type": "code",
   "execution_count": 9,
   "id": "254d8725",
   "metadata": {},
   "outputs": [
    {
     "data": {
      "text/plain": [
       "['Data Scientist',\n",
       " 'Data Engineer',\n",
       " 'Senior Data Scientist',\n",
       " 'Senior Data Analyst',\n",
       " 'Machine Learning Engineer',\n",
       " 'Lead Data Scientist',\n",
       " 'Data Analyst',\n",
       " 'Senior Data Engineer',\n",
       " 'Sr. Data Analyst',\n",
       " 'Big Data Engineer']"
      ]
     },
     "execution_count": 9,
     "metadata": {},
     "output_type": "execute_result"
    }
   ],
   "source": [
    "df['Job Title'].value_counts()[:10].index.tolist()\n"
   ]
  },
  {
   "cell_type": "markdown",
   "id": "65edcf8f",
   "metadata": {},
   "source": [
    "### Least Frequent Job Titles"
   ]
  },
  {
   "cell_type": "code",
   "execution_count": 10,
   "id": "52314e47",
   "metadata": {},
   "outputs": [
    {
     "data": {
      "text/plain": [
       "['Data Analyst (Research)',\n",
       " 'Data Science Manager',\n",
       " 'Part-Time Content Creator - Data Analytics',\n",
       " 'Research Scientist - Visual Analytics',\n",
       " 'Data and Applied Scientist',\n",
       " 'Data Scientist / Senior Data Scientist - North American Integrated Analytics',\n",
       " 'Senior Optical Simulation Engineer or Scientist',\n",
       " 'AI Developer - ATG',\n",
       " 'Architecte de données / Data Architect - 312699',\n",
       " 'CPXE-Data & AI Growth Analytics Analyst']"
      ]
     },
     "execution_count": 10,
     "metadata": {},
     "output_type": "execute_result"
    }
   ],
   "source": [
    "df['Job Title'].value_counts()[-10:].index.tolist()\n"
   ]
  },
  {
   "cell_type": "code",
   "execution_count": 11,
   "id": "d0fe7d8b",
   "metadata": {},
   "outputs": [
    {
     "data": {
      "text/plain": [
       "Job Title          0\n",
       "Company Name       0\n",
       "Job Description    0\n",
       "Location           0\n",
       "Job Board          0\n",
       "dtype: int64"
      ]
     },
     "execution_count": 11,
     "metadata": {},
     "output_type": "execute_result"
    }
   ],
   "source": [
    "#check for null values\n",
    "df.isnull().sum()"
   ]
  },
  {
   "cell_type": "code",
   "execution_count": 12,
   "id": "fc03ae31",
   "metadata": {},
   "outputs": [],
   "source": [
    "#drop null values\n",
    "#df = df.dropna(subset = ['Job Description'])\n",
    "#df.isnull().sum()"
   ]
  },
  {
   "cell_type": "code",
   "execution_count": 13,
   "id": "4f9d1328",
   "metadata": {},
   "outputs": [
    {
     "data": {
      "text/html": [
       "<div>\n",
       "<style scoped>\n",
       "    .dataframe tbody tr th:only-of-type {\n",
       "        vertical-align: middle;\n",
       "    }\n",
       "\n",
       "    .dataframe tbody tr th {\n",
       "        vertical-align: top;\n",
       "    }\n",
       "\n",
       "    .dataframe thead th {\n",
       "        text-align: right;\n",
       "    }\n",
       "</style>\n",
       "<table border=\"1\" class=\"dataframe\">\n",
       "  <thead>\n",
       "    <tr style=\"text-align: right;\">\n",
       "      <th></th>\n",
       "      <th>Job Title</th>\n",
       "    </tr>\n",
       "  </thead>\n",
       "  <tbody>\n",
       "    <tr>\n",
       "      <th>852</th>\n",
       "      <td>HEAD OF ANALYTICS &amp; INSIGHTS/DATA SCIENTIST</td>\n",
       "    </tr>\n",
       "    <tr>\n",
       "      <th>207</th>\n",
       "      <td>Machine Learning Engineer</td>\n",
       "    </tr>\n",
       "    <tr>\n",
       "      <th>627</th>\n",
       "      <td>Data Engineer / Power BI Developer, Omnia AI</td>\n",
       "    </tr>\n",
       "    <tr>\n",
       "      <th>671</th>\n",
       "      <td>Junior Business Intelligence Developer - Data ...</td>\n",
       "    </tr>\n",
       "    <tr>\n",
       "      <th>661</th>\n",
       "      <td>Data Scientist Technical Lead (Montreal), Inta...</td>\n",
       "    </tr>\n",
       "    <tr>\n",
       "      <th>489</th>\n",
       "      <td>Bio informaticien/Bioinformatics scientist</td>\n",
       "    </tr>\n",
       "    <tr>\n",
       "      <th>434</th>\n",
       "      <td>Data Scientist</td>\n",
       "    </tr>\n",
       "    <tr>\n",
       "      <th>448</th>\n",
       "      <td>Scientifique de données / Data Scientist</td>\n",
       "    </tr>\n",
       "    <tr>\n",
       "      <th>634</th>\n",
       "      <td>Data Management Specialist - Immunotoxicology</td>\n",
       "    </tr>\n",
       "    <tr>\n",
       "      <th>748</th>\n",
       "      <td>Data Scientist</td>\n",
       "    </tr>\n",
       "  </tbody>\n",
       "</table>\n",
       "</div>"
      ],
      "text/plain": [
       "                                             Job Title\n",
       "852        HEAD OF ANALYTICS & INSIGHTS/DATA SCIENTIST\n",
       "207                          Machine Learning Engineer\n",
       "627       Data Engineer / Power BI Developer, Omnia AI\n",
       "671  Junior Business Intelligence Developer - Data ...\n",
       "661  Data Scientist Technical Lead (Montreal), Inta...\n",
       "489         Bio informaticien/Bioinformatics scientist\n",
       "434                                     Data Scientist\n",
       "448           Scientifique de données / Data Scientist\n",
       "634      Data Management Specialist - Immunotoxicology\n",
       "748                                     Data Scientist"
      ]
     },
     "execution_count": 13,
     "metadata": {},
     "output_type": "execute_result"
    }
   ],
   "source": [
    "#Extract titles for analysis\n",
    "job_title_df = df['Job Title'].to_frame()\n",
    "job_title_df.sample(10, random_state = 5)"
   ]
  },
  {
   "cell_type": "code",
   "execution_count": 14,
   "id": "ea785ddc",
   "metadata": {},
   "outputs": [
    {
     "data": {
      "text/plain": [
       "<AxesSubplot:xlabel='Job Title length', ylabel='No. of jobs'>"
      ]
     },
     "execution_count": 14,
     "metadata": {},
     "output_type": "execute_result"
    },
    {
     "data": {
      "image/png": "[encoded data removed]",
      "text/plain": [
       "<Figure size 504x504 with 1 Axes>"
      ]
     },
     "metadata": {
      "needs_background": "light"
     },
     "output_type": "display_data"
    }
   ],
   "source": [
    "# visualizing title length\n",
    "\n",
    "plt.figure(figsize=(7,7))\n",
    "plt.xlabel(\"Job Title length\")\n",
    "plt.ylabel(\"No. of jobs\")\n",
    "\n",
    "job_title_df['Job Title'].str.len().hist()"
   ]
  },
  {
   "cell_type": "markdown",
   "id": "ecdeeea9",
   "metadata": {},
   "source": [
    "### Job Title Length\n",
    "Most Jobs have shorter titles, because most of the Job titles are generic. Few jobs have really long titles because the product or company name is added."
   ]
  },
  {
   "cell_type": "code",
   "execution_count": 15,
   "id": "bd0dc5cb",
   "metadata": {},
   "outputs": [
    {
     "data": {
      "text/html": [
       "<div>\n",
       "<style scoped>\n",
       "    .dataframe tbody tr th:only-of-type {\n",
       "        vertical-align: middle;\n",
       "    }\n",
       "\n",
       "    .dataframe tbody tr th {\n",
       "        vertical-align: top;\n",
       "    }\n",
       "\n",
       "    .dataframe thead th {\n",
       "        text-align: right;\n",
       "    }\n",
       "</style>\n",
       "<table border=\"1\" class=\"dataframe\">\n",
       "  <thead>\n",
       "    <tr style=\"text-align: right;\">\n",
       "      <th></th>\n",
       "      <th>Job Description</th>\n",
       "    </tr>\n",
       "  </thead>\n",
       "  <tbody>\n",
       "    <tr>\n",
       "      <th>852</th>\n",
       "      <td>For over 25 years we’ve been helping our commu...</td>\n",
       "    </tr>\n",
       "    <tr>\n",
       "      <th>207</th>\n",
       "      <td>About the job\\nIndividually we are people, but...</td>\n",
       "    </tr>\n",
       "    <tr>\n",
       "      <th>627</th>\n",
       "      <td>Job Type: Permanent\\nPrimary Location: Vancouv...</td>\n",
       "    </tr>\n",
       "    <tr>\n",
       "      <th>671</th>\n",
       "      <td>Our subsidiary is in PropTech and real estate ...</td>\n",
       "    </tr>\n",
       "    <tr>\n",
       "      <th>661</th>\n",
       "      <td>Who needs insurance? Everybody. That keeps us ...</td>\n",
       "    </tr>\n",
       "    <tr>\n",
       "      <th>489</th>\n",
       "      <td>Avant le SRAS-CoV-2, un vaccin qui était dével...</td>\n",
       "    </tr>\n",
       "    <tr>\n",
       "      <th>434</th>\n",
       "      <td>RESPONSIBILITIES:\\nDevelop state-of-the-art co...</td>\n",
       "    </tr>\n",
       "    <tr>\n",
       "      <th>448</th>\n",
       "      <td>Qui sommes-nous :\\nBusPatrouille est une entre...</td>\n",
       "    </tr>\n",
       "    <tr>\n",
       "      <th>634</th>\n",
       "      <td>For 70 years, Charles River employees have wor...</td>\n",
       "    </tr>\n",
       "    <tr>\n",
       "      <th>748</th>\n",
       "      <td>We're transforming the Cyber Security industry...</td>\n",
       "    </tr>\n",
       "  </tbody>\n",
       "</table>\n",
       "</div>"
      ],
      "text/plain": [
       "                                       Job Description\n",
       "852  For over 25 years we’ve been helping our commu...\n",
       "207  About the job\\nIndividually we are people, but...\n",
       "627  Job Type: Permanent\\nPrimary Location: Vancouv...\n",
       "671  Our subsidiary is in PropTech and real estate ...\n",
       "661  Who needs insurance? Everybody. That keeps us ...\n",
       "489  Avant le SRAS-CoV-2, un vaccin qui était dével...\n",
       "434  RESPONSIBILITIES:\\nDevelop state-of-the-art co...\n",
       "448  Qui sommes-nous :\\nBusPatrouille est une entre...\n",
       "634  For 70 years, Charles River employees have wor...\n",
       "748  We're transforming the Cyber Security industry..."
      ]
     },
     "execution_count": 15,
     "metadata": {},
     "output_type": "execute_result"
    }
   ],
   "source": [
    "#Extracting Job Descriptions\n",
    "desc_df = df['Job Description'].to_frame()\n",
    "desc_df.sample(10, random_state=5)\n"
   ]
  },
  {
   "cell_type": "code",
   "execution_count": 18,
   "id": "5ef9f2e5",
   "metadata": {},
   "outputs": [
    {
     "data": {
      "text/plain": [
       "\"About Fiix\\nFiix is on a mission to build better maintenance teams by connecting customers to the tools, resources, and technology they need to join the future of maintenance. We help our customers drive better business outcomes with easy-to-use, AI-driven maintenance software, an open ecosystem, pre-built integrations and the industry expertise they need for maintenance success. There are over 2600 maintenance teams in 90+ countries using Fiix to improve communication, asset health, and even sustainability.\\nCreating positive social impact is baked into our company DNA, and as one of Canada’s fastest-growing companies and Best Workplaces, we’re transforming an industry and doing it the right way.\\n\\nAbout the team\\nOur Fiixers are the key to our success. Our team is made up of professionals who bring together a variety of experiences, backgrounds and perspectives. We celebrate the diversity of our people and place a high value on creating an environment where everyone can bring their whole self to work.\\n\\nAs a Fiixer, you will work in a caring and collaborative culture, alongside people who are passionate and purpose-driven. You’ll have the support and resources you need to grow, achieve your professional goals and develop your career for the future.\\n\\nIn our fast-paced, high-growth environment, you’ll have the opportunity to work on challenging projects, develop your expertise and pursue leadership, within and outside of your role. Plus, as a BCorp certified organization, there are tons of opportunities to make an impact! Take paid time off to volunteer in your community, start up a new committee, join an employee resource group, or mentor other Fiixers. Best of all, you’ll have the flexibility to work remotely or come and experience our awesome office. No matter where you’re working from, we’re committed to ensuring that the Fiixer experience is best in class!\\n\\nWe’re looking for a Software Developer focused to join our Applied AI team and help take Fiix’s explosive growth to a whole new level. We think most software is too complex, too many features with too many promises. We're on a mission to change that - to build truly superior software that changes the way people work. Our team is growing fast and we're looking for talented developers just like you that are hungry to innovate.\\nWhat you will do:\\nEnd to end development from architecture to deployment of new Applied AI products\\nWork with team to design, build, maintain and optimize our data management and analytics pipeline\\nPartner with machine learning engineering to support model development and deployment, including infrastructure and prediction delivery\\nLead development of the AI team's deployment and CI/CD infrastructure\\nWhat we're looking for:\\n3+ years’ software development experience using Python or Java with RDBMS\\nProficiency in software engineering fundamentals – data structures, algorithms and design\\nExperience with distributed cloud-native systems, ideally with working knowledge of message- or stream-oriented architectures\\nExperience building and optimizing data pipelines, architectures and data sets\\nInterest and ability to learn new technologies\\nFamiliarity with AWS, ideally using an infrastructure as code (IaC) approach and tooling\\nExposure to modern frontend development with ES6 (TypeScript preferred) and Angular 2+ or React\\nExperience with testing tools and methodologies (i.e. unit testing, integration testing, performance and capacity testing)\\nExperience with Git-based SCM\\nSelf-starter with a strong desire to work on a small collaborative team in an agile environment\\nExperience with Kubernetes and TerraForm will be a plus\\nIdeally B.Sc. or above in Computer Science or equivalent\\nEquity Statement\\n\\nAt Fiix, we recognize that people come with a wealth of experience and talent beyond just the technical requirements of a job. If your experience is close to what you see listed here, please still consider applying. Diversity of experience and skills combined with passion is a key to innovation and excellence. Therefore, we encourage people from all backgrounds to apply to our positions. Please let us know if you require accommodations during the interview process.\""
      ]
     },
     "execution_count": 18,
     "metadata": {},
     "output_type": "execute_result"
    }
   ],
   "source": [
    "desc_df['Job Description'][455]"
   ]
  },
  {
   "cell_type": "code",
   "execution_count": 19,
   "id": "3a3687f7",
   "metadata": {},
   "outputs": [],
   "source": [
    "#clean titles by creating a new column with the french version?\n",
    "#What differentiates jobs with intern or Manager or Research in the title?"
   ]
  },
  {
   "cell_type": "markdown",
   "id": "1d8bd7e0",
   "metadata": {},
   "source": [
    "Some Job descriptions were truncated, so I had to inspect my scraper. Apparently the glassdoor scraper was truncating some description because of list tags in some job descriptions. "
   ]
  },
  {
   "cell_type": "code",
   "execution_count": 47,
   "id": "fbd71d78",
   "metadata": {},
   "outputs": [
    {
     "data": {
      "text/plain": [
       "<AxesSubplot:xlabel='Job Description length', ylabel='No. of jobs'>"
      ]
     },
     "execution_count": 47,
     "metadata": {},
     "output_type": "execute_result"
    },
    {
     "data": {
      "image/png": "[encoded data removed]",
      "text/plain": [
       "<Figure size 504x504 with 1 Axes>"
      ]
     },
     "metadata": {},
     "output_type": "display_data"
    }
   ],
   "source": [
    "# visualizing title length\n",
    "\n",
    "plt.figure(figsize=(7,7))\n",
    "plt.xlabel(\"Job Description length\")\n",
    "plt.ylabel(\"No. of jobs\")\n",
    "\n",
    "desc_df['Job Description'].str.len().hist()"
   ]
  },
  {
   "cell_type": "code",
   "execution_count": 52,
   "id": "38772318",
   "metadata": {},
   "outputs": [
    {
     "data": {
      "text/plain": [
       "55"
      ]
     },
     "execution_count": 52,
     "metadata": {},
     "output_type": "execute_result"
    }
   ],
   "source": [
    "len(desc_df['Job Description'][:55])"
   ]
  },
  {
   "cell_type": "code",
   "execution_count": 20,
   "id": "5ded056a",
   "metadata": {},
   "outputs": [
    {
     "name": "stderr",
     "output_type": "stream",
     "text": [
      "[nltk_data] Downloading package punkt to /Users/olohireme/nltk_data...\n",
      "[nltk_data]   Package punkt is already up-to-date!\n",
      "[nltk_data] Downloading package averaged_perceptron_tagger to\n",
      "[nltk_data]     /Users/olohireme/nltk_data...\n",
      "[nltk_data]   Package averaged_perceptron_tagger is already up-to-\n",
      "[nltk_data]       date!\n"
     ]
    }
   ],
   "source": [
    "import nltk\n",
    "nltk.download('punkt')\n",
    "nltk.download('averaged_perceptron_tagger')\n",
    "from nltk.tokenize import word_tokenize"
   ]
  },
  {
   "cell_type": "code",
   "execution_count": 27,
   "id": "0684ed5b",
   "metadata": {},
   "outputs": [],
   "source": [
    "import contractions"
   ]
  },
  {
   "cell_type": "code",
   "execution_count": 28,
   "id": "a6ad1924",
   "metadata": {},
   "outputs": [
    {
     "data": {
      "text/html": [
       "<div>\n",
       "<style scoped>\n",
       "    .dataframe tbody tr th:only-of-type {\n",
       "        vertical-align: middle;\n",
       "    }\n",
       "\n",
       "    .dataframe tbody tr th {\n",
       "        vertical-align: top;\n",
       "    }\n",
       "\n",
       "    .dataframe thead th {\n",
       "        text-align: right;\n",
       "    }\n",
       "</style>\n",
       "<table border=\"1\" class=\"dataframe\">\n",
       "  <thead>\n",
       "    <tr style=\"text-align: right;\">\n",
       "      <th></th>\n",
       "      <th>Job Description</th>\n",
       "    </tr>\n",
       "  </thead>\n",
       "  <tbody>\n",
       "    <tr>\n",
       "      <th>852</th>\n",
       "      <td>[For, over, 25, years, we have, been, helping,...</td>\n",
       "    </tr>\n",
       "    <tr>\n",
       "      <th>207</th>\n",
       "      <td>[About, the, job, Individually, we, are, peopl...</td>\n",
       "    </tr>\n",
       "    <tr>\n",
       "      <th>627</th>\n",
       "      <td>[Job, Type:, Permanent, Primary, Location:, Va...</td>\n",
       "    </tr>\n",
       "    <tr>\n",
       "      <th>671</th>\n",
       "      <td>[Our, subsidiary, is, in, PropTech, and, real,...</td>\n",
       "    </tr>\n",
       "    <tr>\n",
       "      <th>661</th>\n",
       "      <td>[Who, needs, insurance?, Everybody., That, kee...</td>\n",
       "    </tr>\n",
       "    <tr>\n",
       "      <th>489</th>\n",
       "      <td>[Avant, le, SRAS-CoV-2,, un, vaccin, qui, étai...</td>\n",
       "    </tr>\n",
       "    <tr>\n",
       "      <th>434</th>\n",
       "      <td>[RESPONSIBILITIES:, Develop, state-of-the-art,...</td>\n",
       "    </tr>\n",
       "    <tr>\n",
       "      <th>448</th>\n",
       "      <td>[Qui, sommes-nous, :, BusPatrouille, est, une,...</td>\n",
       "    </tr>\n",
       "    <tr>\n",
       "      <th>634</th>\n",
       "      <td>[For, 70, years,, Charles, River, employees, h...</td>\n",
       "    </tr>\n",
       "    <tr>\n",
       "      <th>748</th>\n",
       "      <td>[we are, transforming, the, Cyber, Security, i...</td>\n",
       "    </tr>\n",
       "  </tbody>\n",
       "</table>\n",
       "</div>"
      ],
      "text/plain": [
       "                                       Job Description\n",
       "852  [For, over, 25, years, we have, been, helping,...\n",
       "207  [About, the, job, Individually, we, are, peopl...\n",
       "627  [Job, Type:, Permanent, Primary, Location:, Va...\n",
       "671  [Our, subsidiary, is, in, PropTech, and, real,...\n",
       "661  [Who, needs, insurance?, Everybody., That, kee...\n",
       "489  [Avant, le, SRAS-CoV-2,, un, vaccin, qui, étai...\n",
       "434  [RESPONSIBILITIES:, Develop, state-of-the-art,...\n",
       "448  [Qui, sommes-nous, :, BusPatrouille, est, une,...\n",
       "634  [For, 70, years,, Charles, River, employees, h...\n",
       "748  [we are, transforming, the, Cyber, Security, i..."
      ]
     },
     "execution_count": 28,
     "metadata": {},
     "output_type": "execute_result"
    }
   ],
   "source": [
    "desc_df['Job Description'] = desc_df['Job Description'].apply(lambda x: [contractions.fix(word) for word in x.split()])\n",
    "desc_df.sample(10, random_state = 5)"
   ]
  },
  {
   "cell_type": "code",
   "execution_count": 32,
   "id": "7ba49c32",
   "metadata": {},
   "outputs": [
    {
     "data": {
      "text/html": [
       "<div>\n",
       "<style scoped>\n",
       "    .dataframe tbody tr th:only-of-type {\n",
       "        vertical-align: middle;\n",
       "    }\n",
       "\n",
       "    .dataframe tbody tr th {\n",
       "        vertical-align: top;\n",
       "    }\n",
       "\n",
       "    .dataframe thead th {\n",
       "        text-align: right;\n",
       "    }\n",
       "</style>\n",
       "<table border=\"1\" class=\"dataframe\">\n",
       "  <thead>\n",
       "    <tr style=\"text-align: right;\">\n",
       "      <th></th>\n",
       "      <th>Job Description</th>\n",
       "      <th>content</th>\n",
       "    </tr>\n",
       "  </thead>\n",
       "  <tbody>\n",
       "    <tr>\n",
       "      <th>852</th>\n",
       "      <td>For over 25 years we have been helping our com...</td>\n",
       "      <td>For over 25 years we have been helping our com...</td>\n",
       "    </tr>\n",
       "    <tr>\n",
       "      <th>207</th>\n",
       "      <td>About the job Individually we are people, but ...</td>\n",
       "      <td>About the job Individually we are people, but ...</td>\n",
       "    </tr>\n",
       "    <tr>\n",
       "      <th>627</th>\n",
       "      <td>Job Type: Permanent Primary Location: Vancouve...</td>\n",
       "      <td>Job Type: Permanent Primary Location: Vancouve...</td>\n",
       "    </tr>\n",
       "    <tr>\n",
       "      <th>671</th>\n",
       "      <td>Our subsidiary is in PropTech and real estate ...</td>\n",
       "      <td>Our subsidiary is in PropTech and real estate ...</td>\n",
       "    </tr>\n",
       "    <tr>\n",
       "      <th>661</th>\n",
       "      <td>Who needs insurance? Everybody. That keeps us ...</td>\n",
       "      <td>Who needs insurance? Everybody. That keeps us ...</td>\n",
       "    </tr>\n",
       "    <tr>\n",
       "      <th>489</th>\n",
       "      <td>Avant le SRAS-CoV-2, un vaccin qui était dével...</td>\n",
       "      <td>Avant le SRAS-CoV-2, un vaccin qui était dével...</td>\n",
       "    </tr>\n",
       "    <tr>\n",
       "      <th>434</th>\n",
       "      <td>RESPONSIBILITIES: Develop state-of-the-art com...</td>\n",
       "      <td>RESPONSIBILITIES: Develop state-of-the-art com...</td>\n",
       "    </tr>\n",
       "    <tr>\n",
       "      <th>448</th>\n",
       "      <td>Qui sommes-nous : BusPatrouille est une entrep...</td>\n",
       "      <td>Qui sommes-nous : BusPatrouille est une entrep...</td>\n",
       "    </tr>\n",
       "    <tr>\n",
       "      <th>634</th>\n",
       "      <td>For 70 years, Charles River employees have wor...</td>\n",
       "      <td>For 70 years, Charles River employees have wor...</td>\n",
       "    </tr>\n",
       "    <tr>\n",
       "      <th>748</th>\n",
       "      <td>we are transforming the Cyber Security industr...</td>\n",
       "      <td>we are transforming the Cyber Security industr...</td>\n",
       "    </tr>\n",
       "  </tbody>\n",
       "</table>\n",
       "</div>"
      ],
      "text/plain": [
       "                                       Job Description  \\\n",
       "852  For over 25 years we have been helping our com...   \n",
       "207  About the job Individually we are people, but ...   \n",
       "627  Job Type: Permanent Primary Location: Vancouve...   \n",
       "671  Our subsidiary is in PropTech and real estate ...   \n",
       "661  Who needs insurance? Everybody. That keeps us ...   \n",
       "489  Avant le SRAS-CoV-2, un vaccin qui était dével...   \n",
       "434  RESPONSIBILITIES: Develop state-of-the-art com...   \n",
       "448  Qui sommes-nous : BusPatrouille est une entrep...   \n",
       "634  For 70 years, Charles River employees have wor...   \n",
       "748  we are transforming the Cyber Security industr...   \n",
       "\n",
       "                                               content  \n",
       "852  For over 25 years we have been helping our com...  \n",
       "207  About the job Individually we are people, but ...  \n",
       "627  Job Type: Permanent Primary Location: Vancouve...  \n",
       "671  Our subsidiary is in PropTech and real estate ...  \n",
       "661  Who needs insurance? Everybody. That keeps us ...  \n",
       "489  Avant le SRAS-CoV-2, un vaccin qui était dével...  \n",
       "434  RESPONSIBILITIES: Develop state-of-the-art com...  \n",
       "448  Qui sommes-nous : BusPatrouille est une entrep...  \n",
       "634  For 70 years, Charles River employees have wor...  \n",
       "748  we are transforming the Cyber Security industr...  "
      ]
     },
     "execution_count": 32,
     "metadata": {},
     "output_type": "execute_result"
    }
   ],
   "source": [
    "#cocatenating items back into a single string\n",
    "desc_df['Job Description'] = [' '.join(map(str, l)) for l in desc_df['Job Description']]\n",
    "desc_df.sample(10, random_state = 5)"
   ]
  },
  {
   "cell_type": "code",
   "execution_count": 33,
   "id": "80044774",
   "metadata": {},
   "outputs": [
    {
     "data": {
      "text/plain": [
       "\"About Fiix Fiix is on a mission to build better maintenance teams by connecting customers to the tools, resources, and technology they need to join the future of maintenance. We help our customers drive better business outcomes with easy-to-use, AI-driven maintenance software, an open ecosystem, pre-built integrations and the industry expertise they need for maintenance success. There are over 2600 maintenance teams in 90+ countries using Fiix to improve communication, asset health, and even sustainability. Creating positive social impact is baked into our company DNA, and as one of Canada’s fastest-growing companies and Best Workplaces, we are transforming an industry and doing it the right way. About the team Our Fiixers are the key to our success. Our team is made up of professionals who bring together a variety of experiences, backgrounds and perspectives. We celebrate the diversity of our people and place a high value on creating an environment where everyone can bring their whole self to work. As a Fiixer, you will work in a caring and collaborative culture, alongside people who are passionate and purpose-driven. you will have the support and resources you need to grow, achieve your professional goals and develop your career for the future. In our fast-paced, high-growth environment, you will have the opportunity to work on challenging projects, develop your expertise and pursue leadership, within and outside of your role. Plus, as a BCorp certified organization, there are tons of opportunities to make an impact! Take paid time off to volunteer in your community, start up a new committee, join an employee resource group, or mentor other Fiixers. Best of all, you will have the flexibility to work remotely or come and experience our awesome office. No matter where you are working from, we are committed to ensuring that the Fiixer experience is best in class! we are looking for a Software Developer focused to join our Applied AI team and help take Fiix’s explosive growth to a whole new level. We think most software is too complex, too many features with too many promises. we are on a mission to change that - to build truly superior software that changes the way people work. Our team is growing fast and we are looking for talented developers just like you that are hungry to innovate. What you will do: End to end development from architecture to deployment of new Applied AI products Work with team to design, build, maintain and optimize our data management and analytics pipeline Partner with machine learning engineering to support model development and deployment, including infrastructure and prediction delivery Lead development of the AI team's deployment and CI/CD infrastructure What we are looking for: 3+ years’ software development experience using Python or Java with RDBMS Proficiency in software engineering fundamentals – data structures, algorithms and design Experience with distributed cloud-native systems, ideally with working knowledge of message- or stream-oriented architectures Experience building and optimizing data pipelines, architectures and data sets Interest and ability to learn new technologies Familiarity with AWS, ideally using an infrastructure as code (IaC) approach and tooling Exposure to modern frontend development with ES6 (TypeScript preferred) and Angular 2+ or React Experience with testing tools and methodologies (i.e. unit testing, integration testing, performance and capacity testing) Experience with Git-based SCM Self-starter with a strong desire to work on a small collaborative team in an agile environment Experience with Kubernetes and TerraForm will be a plus Ideally B.Sc. or above in Computer Science or equivalent Equity Statement At Fiix, we recognize that people come with a wealth of experience and talent beyond just the technical requirements of a job. If your experience is close to what you see listed here, please still consider applying. Diversity of experience and skills combined with passion is a key to innovation and excellence. Therefore, we encourage people from all backgrounds to apply to our positions. Please let us know if you require accommodations during the interview process.\""
      ]
     },
     "execution_count": 33,
     "metadata": {},
     "output_type": "execute_result"
    }
   ],
   "source": [
    "#observe changes\n",
    "desc_df['Job Description'][455]"
   ]
  },
  {
   "cell_type": "markdown",
   "id": "9c55fc32",
   "metadata": {},
   "source": [
    "### Contractions\n",
    "Words like you'll and we're were converted to full forms e.g You will and We are. Possesives like Canada's were unaffected"
   ]
  },
  {
   "cell_type": "markdown",
   "id": "64c25b1d",
   "metadata": {},
   "source": [
    "### Noise Cleaning"
   ]
  },
  {
   "cell_type": "code",
   "execution_count": 34,
   "id": "579bf547",
   "metadata": {},
   "outputs": [
    {
     "data": {
      "text/html": [
       "<div>\n",
       "<style scoped>\n",
       "    .dataframe tbody tr th:only-of-type {\n",
       "        vertical-align: middle;\n",
       "    }\n",
       "\n",
       "    .dataframe tbody tr th {\n",
       "        vertical-align: top;\n",
       "    }\n",
       "\n",
       "    .dataframe thead th {\n",
       "        text-align: right;\n",
       "    }\n",
       "</style>\n",
       "<table border=\"1\" class=\"dataframe\">\n",
       "  <thead>\n",
       "    <tr style=\"text-align: right;\">\n",
       "      <th></th>\n",
       "      <th>Job Description</th>\n",
       "      <th>content</th>\n",
       "    </tr>\n",
       "  </thead>\n",
       "  <tbody>\n",
       "    <tr>\n",
       "      <th>852</th>\n",
       "      <td>for over 25 years we have been helping our com...</td>\n",
       "      <td>For over 25 years we have been helping our com...</td>\n",
       "    </tr>\n",
       "    <tr>\n",
       "      <th>207</th>\n",
       "      <td>about the job individually we are people but t...</td>\n",
       "      <td>About the job Individually we are people, but ...</td>\n",
       "    </tr>\n",
       "    <tr>\n",
       "      <th>627</th>\n",
       "      <td>job type permanent primary location vancouver ...</td>\n",
       "      <td>Job Type: Permanent Primary Location: Vancouve...</td>\n",
       "    </tr>\n",
       "    <tr>\n",
       "      <th>671</th>\n",
       "      <td>our subsidiary is in proptech and real estate ...</td>\n",
       "      <td>Our subsidiary is in PropTech and real estate ...</td>\n",
       "    </tr>\n",
       "    <tr>\n",
       "      <th>661</th>\n",
       "      <td>who needs insurance everybody that keeps us bu...</td>\n",
       "      <td>Who needs insurance? Everybody. That keeps us ...</td>\n",
       "    </tr>\n",
       "    <tr>\n",
       "      <th>489</th>\n",
       "      <td>avant le srascov2 un vaccin qui était développ...</td>\n",
       "      <td>Avant le SRAS-CoV-2, un vaccin qui était dével...</td>\n",
       "    </tr>\n",
       "    <tr>\n",
       "      <th>434</th>\n",
       "      <td>responsibilities develop stateoftheart compute...</td>\n",
       "      <td>RESPONSIBILITIES: Develop state-of-the-art com...</td>\n",
       "    </tr>\n",
       "    <tr>\n",
       "      <th>448</th>\n",
       "      <td>qui sommesnous  buspatrouille est une entrepri...</td>\n",
       "      <td>Qui sommes-nous : BusPatrouille est une entrep...</td>\n",
       "    </tr>\n",
       "    <tr>\n",
       "      <th>634</th>\n",
       "      <td>for 70 years charles river employees have work...</td>\n",
       "      <td>For 70 years, Charles River employees have wor...</td>\n",
       "    </tr>\n",
       "    <tr>\n",
       "      <th>748</th>\n",
       "      <td>we are transforming the cyber security industr...</td>\n",
       "      <td>we are transforming the Cyber Security industr...</td>\n",
       "    </tr>\n",
       "  </tbody>\n",
       "</table>\n",
       "</div>"
      ],
      "text/plain": [
       "                                       Job Description  \\\n",
       "852  for over 25 years we have been helping our com...   \n",
       "207  about the job individually we are people but t...   \n",
       "627  job type permanent primary location vancouver ...   \n",
       "671  our subsidiary is in proptech and real estate ...   \n",
       "661  who needs insurance everybody that keeps us bu...   \n",
       "489  avant le srascov2 un vaccin qui était développ...   \n",
       "434  responsibilities develop stateoftheart compute...   \n",
       "448  qui sommesnous  buspatrouille est une entrepri...   \n",
       "634  for 70 years charles river employees have work...   \n",
       "748  we are transforming the cyber security industr...   \n",
       "\n",
       "                                               content  \n",
       "852  For over 25 years we have been helping our com...  \n",
       "207  About the job Individually we are people, but ...  \n",
       "627  Job Type: Permanent Primary Location: Vancouve...  \n",
       "671  Our subsidiary is in PropTech and real estate ...  \n",
       "661  Who needs insurance? Everybody. That keeps us ...  \n",
       "489  Avant le SRAS-CoV-2, un vaccin qui était dével...  \n",
       "434  RESPONSIBILITIES: Develop state-of-the-art com...  \n",
       "448  Qui sommes-nous : BusPatrouille est une entrep...  \n",
       "634  For 70 years, Charles River employees have wor...  \n",
       "748  we are transforming the Cyber Security industr...  "
      ]
     },
     "execution_count": 34,
     "metadata": {},
     "output_type": "execute_result"
    }
   ],
   "source": [
    "import regex as re\n",
    "desc_df['Job Description'] = desc_df['Job Description'].str.lower()\n",
    "desc_df['Job Description'] = desc_df['Job Description'].apply(lambda x: re.sub(r'[^\\w\\d\\s\\']+', '', x))\n",
    "desc_df.sample(10, random_state = 5)"
   ]
  },
  {
   "cell_type": "code",
   "execution_count": 39,
   "id": "deb3b7af",
   "metadata": {},
   "outputs": [
    {
     "data": {
      "text/html": [
       "<div>\n",
       "<style scoped>\n",
       "    .dataframe tbody tr th:only-of-type {\n",
       "        vertical-align: middle;\n",
       "    }\n",
       "\n",
       "    .dataframe tbody tr th {\n",
       "        vertical-align: top;\n",
       "    }\n",
       "\n",
       "    .dataframe thead th {\n",
       "        text-align: right;\n",
       "    }\n",
       "</style>\n",
       "<table border=\"1\" class=\"dataframe\">\n",
       "  <thead>\n",
       "    <tr style=\"text-align: right;\">\n",
       "      <th></th>\n",
       "      <th>Job Description</th>\n",
       "      <th>tokenized_desc</th>\n",
       "    </tr>\n",
       "  </thead>\n",
       "  <tbody>\n",
       "    <tr>\n",
       "      <th>852</th>\n",
       "      <td>for over 25 years we have been helping our com...</td>\n",
       "      <td>[for, over, 25, years, we, have, been, helping...</td>\n",
       "    </tr>\n",
       "    <tr>\n",
       "      <th>207</th>\n",
       "      <td>about the job individually we are people but t...</td>\n",
       "      <td>[about, the, job, individually, we, are, peopl...</td>\n",
       "    </tr>\n",
       "    <tr>\n",
       "      <th>627</th>\n",
       "      <td>job type permanent primary location vancouver ...</td>\n",
       "      <td>[job, type, permanent, primary, location, vanc...</td>\n",
       "    </tr>\n",
       "    <tr>\n",
       "      <th>671</th>\n",
       "      <td>our subsidiary is in proptech and real estate ...</td>\n",
       "      <td>[our, subsidiary, is, in, proptech, and, real,...</td>\n",
       "    </tr>\n",
       "    <tr>\n",
       "      <th>661</th>\n",
       "      <td>who needs insurance everybody that keeps us bu...</td>\n",
       "      <td>[who, needs, insurance, everybody, that, keeps...</td>\n",
       "    </tr>\n",
       "    <tr>\n",
       "      <th>489</th>\n",
       "      <td>avant le srascov2 un vaccin qui était développ...</td>\n",
       "      <td>[avant, le, srascov2, un, vaccin, qui, était, ...</td>\n",
       "    </tr>\n",
       "    <tr>\n",
       "      <th>434</th>\n",
       "      <td>responsibilities develop stateoftheart compute...</td>\n",
       "      <td>[responsibilities, develop, stateoftheart, com...</td>\n",
       "    </tr>\n",
       "    <tr>\n",
       "      <th>448</th>\n",
       "      <td>qui sommesnous  buspatrouille est une entrepri...</td>\n",
       "      <td>[qui, sommesnous, buspatrouille, est, une, ent...</td>\n",
       "    </tr>\n",
       "    <tr>\n",
       "      <th>634</th>\n",
       "      <td>for 70 years charles river employees have work...</td>\n",
       "      <td>[for, 70, years, charles, river, employees, ha...</td>\n",
       "    </tr>\n",
       "    <tr>\n",
       "      <th>748</th>\n",
       "      <td>we are transforming the cyber security industr...</td>\n",
       "      <td>[we, are, transforming, the, cyber, security, ...</td>\n",
       "    </tr>\n",
       "  </tbody>\n",
       "</table>\n",
       "</div>"
      ],
      "text/plain": [
       "                                       Job Description  \\\n",
       "852  for over 25 years we have been helping our com...   \n",
       "207  about the job individually we are people but t...   \n",
       "627  job type permanent primary location vancouver ...   \n",
       "671  our subsidiary is in proptech and real estate ...   \n",
       "661  who needs insurance everybody that keeps us bu...   \n",
       "489  avant le srascov2 un vaccin qui était développ...   \n",
       "434  responsibilities develop stateoftheart compute...   \n",
       "448  qui sommesnous  buspatrouille est une entrepri...   \n",
       "634  for 70 years charles river employees have work...   \n",
       "748  we are transforming the cyber security industr...   \n",
       "\n",
       "                                        tokenized_desc  \n",
       "852  [for, over, 25, years, we, have, been, helping...  \n",
       "207  [about, the, job, individually, we, are, peopl...  \n",
       "627  [job, type, permanent, primary, location, vanc...  \n",
       "671  [our, subsidiary, is, in, proptech, and, real,...  \n",
       "661  [who, needs, insurance, everybody, that, keeps...  \n",
       "489  [avant, le, srascov2, un, vaccin, qui, était, ...  \n",
       "434  [responsibilities, develop, stateoftheart, com...  \n",
       "448  [qui, sommesnous, buspatrouille, est, une, ent...  \n",
       "634  [for, 70, years, charles, river, employees, ha...  \n",
       "748  [we, are, transforming, the, cyber, security, ...  "
      ]
     },
     "execution_count": 39,
     "metadata": {},
     "output_type": "execute_result"
    }
   ],
   "source": [
    "#nltk tokenization\n",
    "desc_df['tokenized_desc'] = desc_df['Job Description'].apply(word_tokenize)\n",
    "desc_df.sample(10, random_state = 5)"
   ]
  },
  {
   "cell_type": "code",
   "execution_count": 38,
   "id": "16465831",
   "metadata": {},
   "outputs": [],
   "source": [
    "#Delete accidentally created columns\n",
    "#desc_df = desc_df.drop(['content', 'tokenized_content'], axis=1)"
   ]
  },
  {
   "cell_type": "code",
   "execution_count": 40,
   "id": "001635a6",
   "metadata": {},
   "outputs": [
    {
     "name": "stderr",
     "output_type": "stream",
     "text": [
      "[nltk_data] Downloading package stopwords to\n",
      "[nltk_data]     /Users/olohireme/nltk_data...\n",
      "[nltk_data]   Package stopwords is already up-to-date!\n"
     ]
    }
   ],
   "source": [
    "# initializing Stop words libraries\n",
    "nltk.download('stopwords')\n",
    "from nltk.corpus import stopwords\n",
    "stop_words = set(stopwords.words('english'))"
   ]
  },
  {
   "cell_type": "code",
   "execution_count": 41,
   "id": "1602af14",
   "metadata": {},
   "outputs": [
    {
     "data": {
      "image/png": "[encoded data removed]",
      "text/plain": [
       "<Figure size 720x720 with 1 Axes>"
      ]
     },
     "metadata": {
      "needs_background": "light"
     },
     "output_type": "display_data"
    }
   ],
   "source": [
    "# Before removing checking occurances of stopwords in article content\n",
    "def plot_top_stopwords_barchart(text):\n",
    "    stop=set(stopwords.words('english'))\n",
    "    \n",
    "    new= text.str.split()\n",
    "    new=new.values.tolist()\n",
    "    corpus=[word for i in new for word in i]\n",
    "    from collections import defaultdict\n",
    "    dic=defaultdict(int)\n",
    "    for word in corpus:\n",
    "        if word in stop:\n",
    "            dic[word]+=1\n",
    "            \n",
    "    top=sorted(dic.items(), key=lambda x:x[1],reverse=True)[:10]\n",
    "    x,y=zip(*top)\n",
    "    plt.figure(figsize=(10,10))\n",
    "    plt.bar(x,y)\n",
    "\n",
    "plot_top_stopwords_barchart(desc_df['Job Description'])"
   ]
  },
  {
   "cell_type": "code",
   "execution_count": 42,
   "id": "73b22e79",
   "metadata": {},
   "outputs": [
    {
     "data": {
      "image/png": "[encoded data removed]",
      "text/plain": [
       "<Figure size 720x720 with 1 Axes>"
      ]
     },
     "metadata": {
      "needs_background": "light"
     },
     "output_type": "display_data"
    }
   ],
   "source": [
    "import seaborn as sns\n",
    "from collections import  Counter\n",
    "\n",
    "def plot_top_non_stopwords_barchart(text):\n",
    "    stop=set(stopwords.words('english'))\n",
    "    \n",
    "    new= text.str.split()\n",
    "    new=new.values.tolist()\n",
    "    corpus=[word for i in new for word in i]\n",
    "\n",
    "    counter=Counter(corpus)\n",
    "    most=counter.most_common()\n",
    "    x, y=[], []\n",
    "    for word,count in most[:50]:\n",
    "        if (word not in stop):\n",
    "            x.append(word)\n",
    "            y.append(count)\n",
    "    plt.figure(figsize=(10,10))\n",
    "    sns.barplot(x=y,y=x)\n",
    "\n",
    "plot_top_non_stopwords_barchart(desc_df['Job Description'])"
   ]
  },
  {
   "cell_type": "markdown",
   "id": "ef5dde69",
   "metadata": {},
   "source": [
    "### Stopwords\n",
    "\n",
    "'De', 'Et' and 'Des' are actually french stopwords. Remove French jobs from desc? "
   ]
  },
  {
   "cell_type": "code",
   "execution_count": 43,
   "id": "d4037e09",
   "metadata": {},
   "outputs": [
    {
     "data": {
      "text/html": [
       "<div>\n",
       "<style scoped>\n",
       "    .dataframe tbody tr th:only-of-type {\n",
       "        vertical-align: middle;\n",
       "    }\n",
       "\n",
       "    .dataframe tbody tr th {\n",
       "        vertical-align: top;\n",
       "    }\n",
       "\n",
       "    .dataframe thead th {\n",
       "        text-align: right;\n",
       "    }\n",
       "</style>\n",
       "<table border=\"1\" class=\"dataframe\">\n",
       "  <thead>\n",
       "    <tr style=\"text-align: right;\">\n",
       "      <th></th>\n",
       "      <th>Job Description</th>\n",
       "      <th>tokenized_desc</th>\n",
       "      <th>tokenized_desc_join</th>\n",
       "    </tr>\n",
       "  </thead>\n",
       "  <tbody>\n",
       "    <tr>\n",
       "      <th>852</th>\n",
       "      <td>for over 25 years we have been helping our com...</td>\n",
       "      <td>[25, years, helping, community, essential, oil...</td>\n",
       "      <td>25 years helping community essential oil blend...</td>\n",
       "    </tr>\n",
       "    <tr>\n",
       "      <th>207</th>\n",
       "      <td>about the job individually we are people but t...</td>\n",
       "      <td>[job, individually, people, together, aviva, i...</td>\n",
       "      <td>job individually people together aviva individ...</td>\n",
       "    </tr>\n",
       "    <tr>\n",
       "      <th>627</th>\n",
       "      <td>job type permanent primary location vancouver ...</td>\n",
       "      <td>[job, type, permanent, primary, location, vanc...</td>\n",
       "      <td>job type permanent primary location vancouver ...</td>\n",
       "    </tr>\n",
       "    <tr>\n",
       "      <th>671</th>\n",
       "      <td>our subsidiary is in proptech and real estate ...</td>\n",
       "      <td>[subsidiary, proptech, real, estate, analytics...</td>\n",
       "      <td>subsidiary proptech real estate analytics spac...</td>\n",
       "    </tr>\n",
       "    <tr>\n",
       "      <th>661</th>\n",
       "      <td>who needs insurance everybody that keeps us bu...</td>\n",
       "      <td>[needs, insurance, everybody, keeps, us, busy,...</td>\n",
       "      <td>needs insurance everybody keeps us busy busy i...</td>\n",
       "    </tr>\n",
       "    <tr>\n",
       "      <th>489</th>\n",
       "      <td>avant le srascov2 un vaccin qui était développ...</td>\n",
       "      <td>[avant, le, srascov2, un, vaccin, qui, était, ...</td>\n",
       "      <td>avant le srascov2 un vaccin qui était développ...</td>\n",
       "    </tr>\n",
       "    <tr>\n",
       "      <th>434</th>\n",
       "      <td>responsibilities develop stateoftheart compute...</td>\n",
       "      <td>[responsibilities, develop, stateoftheart, com...</td>\n",
       "      <td>responsibilities develop stateoftheart compute...</td>\n",
       "    </tr>\n",
       "    <tr>\n",
       "      <th>448</th>\n",
       "      <td>qui sommesnous  buspatrouille est une entrepri...</td>\n",
       "      <td>[qui, sommesnous, buspatrouille, est, une, ent...</td>\n",
       "      <td>qui sommesnous buspatrouille est une entrepris...</td>\n",
       "    </tr>\n",
       "    <tr>\n",
       "      <th>634</th>\n",
       "      <td>for 70 years charles river employees have work...</td>\n",
       "      <td>[70, years, charles, river, employees, worked,...</td>\n",
       "      <td>70 years charles river employees worked togeth...</td>\n",
       "    </tr>\n",
       "    <tr>\n",
       "      <th>748</th>\n",
       "      <td>we are transforming the cyber security industr...</td>\n",
       "      <td>[transforming, cyber, security, industry, us, ...</td>\n",
       "      <td>transforming cyber security industry us f8th u...</td>\n",
       "    </tr>\n",
       "  </tbody>\n",
       "</table>\n",
       "</div>"
      ],
      "text/plain": [
       "                                       Job Description  \\\n",
       "852  for over 25 years we have been helping our com...   \n",
       "207  about the job individually we are people but t...   \n",
       "627  job type permanent primary location vancouver ...   \n",
       "671  our subsidiary is in proptech and real estate ...   \n",
       "661  who needs insurance everybody that keeps us bu...   \n",
       "489  avant le srascov2 un vaccin qui était développ...   \n",
       "434  responsibilities develop stateoftheart compute...   \n",
       "448  qui sommesnous  buspatrouille est une entrepri...   \n",
       "634  for 70 years charles river employees have work...   \n",
       "748  we are transforming the cyber security industr...   \n",
       "\n",
       "                                        tokenized_desc  \\\n",
       "852  [25, years, helping, community, essential, oil...   \n",
       "207  [job, individually, people, together, aviva, i...   \n",
       "627  [job, type, permanent, primary, location, vanc...   \n",
       "671  [subsidiary, proptech, real, estate, analytics...   \n",
       "661  [needs, insurance, everybody, keeps, us, busy,...   \n",
       "489  [avant, le, srascov2, un, vaccin, qui, était, ...   \n",
       "434  [responsibilities, develop, stateoftheart, com...   \n",
       "448  [qui, sommesnous, buspatrouille, est, une, ent...   \n",
       "634  [70, years, charles, river, employees, worked,...   \n",
       "748  [transforming, cyber, security, industry, us, ...   \n",
       "\n",
       "                                   tokenized_desc_join  \n",
       "852  25 years helping community essential oil blend...  \n",
       "207  job individually people together aviva individ...  \n",
       "627  job type permanent primary location vancouver ...  \n",
       "671  subsidiary proptech real estate analytics spac...  \n",
       "661  needs insurance everybody keeps us busy busy i...  \n",
       "489  avant le srascov2 un vaccin qui était développ...  \n",
       "434  responsibilities develop stateoftheart compute...  \n",
       "448  qui sommesnous buspatrouille est une entrepris...  \n",
       "634  70 years charles river employees worked togeth...  \n",
       "748  transforming cyber security industry us f8th u...  "
      ]
     },
     "execution_count": 43,
     "metadata": {},
     "output_type": "execute_result"
    }
   ],
   "source": [
    "#remove stopwords \n",
    "\n",
    "desc_df['tokenized_desc'] = desc_df['tokenized_desc'].apply(lambda x: [word for word in x if word not in stop_words])\n",
    "desc_df['tokenized_desc_join'] = [' '.join(map(str, l)) for l in desc_df['tokenized_desc']]\n",
    "\n",
    "desc_df.sample(10, random_state = 5)"
   ]
  },
  {
   "cell_type": "code",
   "execution_count": 45,
   "id": "24655ee0",
   "metadata": {},
   "outputs": [
    {
     "name": "stdout",
     "output_type": "stream",
     "text": [
      "[('25', 'CD'), ('years', 'NNS'), ('helping', 'VBG'), ('community', 'NN'), ('essential', 'JJ'), ('oil', 'NN'), ('blends', 'NNS'), ('actually', 'RB'), ('work', 'VBP'), ('essential', 'JJ'), ('oil', 'NN'), ('blends', 'NNS'), ('treat', 'NN'), ('stress', 'NN'), ('pain', 'NN'), ('gut', 'NN'), ('balance', 'NN'), ('support', 'NN'), ('relaxation', 'NN'), ('prior', 'RB'), ('sleep', 'JJ'), ('symptoms', 'NNS'), ('coughs', 'VBP'), ('colds', 'NNS'), ('know', 'VBP'), ('life', 'NN'), ('committed', 'VBN'), ('wellness', 'RB'), ('greater', 'JJR'), ('one', 'CD'), ('focused', 'VBD'), ('illness', 'NN'), ('believe', 'VBP'), ('reaching', 'VBG'), ('natural', 'JJ'), ('enhance', 'NN'), ('longterm', 'JJ'), ('health', 'NN'), ('wellness', 'NN'), ('every', 'DT'), ('day', 'NN'), ('ranked', 'VBD'), ('canadian', 'JJ'), ('business', 'NN'), ('profit', 'NN'), ('one', 'CD'), ('canadas', 'NN'), ('fastest', 'JJS'), ('growing', 'VBG'), ('companies', 'NNS'), ('support', 'VBP'), ('us', 'PRP'), ('journey', 'NN'), ('seeking', 'VBG'), ('diverse', 'JJ'), ('purposelead', 'JJ'), ('people', 'NNS'), ('join', 'VBP'), ('team', 'JJ'), ('get', 'VB'), ('ready', 'JJ'), ('celebrate', 'NN'), ('global', 'JJ'), ('wellness', 'NN'), ('us', 'PRP'), ('description', 'VBP'), ('role', 'NN'), ('head', 'NN'), ('analytics', 'NNS'), ('insightsdata', 'VBP'), ('scientist', 'NN'), ('help', 'NN'), ('us', 'PRP'), ('unlock', 'JJ'), ('key', 'JJ'), ('insights', 'NNS'), ('drive', 'NN'), ('business', 'NN'), ('decisions', 'NNS'), ('analysis', 'NN'), ('coming', 'VBG'), ('team', 'NN'), ('also', 'RB'), ('enablement', 'JJ'), ('right', 'RB'), ('data', 'NNS'), ('clear', 'JJ'), ('insights', 'NNS'), ('leaders', 'NNS'), ('across', 'IN'), ('marketing', 'VBG'), ('commercial', 'JJ'), ('organizations', 'NNS'), ('responsibilities', 'NNS'), ('analytics', 'NNS'), ('insights', 'NNS'), ('lead', 'VBP'), ('crossfunctional', 'JJ'), ('projects', 'NNS'), ('using', 'VBG'), ('advanced', 'JJ'), ('data', 'NNS'), ('modeling', 'VBG'), ('analysis', 'NN'), ('techniques', 'NNS'), ('discover', 'VB'), ('insights', 'NNS'), ('guide', 'VB'), ('strategic', 'JJ'), ('decisions', 'NNS'), ('uncover', 'JJ'), ('future', 'JJ'), ('growth', 'NN'), ('opportunities', 'NNS'), ('business', 'NN'), ('strategies', 'NNS'), ('manage', 'VBP'), ('process', 'NN'), ('uncover', 'JJ'), ('insights', 'NNS'), ('business', 'NN'), ('operations', 'NNS'), ('seeking', 'VBG'), ('increase', 'NN'), ('insight', 'NN'), ('clarity', 'NN'), ('well', 'RB'), ('efficiency', 'RB'), ('process', 'NN'), ('data', 'NNS'), ('management', 'NN'), ('lead', 'NN'), ('community', 'NN'), ('member', 'NN'), ('analytics', 'NNS'), ('supporting', 'VBG'), ('definition', 'NN'), ('kpis', 'FW'), ('targets', 'NNS'), ('using', 'VBG'), ('audience', 'NN'), ('segmentation', 'NN'), ('strategies', 'NNS'), ('increase', 'VBP'), ('acquisition', 'NN'), ('effectiveness', 'NN'), ('highest', 'JJS'), ('ltv', 'NN'), ('foster', 'NN'), ('brandloyalty', 'NN'), ('partnership', 'NN'), ('head', 'NN'), ('growth', 'NN'), ('direct', 'JJ'), ('performance', 'NN'), ('marketing', 'NN'), ('analytics', 'NNS'), ('strategy', 'NN'), ('developing', 'VBG'), ('targets', 'NNS'), ('uncovering', 'VBG'), ('key', 'JJ'), ('insights', 'NNS'), ('determining', 'VBG'), ('business', 'NN'), ('data', 'NNS'), ('requirements', 'NNS'), ('omniinfrastructure', 'JJ'), ('lead', 'JJ'), ('reporting', 'NN'), ('analysis', 'NN'), ('ecommerce', 'NN'), ('performance', 'NN'), ('metrics', 'NNS'), ('support', 'VBP'), ('head', 'NN'), ('ecommerce', 'NN'), ('strategic', 'JJ'), ('planning', 'VBG'), ('setting', 'VBG'), ('targets', 'NNS'), ('measurement', 'JJ'), ('new', 'JJ'), ('features', 'NNS'), ('business', 'NN'), ('performance', 'NN'), ('insights', 'NNS'), ('leadership', 'NN'), ('testing', 'VBG'), ('consumer', 'NN'), ('connects', 'NNS'), ('ab', 'JJ'), ('tests', 'NNS'), ('partner', 'NN'), ('marketing', 'NN'), ('channel', 'NN'), ('leads', 'VBZ'), ('measure', 'NN'), ('reach', 'NN'), ('effectiveness', 'NN'), ('funnel', 'NN'), ('brand', 'NN'), ('awareness', 'NN'), ('impressions', 'NNS'), ('followers', 'NNS'), ('channel', 'VBP'), ('traffic', 'NN'), ('support', 'NN'), ('clear', 'JJ'), ('identification', 'NN'), ('return', 'VB'), ('investment', 'NN'), ('analyze', 'NN'), ('market', 'NN'), ('trends', 'VBZ'), ('research', 'NN'), ('opportunities', 'NNS'), ('monitor', 'VBP'), ('competitor', 'NN'), ('marketing', 'NN'), ('outcomes', 'NNS'), ('identify', 'VBP'), ('key', 'JJ'), ('external', 'JJ'), ('trends', 'NNS'), ('performance', 'NN'), ('indicators', 'NNS'), ('eg', 'VBP'), ('seo', 'JJ'), ('research', 'NN'), ('support', 'NN'), ('strategic', 'JJ'), ('direction', 'NN'), ('marketing', 'NN'), ('wider', 'NN'), ('leadership', 'NN'), ('including', 'VBG'), ('brand', 'NN'), ('product', 'NN'), ('support', 'NN'), ('development', 'NN'), ('performance', 'NN'), ('models', 'NNS'), ('new', 'JJ'), ('business', 'NN'), ('development', 'NN'), ('collaborations', 'NNS'), ('channel', 'VBP'), ('expansions', 'NNS'), ('integrate', 'VBP'), ('qualitative', 'JJ'), ('feedback', 'NN'), ('analysis', 'NN'), ('partnership', 'NN'), ('voc', 'NN'), ('ux', 'JJ'), ('stores', 'NNS'), ('surveys', 'NNS'), ('data', 'NNS'), ('reporting', 'VBG'), ('partner', 'NN'), ('represent', 'NN'), ('business', 'NN'), ('development', 'NN'), ('key', 'NN'), ('performance', 'NN'), ('marketing', 'NN'), ('customer', 'NN'), ('data', 'NNS'), ('reporting', 'NN'), ('infrastructure', 'NN'), ('develop', 'VB'), ('360', 'CD'), ('view', 'NN'), ('consumer', 'NN'), ('build', 'NN'), ('develop', 'VB'), ('maintain', 'NN'), ('data', 'NNS'), ('models', 'NNS'), ('reporting', 'VBG'), ('systems', 'NNS'), ('data', 'JJ'), ('automation', 'NN'), ('systems', 'NNS'), ('dashboards', 'NNS'), ('performance', 'NN'), ('metrics', 'NNS'), ('support', 'VBP'), ('support', 'NN'), ('key', 'NN'), ('business', 'NN'), ('decisions', 'NNS'), ('partner', 'NN'), ('crossfunctional', 'JJ'), ('leadership', 'NN'), ('marketingled', 'VBD'), ('identify', 'JJ'), ('key', 'JJ'), ('data', 'NNS'), ('challenges', 'NNS'), ('determine', 'VBP'), ('technical', 'JJ'), ('process', 'NN'), ('solutions', 'NNS'), ('ensure', 'VB'), ('accuracy', 'NN'), ('accessibility', 'NN'), ('data', 'NNS'), ('clear', 'JJ'), ('datadefinitions', 'NNS'), ('crossfunctional', 'JJ'), ('leaders', 'NNS'), ('process', 'VBP'), ('team', 'NN'), ('management', 'NN'), ('develop', 'VB'), ('team', 'NN'), ('data', 'NNS'), ('analysts', 'NNS'), ('help', 'VBP'), ('inform', 'VB'), ('future', 'JJ'), ('business', 'NN'), ('strategies', 'NNS'), ('build', 'VBP'), ('key', 'JJ'), ('reporting', 'NN'), ('frameworks', 'NNS'), ('cadences', 'NNS'), ('process', 'JJ'), ('weekly', 'JJ'), ('monthly', 'JJ'), ('quarterly', 'NN'), ('business', 'NN'), ('reviews', 'NNS'), ('identify', 'VB'), ('key', 'JJ'), ('tools', 'NNS'), ('platforms', 'NNS'), ('training', 'VBG'), ('required', 'JJ'), ('ensure', 'VB'), ('marketing', 'VBG'), ('commercial', 'JJ'), ('leaders', 'NNS'), ('uncover', 'JJ'), ('key', 'JJ'), ('insights', 'NNS'), ('business', 'NN'), ('manage', 'NN'), ('performance', 'NN'), ('develop', 'VB'), ('data', 'NNS'), ('visualization', 'NN'), ('tools', 'NNS'), ('teams', 'NNS'), ('support', 'VBP'), ('presentation', 'NN'), ('insights', 'NNS'), ('support', 'NN'), ('preparation', 'NN'), ('communication', 'NN'), ('business', 'NN'), ('results', 'NNS'), ('strategic', 'JJ'), ('direction', 'NN'), ('executive', 'NN'), ('management', 'NN'), ('teams', 'NNS'), ('ensure', 'VB'), ('accuracy', 'NN'), ('data', 'NNS'), ('ontime', 'RB'), ('delivery', 'NN'), ('deliverables', 'NNS'), ('support', 'VB'), ('teams', 'NNS'), ('management', 'NN'), ('data', 'NNS'), ('intake', 'NN'), ('process', 'NN'), ('clear', 'JJ'), ('prioritization', 'NN'), ('framework', 'NN'), ('develop', 'VB'), ('implement', 'JJ'), ('quality', 'NN'), ('controls', 'NNS'), ('departmental', 'JJ'), ('standards', 'NNS'), ('ensure', 'VB'), ('quality', 'NN'), ('standards', 'NNS'), ('organizational', 'JJ'), ('expectations', 'NNS'), ('regulatory', 'JJ'), ('requirements', 'NNS'), ('anticipate', 'VBP'), ('future', 'JJ'), ('demands', 'NNS'), ('initiatives', 'NNS'), ('related', 'JJ'), ('people', 'NNS'), ('technology', 'NN'), ('budget', 'NN'), ('business', 'NN'), ('within', 'IN'), ('organization', 'NN'), ('support', 'NN'), ('insightsdriven', 'RB'), ('approach', 'NN'), ('applicant', 'JJ'), ('requirements', 'NNS'), ('bachelor', 'NN'), (\"'s\", 'POS'), ('degree', 'NN'), ('business', 'NN'), ('consumer', 'NN'), ('behavior', 'NN'), ('market', 'NN'), ('research', 'NN'), ('quantitative', 'JJ'), ('discipline', 'NN'), ('15', 'CD'), ('years', 'NNS'), ('experience', 'RB'), ('marketing', 'VBG'), ('market', 'NN'), ('research', 'NN'), ('customer', 'NN'), ('strategy', 'NN'), ('experience', 'NN'), ('utilizing', 'VBG'), ('new', 'JJ'), ('digital', 'JJ'), ('techniques', 'NNS'), ('methodologies', 'NNS'), ('understand', 'VBP'), ('changing', 'VBG'), ('consumers', 'NNS'), ('including', 'VBG'), ('social', 'JJ'), ('listening', 'NN'), ('digital', 'JJ'), ('testing', 'VBG'), ('building', 'NN'), ('customer', 'NN'), ('panel', 'NN'), ('experience', 'NN'), ('includes', 'VBZ'), ('complex', 'JJ'), ('strategic', 'JJ'), ('research', 'NN'), ('projects', 'NNS'), ('using', 'VBG'), ('innovative', 'JJ'), ('methodologies', 'NNS'), ('experience', 'VBP'), ('multivariate', 'JJ'), ('statistics', 'NNS'), ('predictive', 'JJ'), ('modeling', 'VBG'), ('regression', 'NN'), ('models', 'NNS'), ('experience', 'VBP'), ('media', 'NNS'), ('measurement', 'JJ'), ('creative', 'JJ'), ('testing', 'VBG'), ('experience', 'NN'), ('managing', 'VBG'), ('executing', 'VBG'), ('within', 'IN'), ('perimeters', 'NNS'), ('budget', 'NN'), ('skilled', 'VBD'), ('influencing', 'VBG'), ('generating', 'VBG'), ('consensus', 'NN'), ('negotiating', 'VBG'), ('executive', 'NN'), ('level', 'NN'), ('strong', 'JJ'), ('leadership', 'NN'), ('team', 'NN'), ('building', 'NN'), ('skills', 'NNS'), ('excellent', 'JJ'), ('verbal', 'JJ'), ('written', 'VBN'), ('communication', 'NN'), ('presentation', 'NN'), ('skills', 'NNS'), ('excellent', 'JJ'), ('organizational', 'JJ'), ('prioritization', 'NN'), ('skills', 'NNS'), ('excellent', 'JJ'), ('problemsolving', 'VBG'), ('skills', 'NNS'), ('strong', 'JJ'), ('collaborator', 'NN'), ('track', 'NN'), ('record', 'NN'), ('building', 'NN'), ('crossfunctional', 'JJ'), ('relationships', 'NNS'), ('alignment', 'JJ'), ('strategic', 'JJ'), ('creative', 'JJ'), ('approach', 'NN')]\n",
      "[('job', 'NN'), ('individually', 'RB'), ('people', 'NNS'), ('together', 'RB'), ('aviva', 'VBP'), ('individually', 'RB'), ('words', 'NNS'), ('together', 'RB'), ('values', 'NNS'), ('care', 'VB'), ('commitment', 'NN'), ('community', 'NN'), ('confidence', 'NN'), ('role', 'NN'), ('start', 'NN'), ('work', 'NN'), ('home', 'NN'), ('gradually', 'RB'), ('required', 'JJ'), ('work', 'NN'), ('toronto', 'IN'), ('montreal', 'JJ'), ('office', 'NN'), ('location', 'NN'), ('join', 'NN'), ('exciting', 'VBG'), ('team', 'NN'), ('actuaries', 'NNS'), ('data', 'VBP'), ('scientists', 'NNS'), ('engineers', 'NNS'), ('forefront', 'VBP'), ('using', 'VBG'), ('data', 'NNS'), ('science', 'NN'), ('ai', 'VBP'), ('drive', 'NN'), ('impactful', 'NN'), ('decisions', 'NNS'), ('insurance', 'NN'), ('industry', 'NN'), ('entered', 'VBD'), ('period', 'NN'), ('unprecedented', 'JJ'), ('change', 'NN'), ('engineering', 'NN'), ('heart', 'NN'), ('business', 'NN'), ('join', 'NN'), ('engineering', 'NN'), ('team', 'NN'), ('builds', 'VBZ'), ('optimizes', 'VBZ'), ('every', 'DT'), ('stage', 'NN'), ('data', 'NNS'), ('science', 'NN'), ('lifecycle', 'NN'), ('massively', 'RB'), ('scalable', 'JJ'), ('architecture', 'NN'), ('proactive', 'JJ'), ('model', 'NN'), ('monitoring', 'NN'), ('mechanism', 'NN'), ('exciting', 'VBG'), ('role', 'NN'), ('center', 'NN'), ('hardworking', 'VBG'), ('data', 'NNS'), ('science', 'NN'), ('team', 'NN'), ('impacting', 'VBG'), ('aspects', 'NNS'), ('insurance', 'NN'), ('distribution', 'NN'), ('underwriting', 'VBG'), ('pricing', 'NN'), ('claims', 'NNS'), ('machine', 'NN'), ('learning', 'VBG'), ('engineer', 'NN'), ('work', 'NN'), ('closely', 'RB'), ('business', 'NN'), ('partners', 'NNS'), ('technical', 'JJ'), ('leaders', 'NNS'), ('demonstrate', 'VBP'), ('direct', 'JJ'), ('influence', 'NN'), ('future', 'NN'), ('aiml', 'NN'), ('products', 'NNS'), ('build', 'VBP'), ('novel', 'JJ'), ('data', 'NNS'), ('science', 'NN'), ('tools', 'NNS'), ('achieves', 'VBZ'), ('operational', 'JJ'), ('excellence', 'NN'), ('efficiency', 'NN'), ('integrate', 'NN'), ('stateofthearts', 'NNS'), ('inhouse', 'VBP'), ('ml', 'JJ'), ('pipeline', 'NN'), ('stay', 'NN'), ('ahead', 'RB'), ('curve', 'VB'), ('newest', 'JJS'), ('ai', 'NN'), ('methods', 'NNS'), ('work', 'VBP'), ('closely', 'RB'), ('cloud', 'JJ'), ('team', 'NN'), ('create', 'NN'), ('best', 'JJS'), ('practices', 'NNS'), ('mlops', 'VBP'), ('cloud', 'JJ'), ('advocate', 'JJ'), ('automation', 'NN'), ('monitoring', 'VBG'), ('steps', 'NNS'), ('ml', 'JJ'), ('lifecycle', 'NN'), ('including', 'VBG'), ('integration', 'NN'), ('testing', 'VBG'), ('deployment', 'JJ'), ('infrastructure', 'NN'), ('management', 'NN'), ('explain', 'NN'), ('model', 'NN'), ('behaviors', 'NNS'), ('nontechnical', 'JJ'), ('audience', 'NN'), ('model', 'NN'), ('acceptance', 'NN'), ('model', 'NN'), ('governance', 'NN'), ('influence', 'NN'), ('ai', 'VBP'), ('roadmap', 'NN'), ('identifying', 'VBG'), ('key', 'JJ'), ('challenges', 'NNS'), ('build', 'VBP'), ('prototypes', 'NNS'), ('high', 'JJ'), ('potential', 'JJ'), ('applicability', 'NN'), ('support', 'NN'), ('implement', 'JJ'), ('endtoend', 'NN'), ('aiml', 'JJ'), ('solutions', 'NNS'), ('different', 'JJ'), ('teams', 'NNS'), ('actuaries', 'NNS'), ('data', 'VBP'), ('scientists', 'NNS'), ('engineers', 'NNS'), ('drive', 'VBP'), ('impact', 'NN'), ('bring', 'NN'), ('machine', 'NN'), ('learning', 'VBG'), ('engineer', 'CC'), ('need', 'MD'), ('following', 'VBG'), ('skills', 'NNS'), ('experience', 'RB'), ('succeed', 'VB'), ('role', 'NN'), ('university', 'NN'), ('degree', 'VBP'), ('computer', 'NN'), ('science', 'NN'), ('math', 'NN'), ('statistics', 'NNS'), ('physics', 'NNS'), ('related', 'JJ'), ('stem', 'NN'), ('fields', 'NNS'), ('4', 'CD'), ('year', 'NN'), ('programming', 'VBG'), ('experience', 'NN'), ('preferably', 'RB'), ('python', 'VBZ'), ('strong', 'JJ'), ('grasp', 'NN'), ('software', 'NN'), ('engineering', 'NN'), ('standard', 'NN'), ('methodologies', 'NNS'), ('codereusability', 'NN'), ('modularity', 'NN'), ('use', 'NN'), ('repos', 'NN'), ('etc', 'FW'), ('2', 'CD'), ('years', 'NNS'), ('experience', 'RB'), ('building', 'VBG'), ('machine', 'NN'), ('learning', 'NN'), ('models', 'NNS'), ('business', 'NN'), ('applications', 'NNS'), ('2', 'CD'), ('years', 'NNS'), ('experience', 'RB'), ('building', 'VBG'), ('ml', 'NN'), ('pipelines', 'NNS'), ('eg', 'VBP'), ('sklearnpipeline', 'JJ'), ('tensorflow', 'NN'), ('extended', 'VBD'), ('tfx', 'NN'), ('1', 'CD'), ('year', 'NN'), ('experience', 'NN'), ('building', 'NN'), ('operating', 'VBG'), ('ml', 'NN'), ('systems', 'NNS'), ('cloud', 'VBP'), ('excellent', 'JJ'), ('presentation', 'NN'), ('communication', 'NN'), ('skills', 'NNS'), ('knack', 'VBP'), ('articulating', 'VBG'), ('complex', 'JJ'), ('engineering', 'NN'), ('concepts', 'NNS'), ('people', 'NNS'), ('various', 'JJ'), ('backgrounds', 'NNS'), ('sets', 'NNS'), ('apart', 'RB'), ('masters', 'NNS'), ('phd', 'VBP'), ('degree', 'JJ'), ('computer', 'NN'), ('science', 'NN'), ('math', 'NN'), ('statistics', 'NNS'), ('physics', 'NNS'), ('related', 'JJ'), ('stem', 'NN'), ('fields', 'NNS'), ('proficiency', 'NN'), ('aws', 'VBP'), ('cloud', 'JJ'), ('providers', 'NNS'), ('experience', 'VBP'), ('api', 'JJ'), ('deployment', 'NN'), ('microservice', 'NN'), ('architecture', 'NN'), ('working', 'VBG'), ('knowledge', 'NN'), ('anomaly', 'JJ'), ('detection', 'NN'), ('preferably', 'RB'), ('domain', 'VBP'), ('financial', 'JJ'), ('fraud', 'NN'), ('detection', 'NN'), ('experience', 'NN'), ('working', 'VBG'), ('part', 'NN'), ('agile', 'NN'), ('team', 'NN'), ('open', 'JJ'), ('source', 'NN'), ('contributor', 'NN'), ('experience', 'NN'), ('sklearn', 'NN'), ('pandas', 'NN'), ('numpy', 'JJ'), ('asset', 'NN'), ('best', 'JJS'), ('model', 'NN'), ('used', 'VBN'), ('production', 'NN'), ('proper', 'JJ'), ('explanation', 'NN'), ('business', 'NN'), ('stakeholder', 'NN'), ('frontend', 'NN'), ('framework', 'NN'), ('angular', 'JJ'), ('ui', 'JJ'), ('experience', 'NN'), ('presents', 'NNS'), ('model', 'NN'), ('hood', 'NN'), ('considered', 'VBN'), ('asset', 'NN'), ('get', 'VB'), ('competitive', 'JJ'), ('rewards', 'NNS'), ('package', 'NN'), ('including', 'VBG'), ('base', 'JJ'), ('compensation', 'NN'), ('eligibility', 'NN'), ('annual', 'JJ'), ('bonus', 'NN'), ('retirement', 'NN'), ('savings', 'NNS'), ('share', 'NN'), ('plan', 'NN'), ('health', 'NN'), ('benefits', 'NNS'), ('personal', 'JJ'), ('wellness', 'NN'), ('volunteer', 'NN'), ('opportunities', 'NNS'), ('exceptional', 'JJ'), ('career', 'NN'), ('development', 'NN'), ('opportunities', 'NNS'), ('support', 'VBP'), ('professional', 'JJ'), ('development', 'NN'), ('education', 'NN'), ('additional', 'JJ'), ('information', 'NN'), ('aviva', 'IN'), ('canada', 'NN'), ('committed', 'VBD'), ('providing', 'JJ'), ('accommodations', 'NNS'), ('people', 'NNS'), ('disabilities', 'NNS'), ('phases', 'VBZ'), ('hiring', 'VBG'), ('process', 'NN'), ('including', 'VBG'), ('application', 'NN'), ('process', 'NN'), ('require', 'VBP'), ('accommodation', 'NN'), ('disability', 'NN'), ('work', 'NN'), ('meet', 'NN'), ('needs', 'VBZ'), ('applicants', 'NNS'), ('need', 'VBP'), ('make', 'VBP'), ('needs', 'NNS'), ('known', 'VBN'), ('advance', 'RB'), ('selected', 'VBN'), ('interview', 'NN'), ('require', 'NN'), ('accommodation', 'NN'), ('encouraged', 'VBD'), ('advise', 'JJ'), ('talent', 'JJ'), ('acquisition', 'NN'), ('partner', 'NN'), ('consult', 'NN'), ('determine', 'NN'), ('appropriate', 'JJ'), ('accommodation', 'NN'), ('equal', 'JJ'), ('opportunity', 'NN'), ('employer', 'NN'), ('value', 'NN'), ('diversity', 'NN'), ('company', 'NN'), ('discriminate', 'JJ'), ('basis', 'NN'), ('race', 'NN'), ('religion', 'NN'), ('color', 'NN'), ('national', 'JJ'), ('origin', 'NN'), ('gender', 'NN'), ('sexual', 'JJ'), ('orientation', 'NN'), ('age', 'NN'), ('marital', 'JJ'), ('status', 'NN'), ('veteran', 'NN'), ('status', 'NN'), ('disability', 'NN'), ('status', 'NN')]\n",
      "[('job', 'NN'), ('type', 'JJ'), ('permanent', 'JJ'), ('primary', 'JJ'), ('location', 'NN'), ('vancouver', 'IN'), ('british', 'JJ'), ('columbia', 'NN'), ('canada', 'NN'), ('available', 'JJ'), ('locations', 'NNS'), ('vancouver', 'RB'), ('calgary', 'JJ'), ('edmonton', 'NN'), ('learn', 'VBP'), ('deep', 'JJ'), ('subject', 'JJ'), ('matter', 'NN'), ('experts', 'NNS'), ('mentoring', 'VBG'), ('job', 'NN'), ('coaching', 'VBG'), ('partner', 'NN'), ('clients', 'NNS'), ('solve', 'VB'), ('complex', 'JJ'), ('problems', 'NNS'), ('empowered', 'VBN'), ('lead', 'JJ'), ('impact', 'NN'), ('clients', 'NNS'), ('communities', 'VBZ'), ('officev', 'JJ'), ('love', 'NN'), ('wrestle', 'NN'), ('data', 'NNS'), ('puzzles', 'NNS'), ('embrace', 'VBP'), ('potential', 'JJ'), ('data', 'NN'), ('represents', 'VBZ'), ('aspire', 'JJ'), ('solve', 'NNS'), ('data', 'NNS'), ('problems', 'NNS'), ('one', 'CD'), ('else', 'RB'), ('want', 'VBP'), ('use', 'NN'), ('data', 'NNS'), ('make', 'VBP'), ('impacts', 'NNS'), ('matter', 'RBR'), ('omnia', 'VBP'), ('ai', 'VBP'), ('want', 'JJ'), ('typical', 'JJ'), ('day', 'NN'), ('look', 'VBP'), ('like', 'IN'), ('data', 'NNS'), ('engineer', 'NN'), ('power', 'NN'), ('bi', 'NN'), ('developer', 'NN'), ('within', 'IN'), ('omnia', 'NN'), ('ai', 'NN'), ('practice', 'NN'), ('passionate', 'NN'), ('data', 'NNS'), ('technology', 'NN'), ('solutions', 'NNS'), ('driven', 'VBP'), ('learn', 'JJ'), ('keep', 'NN'), ('market', 'NN'), ('evolution', 'NN'), ('play', 'VBD'), ('active', 'JJ'), ('role', 'NN'), ('throughout', 'IN'), ('entire', 'JJ'), ('engagement', 'JJ'), ('cycle', 'NN'), ('specializing', 'VBG'), ('technical', 'JJ'), ('data', 'NNS'), ('solutions', 'NNS'), ('including', 'VBG'), ('etl', 'NN'), ('data', 'NNS'), ('integration', 'NN'), ('data', 'NNS'), ('warehousing', 'VBG'), ('dimensional', 'JJ'), ('models', 'NNS'), ('inmemory', 'JJ'), ('architectures', 'NNS'), ('master', 'VBP'), ('datareference', 'NN'), ('management', 'NN'), ('business', 'NN'), ('visualization', 'NN'), ('business', 'NN'), ('analytics', 'NNS'), ('enthusiastic', 'JJ'), ('things', 'NNS'), ('data', 'NNS'), ('strong', 'JJ'), ('problemsolving', 'VBG'), ('analytical', 'JJ'), ('skills', 'NNS'), ('tech', 'JJ'), ('savvy', 'JJ'), ('solid', 'JJ'), ('understanding', 'NN'), ('software', 'NN'), ('development', 'NN'), ('specifically', 'RB'), ('role', 'NN'), ('engineer', 'NN'), ('architect', 'NN'), ('etl', 'NN'), ('bidw', 'NN'), ('solutions', 'NNS'), ('enable', 'JJ'), ('business', 'NN'), ('analytics', 'NNS'), ('drive', 'VBP'), ('insights', 'NNS'), ('translate', 'VBP'), ('business', 'NN'), ('rules', 'NNS'), ('requirements', 'NNS'), ('data', 'NNS'), ('objects', 'NNS'), ('visualizations', 'NNS'), ('produce', 'VBP'), ('associated', 'VBN'), ('data', 'NNS'), ('models', 'NNS'), ('source', 'NN'), ('target', 'NN'), ('mappings', 'NNS'), ('write', 'VBP'), ('abstracted', 'VBN'), ('reusable', 'JJ'), ('code', 'NN'), ('components', 'NNS'), ('accordingly', 'RB'), ('planschedule', 'VBP'), ('tasks', 'NNS'), ('lead', 'VBP'), ('small', 'JJ'), ('development', 'NN'), ('teams', 'NNS'), ('mentor', 'VBP'), ('junior', 'JJ'), ('colleagues', 'NNS'), ('facilitate', 'VBP'), ('technical', 'JJ'), ('meetings', 'NNS'), ('client', 'NN'), ('staff', 'NN'), ('advise', 'VB'), ('client', 'NN'), ('technical', 'JJ'), ('option', 'NN'), ('analyses', 'NNS'), ('based', 'VBN'), ('leading', 'JJ'), ('practices', 'NNS'), ('team', 'NN'), ('data', 'NNS'), ('analytics', 'NNS'), ('modernization', 'NN'), ('team', 'NN'), ('helps', 'VBZ'), ('clients', 'NNS'), ('design', 'VB'), ('implement', 'JJ'), ('data', 'NNS'), ('platform', 'NN'), ('architectures', 'VBZ'), ('cloud', 'JJ'), ('onpremise', 'NN'), ('required', 'VBN'), ('enable', 'JJ'), ('cuttingedge', 'NN'), ('bi', 'NN'), ('solutions', 'NNS'), ('part', 'NN'), ('practice', 'NN'), ('deliver', 'NN'), ('breadth', 'JJ'), ('solutions', 'NNS'), ('solve', 'VBP'), ('clients', 'NNS'), ('challenging', 'VBG'), ('business', 'NN'), ('problems', 'NNS'), ('focus', 'VBP'), ('big', 'JJ'), ('data', 'NNS'), ('bidw', 'NN'), ('data', 'NNS'), ('integration', 'NN'), ('data', 'NNS'), ('governance', 'NN'), ('master', 'NN'), ('data', 'NNS'), ('analytics', 'NNS'), ('applications', 'NNS'), ('applications', 'NNS'), ('leverages', 'NNS'), ('different', 'JJ'), ('mix', 'JJ'), ('traditional', 'JJ'), ('innovative', 'JJ'), ('technologies', 'NNS'), ('achieve', 'VBP'), ('business', 'NN'), ('outcomes', 'NNS'), ('integration', 'NN'), ('modernization', 'NN'), ('practice', 'NN'), ('helps', 'VBZ'), ('clients', 'NNS'), ('manage', 'VB'), ('complexity', 'NN'), ('inherent', 'JJ'), ('todays', 'NNS'), ('diverse', 'NN'), ('business', 'NN'), ('landscape', 'NN'), ('supporting', 'VBG'), ('consolidating', 'VBG'), ('customizing', 'VBG'), ('multiple', 'JJ'), ('technologies', 'NNS'), ('part', 'NN'), ('multidisciplinary', 'VBP'), ('team', 'NN'), ('focused', 'VBD'), ('delivering', 'VBG'), ('breadth', 'JJ'), ('solutions', 'NNS'), ('solve', 'VBP'), ('clients', 'NNS'), ('challenging', 'VBG'), ('business', 'NN'), ('problems', 'NNS'), ('focus', 'VBP'), ('integration', 'NN'), ('platforms', 'NNS'), ('api', 'VBP'), ('design', 'NN'), ('micro', 'NN'), ('web', 'NN'), ('services', 'NNS'), ('help', 'NN'), ('customers', 'NNS'), ('reduce', 'VB'), ('costs', 'NNS'), ('risks', 'NNS'), ('simplifying', 'VBG'), ('integration', 'NN'), ('existing', 'VBG'), ('systems', 'NNS'), ('supporting', 'VBG'), ('aspects', 'NNS'), ('creating', 'VBG'), ('customized', 'JJ'), ('innovative', 'JJ'), ('digital', 'JJ'), ('solutions', 'NNS'), ('enough', 'VBP'), ('us', 'PRP'), ('let', 'VB'), ('us', 'PRP'), ('talk', 'VB'), ('someone', 'NN'), ('bachelors', 'NNS'), ('degree', 'VBP'), ('computer', 'NN'), ('science', 'NN'), ('mathematics', 'NNS'), ('statics', 'NNS'), ('masters', 'NNS'), ('degree', 'VBP'), ('desirable', 'JJ'), ('5', 'CD'), ('years', 'NNS'), ('bi', 'RB'), ('data', 'NNS'), ('engineering', 'NN'), ('related', 'JJ'), ('experience', 'NN'), ('high', 'JJ'), ('proficiency', 'NN'), ('plsql', 'NN'), ('coding', 'VBG'), ('power', 'NN'), ('bi', 'NN'), ('python', 'NN'), ('cloudbased', 'VBD'), ('data', 'NNS'), ('platforms', 'NNS'), ('aws', 'JJ'), ('azure', 'NN'), ('preferred', 'VBD'), ('database', 'JJ'), ('management', 'NN'), ('etl', 'NN'), ('job', 'NN'), ('creation', 'NN'), ('performance', 'NN'), ('testing', 'VBG'), ('tuning', 'VBG'), ('ability', 'NN'), ('tackle', 'NN'), ('tight', 'JJ'), ('deadlines', 'NNS'), ('work', 'VB'), ('pressure', 'NN'), ('experience', 'NN'), ('working', 'VBG'), ('fastpaced', 'VBN'), ('agile', 'IN'), ('environments', 'NNS'), ('asset', 'NN'), ('competent', 'NN'), ('decisionmaking', 'VBG'), ('capabilities', 'NNS'), ('ability', 'NN'), ('respond', 'VBP'), ('react', 'JJ'), ('emergency', 'NN'), ('situations', 'NNS'), ('effectively', 'RB'), ('communicate', 'VBP'), ('stakeholders', 'NNS'), ('client', 'NN'), ('leadership', 'NN'), ('individuals', 'NNS'), ('several', 'JJ'), ('organization', 'NN'), ('levels', 'NNS'), ('believe', 'VBP'), ('takes', 'VBZ'), ('successful', 'JJ'), ('member', 'NN'), ('team', 'NN'), ('please', 'VB'), ('apply', 'RB'), ('know', 'JJ'), ('career', 'NN'), ('important', 'JJ'), ('important', 'JJ'), ('us', 'PRP'), ('role', 'NN'), ('first', 'JJ'), ('step', 'NN'), ('highly', 'RB'), ('successful', 'JJ'), ('career', 'NN'), ('help', 'NN'), ('build', 'VB'), ('deloitte', 'NN'), ('launch', 'JJ'), ('career', 'NN'), ('one', 'CD'), ('firm', 'NN'), ('make', 'VB'), ('impact', 'NN'), ('matters', 'NNS'), ('way', 'NN'), ('never', 'RB'), ('thought', 'VBD'), ('possible', 'JJ'), ('endless', 'JJ'), ('opportunities', 'NNS'), ('every', 'DT'), ('turn', 'NN'), ('culture', 'NN'), ('built', 'VBD'), ('support', 'NN'), ('develop', 'NN'), ('people', 'NNS'), ('best', 'RB'), ('deloitte', 'VBP'), ('one', 'CD'), ('firm', 'NN'), ('learn', 'NN'), ('grow', 'VB'), ('create', 'NN'), ('connect', 'JJ'), ('lead', 'NN'), ('making', 'VBG'), ('three', 'CD'), ('commitments', 'NNS'), ('lead', 'JJ'), ('every', 'DT'), ('level', 'NN'), ('grow', 'NN'), ('worlds', 'NNS'), ('best', 'JJS'), ('leaders', 'NNS'), ('achieve', 'VBP'), ('impact', 'NN'), ('seek', 'VBP'), ('faster', 'NN'), ('work', 'NN'), ('way', 'NN'), ('give', 'JJ'), ('means', 'VBZ'), ('flexible', 'JJ'), ('need', 'NN'), ('want', 'VBP'), ('work', 'NN'), ('innovative', 'JJ'), ('spaces', 'NNS'), ('arrangements', 'NNS'), ('mindset', 'VB'), ('help', 'NN'), ('wildly', 'RB'), ('successful', 'JJ'), ('feel', 'NN'), ('included', 'VBD'), ('inspired', 'JJ'), ('create', 'NN'), ('deep', 'JJ'), ('sense', 'NN'), ('belonging', 'VBG'), ('bring', 'JJ'), ('whole', 'JJ'), ('self', 'NN'), ('work', 'NN'), ('next', 'JJ'), ('step', 'NN'), ('sound', 'NN'), ('like', 'IN'), ('one', 'CD'), ('firm', 'NN'), ('deloitte', 'NN'), ('business', 'NN'), ('inclusively', 'RB'), ('starts', 'VBZ'), ('diverse', 'JJ'), ('colleagues', 'NNS'), ('abilities', 'NNS'), ('deloitte', 'VBP'), ('encourages', 'NNS'), ('applications', 'NNS'), ('qualified', 'VBD'), ('candidates', 'NNS'), ('represents', 'VBZ'), ('full', 'JJ'), ('diversity', 'NN'), ('communities', 'NNS'), ('across', 'IN'), ('canada', 'NN'), ('includes', 'VBZ'), ('candidates', 'NNS'), ('indigenous', 'JJ'), ('communities', 'NNS'), ('support', 'VBP'), ('living', 'VBG'), ('values', 'NNS'), ('commitments', 'NNS'), ('reconciliation', 'VBP'), ('action', 'NN'), ('plan', 'NN'), ('encourage', 'VBP'), ('connect', 'VB'), ('us', 'PRP'), ('accessiblecareersdeloitteca', 'JJ'), ('require', 'VBP'), ('accommodation', 'NN'), ('recruitment', 'NN'), ('process', 'NN'), ('need', 'VBP'), ('job', 'NN'), ('posting', 'VBG'), ('alternative', 'JJ'), ('format', 'NN'), ('would', 'MD'), ('love', 'VB'), ('hear', 'NN'), ('applying', 'VBG'), ('job', 'NN'), ('assessed', 'VBD'), ('deloitte', 'NN'), ('global', 'JJ'), ('talent', 'NN'), ('standards', 'NNS'), ('designed', 'VBN'), ('standards', 'NNS'), ('provide', 'VB'), ('clients', 'NNS'), ('consistent', 'JJ'), ('exceptional', 'JJ'), ('deloitte', 'NN'), ('experience', 'NN'), ('globally', 'RB'), ('deloitte', 'VBZ'), ('canada', 'JJ'), ('30', 'CD'), ('offices', 'NNS'), ('representation', 'NN'), ('across', 'IN'), ('country', 'NN'), ('acknowledge', 'NN'), ('offices', 'NNS'), ('reside', 'VBP'), ('traditional', 'JJ'), ('treaty', 'NN'), ('unceded', 'JJ'), ('territories', 'NNS'), ('part', 'NN'), ('turtle', 'NN'), ('island', 'NN'), ('still', 'RB'), ('home', 'VBD'), ('many', 'JJ'), ('first', 'JJ'), ('nations', 'NNS'), ('méit', 'VBP'), ('inuit', 'NN'), ('peoples', 'NNS'), ('treaty', 'VBP'), ('people', 'NNS')]\n",
      "[('subsidiary', 'NN'), ('proptech', 'NN'), ('real', 'JJ'), ('estate', 'NN'), ('analytics', 'NNS'), ('spaces', 'NNS'), ('founded', 'VBD'), ('serial', 'JJ'), ('entrepreneurs', 'NNS'), ('experienced', 'VBD'), ('management', 'NN'), ('data', 'NNS'), ('analytics', 'NNS'), ('technology', 'NN'), ('leading', 'VBG'), ('cloud', 'NN'), ('services', 'NNS'), ('specializing', 'VBG'), ('canadian', 'JJ'), ('real', 'JJ'), ('estate', 'NN'), ('industry', 'NN'), ('delivering', 'VBG'), ('aidriven', 'JJ'), ('analytics', 'NNS'), ('data', 'NNS'), ('solutions', 'NNS'), ('enable', 'JJ'), ('homeowners', 'NNS'), ('investors', 'NNS'), ('brokers', 'NNS'), ('advertisers', 'NNS'), ('industry', 'NN'), ('professionals', 'VBZ'), ('researchers', 'NNS'), ('assess', 'JJ'), ('understand', 'JJ'), ('engage', 'NN'), ('transact', 'NN'), ('within', 'IN'), ('real', 'JJ'), ('estate', 'NN'), ('industry', 'NN'), ('headquartered', 'VBD'), ('toronto', 'JJ'), ('business', 'NN'), ('intelligence', 'NN'), ('developer', 'NN'), ('working', 'VBG'), ('guidance', 'NN'), ('program', 'NN'), ('supervisors', 'NNS'), ('working', 'VBG'), ('directly', 'RB'), ('team', 'JJ'), ('members', 'NNS'), ('including', 'VBG'), ('data', 'NNS'), ('scientists', 'NNS'), ('interns', 'VBP'), ('business', 'NN'), ('team', 'NN'), ('duties', 'NNS'), ('responsibilities', 'VBZ'), ('junior', 'JJ'), ('bi', 'NNS'), ('developer', 'IN'), ('develop', 'NN'), ('predictive', 'JJ'), ('models', 'NNS'), ('apply', 'VBP'), ('insights', 'NNS'), ('best', 'JJS'), ('practices', 'NNS'), ('build', 'VBP'), ('models', 'NNS'), ('increase', 'VB'), ('optimize', 'VB'), ('customer', 'NN'), ('experiences', 'NNS'), ('data', 'VBP'), ('platforms', 'NNS'), ('software', 'NN'), ('solutions', 'NNS'), ('service', 'NN'), ('offerings', 'NNS'), ('develop', 'VBP'), ('tools', 'NNS'), ('build', 'VBP'), ('tools', 'JJ'), ('processes', 'NNS'), ('monitor', 'VBP'), ('analyze', 'JJ'), ('model', 'NN'), ('performance', 'NN'), ('data', 'NNS'), ('accuracy', 'NN'), ('advice', 'NN'), ('continuous', 'JJ'), ('improvements', 'NNS'), ('provide', 'VBP'), ('recommendations', 'NNS'), ('new', 'JJ'), ('data', 'NNS'), ('sources', 'NNS'), ('enhance', 'VBP'), ('current', 'JJ'), ('data', 'NNS'), ('sets', 'NNS'), ('identify', 'VBP'), ('new', 'JJ'), ('data', 'NNS'), ('sources', 'NNS'), ('work', 'VBP'), ('data', 'NNS'), ('engineering', 'NN'), ('development', 'NN'), ('team', 'NN'), ('automate', 'NN'), ('ingestions', 'NNS'), ('transformations', 'NNS'), ('development', 'NN'), ('works', 'VBZ'), ('independently', 'RB'), ('team', 'JJ'), ('member', 'NN'), ('design', 'NN'), ('develop', 'VB'), ('test', 'NN'), ('implement', 'NN'), ('solutions', 'NNS'), ('support', 'NN'), ('aradatas', 'VBP'), ('initiatives', 'NNS'), ('designs', 'NNS'), ('develops', 'VBP'), ('web', 'JJ'), ('applications', 'NNS'), ('apis', 'VBP'), ('software', 'NN'), ('utilities', 'NNS'), ('using', 'VBG'), ('r', 'NN'), ('shiny', 'JJ'), ('tidyverse', 'NN'), ('python', 'NN'), ('flask', 'NN'), ('pandas', 'NN'), ('dash', 'NN'), ('bokeh', 'NN'), ('bash', 'NN'), ('javascript', 'NN'), ('jquery', 'NN'), ('nodejs', 'NN'), ('reactjs', 'NN'), ('css', 'NN'), ('html', 'NN'), ('web', 'NN'), ('development', 'NN'), ('languages', 'VBZ'), ('appropriate', 'JJ'), ('creates', 'NNS'), ('visual', 'JJ'), ('tool', 'NN'), ('mockups', 'NNS'), ('prototypes', 'VBP'), ('validate', 'JJ'), ('endusers', 'NNS'), ('identifies', 'NNS'), ('remedies', 'NNS'), ('problemsissues', 'NNS'), ('ensure', 'VB'), ('secure', 'NN'), ('wellfunctioning', 'VBG'), ('environment', 'NN'), ('optimizes', 'NNS'), ('system', 'NN'), ('efficiency', 'NN'), ('analyzing', 'VBG'), ('performance', 'NN'), ('indicators', 'NNS'), ('changing', 'VBG'), ('software', 'NN'), ('responsible', 'JJ'), ('application', 'NN'), ('deployments', 'NNS'), ('minimizing', 'VBG'), ('avoidable', 'JJ'), ('downtime', 'NN'), ('assists', 'VBZ'), ('initiatives', 'NNS'), ('upgrade', 'JJ'), ('application', 'NN'), ('deployment', 'NN'), ('infrastructure', 'NN'), ('performs', 'VBZ'), ('systems', 'NNS'), ('monitoring', 'VBG'), ('activities', 'NNS'), ('utilizing', 'VBG'), ('expert', 'NN'), ('knowledge', 'NN'), ('identify', 'VB'), ('areas', 'NNS'), ('required', 'VBN'), ('improvement', 'NN'), ('adjustment', 'NN'), ('etc', 'NN'), ('maintain', 'NN'), ('optimal', 'JJ'), ('operations', 'NNS'), ('peak', 'VBP'), ('performance', 'NN'), ('servers', 'NNS'), ('coordinates', 'VBZ'), ('quality', 'JJ'), ('assurance', 'NN'), ('activities', 'NNS'), ('include', 'VBP'), ('reviewing', 'VBG'), ('test', 'NN'), ('plantest', 'NN'), ('cases', 'NNS'), ('facilitate', 'VBP'), ('optimal', 'JJ'), ('provision', 'NN'), ('guidance', 'NN'), ('testing', 'VBG'), ('defect', 'JJ'), ('reporting', 'VBG'), ('identifies', 'NNS'), ('required', 'VBN'), ('schedulescoordinates', 'NNS'), ('problem', 'NN'), ('reviews', 'VBZ'), ('following', 'VBG'), ('assigned', 'JJ'), ('actions', 'NNS'), ('timely', 'RB'), ('manner', 'VBP'), ('utilizing', 'JJ'), ('expertise', 'NN'), ('resolve', 'NN'), ('andor', 'NN'), ('facilitate', 'JJ'), ('resolution', 'NN'), ('problems', 'NNS'), ('appropriate', 'VBP'), ('collaborates', 'NNS'), ('project', 'VBP'), ('teams', 'NNS'), ('identify', 'VBP'), ('define', 'JJ'), ('application', 'NN'), ('requirements', 'NNS'), ('making', 'VBG'), ('recommendations', 'NNS'), ('outlining', 'VBG'), ('technical', 'JJ'), ('initiatives', 'NNS'), ('goal', 'NN'), ('improving', 'VBG'), ('current', 'JJ'), ('situation', 'NN'), ('maintains', 'VBZ'), ('responsibility', 'NN'), ('development', 'NN'), ('delivery', 'NN'), ('project', 'NN'), ('presentations', 'NNS'), ('various', 'JJ'), ('stakeholders', 'NNS'), ('timely', 'RB'), ('manner', 'VBP'), ('gain', 'JJ'), ('full', 'JJ'), ('buyin', 'NN'), ('corporate', 'JJ'), ('endeavors', 'NNS'), ('knowledge', 'VBP'), ('skills', 'NNS'), ('undergraduate', 'JJ'), ('degree', 'NN'), ('engineering', 'NN'), ('computer', 'NN'), ('science', 'NN'), ('andor', 'NN'), ('related', 'VBN'), ('discipline', 'NN'), ('minimum', 'JJ'), ('2', 'CD'), ('years', 'NNS'), ('fullstack', 'RB'), ('development', 'NN'), ('experience', 'NN'), ('relevant', 'JJ'), ('experience', 'NN'), ('mining', 'NN'), ('analyzing', 'VBG'), ('visualizing', 'VBG'), ('large', 'JJ'), ('amounts', 'NNS'), ('data', 'NNS'), ('programming', 'VBG'), ('skills', 'NNS'), ('eg', 'JJ'), ('sql', 'JJ'), ('hive', 'JJ'), ('hql', 'NN'), ('relevant', 'JJ'), ('experience', 'NN'), ('reporting', 'NN'), ('analysis', 'NN'), ('insights', 'NNS'), ('extensive', 'JJ'), ('experience', 'NN'), ('html', 'NN'), ('css', 'NN'), ('javascript', 'NN'), ('including', 'VBG'), ('javascript', 'NN'), ('librarieseg', 'JJ'), ('jquery', 'NN'), ('nodejs', 'JJ'), ('react', 'JJ'), ('experience', 'NN'), ('one', 'CD'), ('following', 'VBG'), ('python', 'NN'), ('r', 'NN'), ('javascript', 'NN'), ('expertlevel', 'NN'), ('knowledge', 'VBP'), ('relational', 'JJ'), ('databases', 'NNS'), ('eg', 'VBP'), ('postgresql', 'JJ'), ('experience', 'NN'), ('nonrelational', 'JJ'), ('databases', 'NNS'), ('eg', 'VBP'), ('mongodb', 'JJ'), ('asset', 'NN'), ('experience', 'NN'), ('popular', 'JJ'), ('web', 'NN'), ('development', 'NN'), ('frameworks', 'NNS'), ('react', 'VBP'), ('django', 'JJ'), ('flask', 'NN'), ('expressjs', 'NN'), ('ruby', 'NN'), ('rails', 'VBZ'), ('comfortable', 'JJ'), ('working', 'VBG'), ('linux', 'NN'), ('environment', 'NN'), ('proficient', 'JJ'), ('version', 'NN'), ('control', 'NN'), ('systems', 'NNS'), ('eg', 'VBP'), ('git', 'JJ'), ('experience', 'NN'), ('providing', 'VBG'), ('supervision', 'NN'), ('guidance', 'NN'), ('leadership', 'NN'), ('feedback', 'NN'), ('project', 'NN'), ('teams', 'NNS'), ('junior', 'JJ'), ('resources', 'NNS'), ('ability', 'NN'), ('multitask', 'NN'), ('work', 'NN'), ('effectively', 'RB'), ('individually', 'RB'), ('part', 'NN'), ('team', 'NN'), ('proficiency', 'NN'), ('r', 'NN'), ('shiny', 'JJ'), ('r', 'NN'), ('markdown', 'NN'), ('andor', 'NN'), ('r', 'NN'), ('studio', 'NN'), ('connect', 'JJ'), ('asset', 'NN'), ('experience', 'NN'), ('data', 'NNS'), ('science', 'NN'), ('machine', 'NN'), ('learning', 'NN'), ('tools', 'NNS'), ('methods', 'NNS'), ('asset', 'NN'), ('experience', 'NN'), ('uiux', 'JJ'), ('design', 'NN'), ('best', 'JJS'), ('practices', 'NNS'), ('asset', 'NN'), ('strong', 'JJ'), ('interpersonal', 'JJ'), ('skills', 'NNS'), ('able', 'JJ'), ('build', 'JJ'), ('relationships', 'NNS'), ('effectively', 'RB'), ('interact', 'JJ'), ('influence', 'NN'), ('superior', 'JJ'), ('communication', 'NN'), ('skills', 'NNS'), ('proven', 'JJ'), ('ability', 'NN'), ('communicate', 'VBP'), ('quantitative', 'JJ'), ('qualitative', 'NN'), ('disciplined', 'VBD'), ('proven', 'JJ'), ('track', 'NN'), ('record', 'NN'), ('delivering', 'VBG'), ('results', 'NNS'), ('executing', 'VBG'), ('excellence', 'NN'), ('demonstrated', 'VBD'), ('ability', 'NN'), ('work', 'NN'), ('various', 'JJ'), ('data', 'NNS'), ('sources', 'NNS'), ('expertise', 'VBP'), ('reporting', 'VBG'), ('techniques', 'NNS'), ('report', 'NN'), ('automation', 'NN'), ('using', 'VBG'), ('platforms', 'NNS'), ('sql', 'VBP'), ('hive', 'JJ'), ('excellent', 'JJ'), ('written', 'VBN'), ('verbal', 'JJ'), ('skills', 'NNS'), ('keen', 'JJ'), ('attention', 'NN'), ('detail', 'NN'), ('nice', 'JJ'), ('experience', 'NN'), ('real', 'JJ'), ('estate', 'NN'), ('andor', 'NN'), ('mortgage', 'NN'), ('businesses', 'NNS'), ('asset', 'NN'), ('knowledge', 'NN'), ('statistical', 'JJ'), ('analysis', 'NN'), ('techniques', 'NNS'), ('regression', 'VBP'), ('clustering', 'VBG'), ('algorithms', 'RP'), ('using', 'VBG'), ('programming', 'VBG'), ('languages', 'NNS'), ('python', 'VBP'), ('pyspark', 'NN'), ('r', 'NN'), ('asset', 'NN'), ('academic', 'JJ'), ('qualifications', 'NNS'), ('focus', 'VBP'), ('business', 'NN'), ('finance', 'NN'), ('statistical', 'JJ'), ('analysis', 'NN'), ('asset', 'NN'), ('education', 'NN'), ('required', 'VBN'), ('undergraduate', 'JJ'), ('degree', 'NN'), ('engineering', 'NN'), ('computer', 'NN'), ('science', 'NN'), ('andor', 'NN'), ('related', 'VBN'), ('discipline', 'NN'), ('contract', 'NN'), ('length', 'VBZ'), ('6', 'CD'), ('months', 'NNS'), ('expected', 'VBN'), ('start', 'JJ'), ('date', 'NN'), ('20210701', 'CD'), ('job', 'NN'), ('types', 'NNS'), ('fulltime', 'VBP'), ('contract', 'NN'), ('benefits', 'NNS'), ('tuition', 'NN'), ('reimbursement', 'NN'), ('work', 'NN'), ('home', 'NN'), ('schedule', 'NN'), ('monday', 'NN'), ('friday', 'JJ'), ('covid19', 'JJ'), ('considerations', 'NNS'), ('employees', 'NNS'), ('working', 'VBG'), ('remotely', 'RB'), ('covid19', 'JJ'), ('application', 'NN'), ('questions', 'NNS'), ('experience', 'NN'), ('data', 'NNS'), ('science', 'NN'), ('modelling', 'VBG'), ('salary', 'JJ'), ('expectation', 'NN'), ('education', 'NN'), ('bachelor', 'NN'), (\"'s\", 'POS'), ('degree', 'NN'), ('required', 'VBN'), ('experience', 'NN'), ('software', 'NN'), ('development', 'NN'), ('1', 'CD'), ('year', 'NN'), ('preferred', 'VBN'), ('work', 'NN'), ('remotely', 'RB'), ('temporarily', 'RB'), ('due', 'JJ'), ('covid19', 'NN')]\n",
      "[('needs', 'NNS'), ('insurance', 'NN'), ('everybody', 'NN'), ('keeps', 'VBZ'), ('us', 'PRP'), ('busy', 'JJ'), ('busy', 'JJ'), ('intact', 'JJ'), ('lab', 'NN'), ('use', 'NN'), ('machine', 'NN'), ('learning', 'VBG'), ('data', 'NNS'), ('science', 'NN'), ('software', 'NN'), ('engineering', 'NN'), ('ai', 'VBP'), ('agility', 'NN'), ('ux', 'JJ'), ('design', 'NN'), ('thinking', 'VBG'), ('transform', 'JJ'), ('customer', 'NN'), ('experience', 'NN'), ('millions', 'NNS'), ('canadians', 'NNS'), ('simplifying', 'VBG'), ('insurance', 'NN'), ('takes', 'VBZ'), ('creativity', 'NN'), ('empathy', 'JJ'), ('hard', 'JJ'), ('work', 'NN'), ('explore', 'RB'), ('take', 'JJ'), ('risks', 'NNS'), ('make', 'VBP'), ('mistakes', 'NNS'), ('learn', 'VBP'), ('day', 'NN'), ('every', 'DT'), ('day', 'NN'), ('innovation', 'NN'), ('everyone', 'NN'), ('job', 'NN'), ('ready', 'JJ'), ('make', 'VBP'), ('mark', 'JJ'), ('role', 'NN'), ('machine', 'NN'), ('learning', 'VBG'), ('expert', 'JJ'), ('believes', 'VBZ'), ('infancy', 'NN'), ('artificial', 'JJ'), ('intelligence', 'NN'), ('passionate', 'NN'), ('advanced', 'VBD'), ('analytics', 'NNS'), ('big', 'JJ'), ('data', 'NNS'), ('stay', 'VBP'), ('current', 'JJ'), ('latest', 'JJS'), ('trends', 'NNS'), ('analytics', 'NNS'), ('jump', 'VBP'), ('chance', 'NN'), ('experiment', 'JJ'), ('new', 'JJ'), ('tools', 'NNS'), ('perfect', 'JJ'), ('opportunity', 'NN'), ('hiring', 'NN'), ('manager', 'NN'), ('amine', 'NN'), ('mahmoudi', 'NN'), ('workplace', 'NN'), ('montreal', 'NN'), ('2020', 'CD'), ('blvd', 'NN'), ('robertbourassa', 'JJ'), ('contribution', 'NN'), ('technical', 'JJ'), ('leader', 'NN'), ('help', 'NN'), ('defining', 'VBG'), ('data', 'NNS'), ('science', 'NN'), ('problems', 'NNS'), ('developing', 'VBG'), ('innovative', 'JJ'), ('solutions', 'NNS'), ('using', 'VBG'), ('machine', 'NN'), ('learning', 'NN'), ('advanced', 'VBD'), ('statistics', 'NNS'), ('help', 'VBP'), ('achieve', 'VB'), ('longterm', 'JJ'), ('business', 'NN'), ('goals', 'NNS'), ('identifying', 'VBG'), ('implementing', 'JJ'), ('solutions', 'NNS'), ('subtle', 'VBP'), ('ambiguous', 'JJ'), ('problems', 'NNS'), ('highest', 'JJS'), ('scientific', 'JJ'), ('rigour', 'NN'), ('influence', 'NN'), ('lab', 'NN'), ('technical', 'JJ'), ('direction', 'NN'), ('making', 'VBG'), ('actionable', 'JJ'), ('recommendations', 'NNS'), ('based', 'VBN'), ('scientific', 'JJ'), ('business', 'NN'), ('findings', 'NNS'), ('management', 'NN'), ('coaching', 'VBG'), ('mentoring', 'VBG'), ('senior', 'JJ'), ('data', 'NNS'), ('scientists', 'NNS'), ('technical', 'JJ'), ('matters', 'NNS'), ('act', 'VBP'), ('technical', 'JJ'), ('reference', 'NN'), ('management', 'NN'), ('review', 'NN'), ('machine', 'NN'), ('learning', 'VBG'), ('solutions', 'NNS'), ('identify', 'VBP'), ('corresponding', 'VBG'), ('scientific', 'JJ'), ('debt', 'NN'), ('ultimately', 'RB'), ('assess', 'JJ'), ('readiness', 'NN'), ('production', 'NN'), ('deployment', 'NN'), ('help', 'NN'), ('teams', 'NNS'), ('maintain', 'VBP'), ('high', 'JJ'), ('scientific', 'JJ'), ('level', 'NN'), ('monitoring', 'NN'), ('application', 'NN'), ('data', 'NNS'), ('science', 'NN'), ('standards', 'NNS'), ('practice', 'NN'), ('participate', 'VB'), ('evolution', 'NN'), ('keep', 'VB'), ('pace', 'NN'), ('new', 'JJ'), ('approaches', 'NNS'), ('trends', 'NNS'), ('use', 'VBP'), ('solutions', 'NNS'), ('work', 'VBP'), ('departments', 'NNS'), ('promote', 'VB'), ('adoption', 'NN'), ('analytical', 'JJ'), ('principles', 'NNS'), ('within', 'IN'), ('organization', 'NN'), ('qualifications', 'NNS'), ('assets', 'NNS'), ('masters', 'NNS'), ('phds', 'VBP'), ('degree', 'JJ'), ('relevant', 'JJ'), ('discipline', 'NN'), ('mathematics', 'NNS'), ('science', 'NN'), ('engineering', 'NN'), ('operational', 'JJ'), ('research', 'NN'), ('economics', 'NNS'), ('statistics', 'NNS'), ('ai', 'VBP'), ('computer', 'NN'), ('science', 'NN'), ('related', 'JJ'), ('field', 'NN'), ('8', 'CD'), ('years', 'NNS'), ('experience', 'RB'), ('field', 'NN'), ('advanced', 'VBD'), ('statistics', 'NNS'), ('data', 'NNS'), ('mining', 'VBG'), ('text', 'NN'), ('mining', 'NN'), ('strong', 'JJ'), ('communication', 'NN'), ('time', 'NN'), ('management', 'NN'), ('great', 'JJ'), ('teamworking', 'VBG'), ('organization', 'NN'), ('skills', 'NNS'), ('expertlevel', 'VBP'), ('understanding', 'VBG'), ('underlying', 'VBG'), ('theory', 'JJ'), ('machine', 'NN'), ('learning', 'VBG'), ('expertlevel', 'JJ'), ('understanding', 'NN'), ('either', 'CC'), ('computer', 'NN'), ('image', 'NN'), ('analysis', 'NN'), ('natural', 'JJ'), ('language', 'NN'), ('processing', 'VBG'), ('artificial', 'JJ'), ('intelligence', 'NN'), ('multiplatform', 'NN'), ('production', 'NN'), ('experience', 'NN'), ('commercial', 'JJ'), ('opensource', 'NN'), ('data', 'NNS'), ('mining', 'NN'), ('frameworks', 'NNS'), ('like', 'IN'), ('python', 'NN'), ('r', 'NN'), ('github', 'NN'), ('etc', 'FW'), ('ability', 'NN'), ('focus', 'NN'), ('vaguely', 'RB'), ('defined', 'VBD'), ('issues', 'NNS'), ('requiring', 'VBG'), ('application', 'NN'), ('creative', 'JJ'), ('approach', 'NN'), ('reasons', 'NNS'), ('others', 'NNS'), ('joined', 'VBD'), ('team', 'NN'), ('awardwinning', 'VBG'), ('inspiring', 'VBG'), ('workplace', 'NN'), ('supports', 'NNS'), ('people', 'NNS'), ('recognizes', 'VBP'), ('great', 'JJ'), ('work', 'NN'), ('stimulating', 'VBG'), ('challenging', 'JJ'), ('projects', 'NNS'), ('development', 'NN'), ('opportunities', 'NNS'), ('help', 'VBP'), ('grow', 'VB'), ('skills', 'NNS'), ('career', 'VBP'), ('flexibility', 'NN'), ('work', 'NN'), ('comprehensive', 'JJ'), ('financial', 'JJ'), ('rewards', 'NNS'), ('program', 'NN'), ('recognizes', 'VBZ'), ('success', 'NN'), ('extensive', 'JJ'), ('flexible', 'JJ'), ('benefits', 'NNS'), ('package', 'NN'), ('industry', 'NN'), ('leading', 'VBG'), ('employee', 'NN'), ('share', 'NN'), ('purchase', 'NN'), ('plan', 'NN'), ('match', 'VBP'), ('50', 'CD'), ('net', 'JJ'), ('shares', 'NNS'), ('purchased', 'VBN'), ('casual', 'JJ'), ('dress', 'NN'), ('day', 'NN'), ('culture', 'NN'), ('encourages', 'VBZ'), ('350', 'CD'), ('annual', 'JJ'), ('wellness', 'NN'), ('account', 'NN'), ('promotes', 'NNS'), ('active', 'JJ'), ('lifestyle', 'JJ'), ('closing', 'NN'), ('statement', 'NN'), ('equal', 'JJ'), ('opportunity', 'NN'), ('employer', 'NN'), ('intact', 'JJ'), ('value', 'NN'), ('respect', 'NN'), ('founded', 'VBD'), ('seeing', 'VBG'), ('diversity', 'NN'), ('strength', 'NN'), ('inclusive', 'JJ'), ('fostering', 'NN'), ('collaboration', 'NN'), ('value', 'NN'), ('diversity', 'NN'), ('strive', 'JJ'), ('create', 'NN'), ('inclusive', 'JJ'), ('accessible', 'JJ'), ('workplace', 'NN'), ('individuals', 'NNS'), ('feel', 'VBP'), ('valued', 'VBN'), ('respected', 'JJ'), ('heard', 'NN'), ('provide', 'VBP'), ('specific', 'JJ'), ('adjustment', 'NN'), ('make', 'VBP'), ('recruitment', 'NN'), ('process', 'NN'), ('accessible', 'JJ'), ('please', 'NN'), ('advise', 'VB'), ('talent', 'JJ'), ('acquisition', 'NN'), ('partner', 'NN'), ('reaches', 'VBZ'), ('job', 'NN'), ('opportunity', 'NN'), ('work', 'NN'), ('meet', 'NN'), ('needs', 'NNS'), ('background', 'IN'), ('checks', 'NNS'), ('employer', 'VBP'), ('publicly', 'RB'), ('traded', 'VBN'), ('financial', 'JJ'), ('services', 'NNS'), ('company', 'NN'), ('best', 'JJS'), ('interests', 'NNS'), ('customers', 'NNS'), ('employees', 'NNS'), ('shareholders', 'NNS'), ('important', 'JJ'), ('us', 'PRP'), ('want', 'VBP'), ('intact', 'JJ'), ('great', 'JJ'), ('place', 'NN'), ('work', 'NN'), ('means', 'VBZ'), ('internal', 'JJ'), ('external', 'JJ'), ('candidates', 'NNS'), ('asked', 'VBD'), ('consent', 'NN'), ('background', 'NN'), ('checks', 'NNS'), ('learn', 'VBP'), ('please', 'JJ'), ('note', 'NN'), ('positions', 'NNS'), ('access', 'NN'), ('financial', 'JJ'), ('data', 'NN'), ('funds', 'NNS'), ('credit', 'NN'), ('must', 'MD'), ('good', 'VB'), ('standing', 'VBG'), ('internal', 'JJ'), ('candidates', 'NNS'), ('internal', 'JJ'), ('candidates', 'NNS'), ('apply', 'RB'), ('posted', 'VBD'), ('position', 'NN'), ('current', 'JJ'), ('position', 'NN'), ('least', 'JJS'), ('12', 'CD'), ('months', 'NNS'), ('performing', 'VBG'), ('satisfactory', 'JJ'), ('level', 'NN'), ('please', 'NN'), ('note', 'NN'), ('may', 'MD'), ('identified', 'VB'), ('internal', 'JJ'), ('candidates', 'NNS'), ('employee', 'NN'), ('development', 'NN'), ('program', 'NN'), ('selection', 'NN'), ('process', 'NN'), ('may', 'MD'), ('also', 'RB'), ('opened', 'VBD'), ('external', 'JJ'), ('applicants', 'NNS'), ('eligibility', 'NN'), ('work', 'VBP'), ('canada', 'NN'), ('important', 'JJ'), ('legally', 'RB'), ('eligible', 'JJ'), ('work', 'NN'), ('canada', 'NN'), ('time', 'NN'), ('offer', 'NN'), ('employment', 'NN'), ('made', 'VBD'), ('may', 'MD'), ('requested', 'VB'), ('provide', 'VB'), ('proof', 'JJ'), ('eligibility', 'NN'), ('time', 'NN'), ('referral', 'JJ'), ('bonus', 'NN'), ('role', 'NN'), ('eligible', 'JJ'), ('employee', 'NN'), ('referral', 'JJ'), ('bonus', 'NN'), ('myreferrals3000', 'NN'), ('linkedin', 'NN'), ('sponsored', 'VBD'), ('liquebecit', 'NN')]\n",
      "[('avant', 'JJ'), ('le', 'NN'), ('srascov2', 'NN'), ('un', 'JJ'), ('vaccin', 'NN'), ('qui', 'NN'), ('était', 'NNP'), ('développé', 'NN'), ('rapidement', 'NN'), ('prenait', 'NN'), ('environ', 'VBD'), ('4', 'CD'), ('ans', 'NNS'), ('en', 'JJ'), ('comparaison', 'NN'), ('les', 'NNS'), ('vaccins', 'VBZ'), ('contre', 'JJ'), ('le', 'NN'), ('srascov2', 'NN'), ('ont', 'JJ'), ('été', 'NNP'), ('développés', 'NN'), ('en', 'NN'), ('moins', 'VBZ'), ('de', 'IN'), ('12', 'CD'), ('mois', 'NNS'), ('imaginez', 'JJ'), ('un', 'JJ'), ('monde', 'NN'), ('où', 'NN'), ('chaque', 'NN'), ('vaccin', 'NN'), ('serait', 'NN'), ('développé', 'NN'), ('à', 'NNP'), ('la', 'NNP'), ('vitesse', 'FW'), ('des', 'NNS'), ('vaccins', 'NNS'), ('contre', 'VBP'), ('le', 'JJ'), ('srascov2', 'NN'), ('aidez', 'NN'), ('genaiz', 'NN'), ('à', 'NNP'), ('faire', 'NN'), ('de', 'IN'), ('ce', 'FW'), ('rêve', 'FW'), ('une', 'JJ'), ('réalité', 'VBP'), ('rejoigneznous', 'JJ'), ('maintenant', 'NN'), ('genaiz', 'NN'), ('une', 'JJ'), ('division', 'NN'), (\"d'uni3t\", 'NN'), ('est', 'JJS'), ('une', 'JJ'), ('entreprise', 'NN'), ('jeune', 'NN'), ('et', 'FW'), ('dynamique', 'NN'), ('de', 'FW'), ('développement', 'FW'), ('de', 'FW'), ('logiciels', 'FW'), ('active', 'JJ'), ('dans', 'NNS'), (\"l'industrie\", 'VBP'), ('pharmaceutique', 'JJ'), ('et', 'FW'), ('des', 'NNS'), ('sciences', 'FW'), ('de', 'FW'), ('la', 'FW'), ('vie', 'FW'), ('notre', 'FW'), ('mission', 'NN'), ('est', 'JJS'), (\"d'accroître\", 'NN'), ('le', 'NN'), ('bienêtre', 'NN'), ('collectif', 'NN'), ('en', 'FW'), ('accélérant', 'JJ'), ('la', 'FW'), ('création', 'NN'), ('de', 'FW'), ('meilleurs', 'FW'), ('produits', 'NNS'), ('processus', 'VBP'), ('et', 'JJ'), ('traitements', 'NNS'), ('grâce', 'VBP'), ('à', 'JJ'), ('un', 'JJ'), ('assistant', 'NN'), ('à', 'NNP'), (\"l'innovateur\", 'NN'), ('à', 'NNP'), ('la', 'NNP'), ('pointe', 'FW'), ('de', 'FW'), ('la', 'FW'), ('technologie', 'FW'), ('nous', 'JJ'), ('recherchons', 'NNS'), ('actuellement', 'JJ'), ('un', 'JJ'), ('bio', 'NN'), ('informaticien', 'NN'), ('qui', 'NN'), ('apportera', 'NN'), ('automatisation', 'NN'), ('et', 'FW'), ('innovation', 'NN'), ('aux', 'IN'), ('processus', 'NN'), ('bioinformatiques', 'NNS'), ('pour', 'VBP'), ('les', 'VBZ'), ('clients', 'NNS'), ('il', 'JJ'), (\"s'agira\", 'NN'), ('de', 'IN'), ('mettre', 'FW'), ('en', 'FW'), ('œuvre', 'FW'), ('des', 'NNS'), ('techniques', 'NNS'), ('analytiques', 'NNS'), ('standard', 'VBP'), ('par', 'JJ'), ('exemple', 'JJ'), (\"l'analyse\", 'NN'), ('des', 'NNS'), ('voies', 'NNS'), ('et', 'VBP'), (\"d'améliorer\", 'NN'), ('les', 'NNS'), ('techniques', 'NNS'), ('existantes', 'NNS'), ('en', 'VBP'), ('tant', 'JJ'), ('que', 'NN'), ('bio', 'NN'), ('informaticien', 'NN'), ('de', 'IN'), ('genaiz', 'FW'), ('vous', 'JJ'), ('devez', 'NN'), ('aimer', 'NN'), ('documenter', 'NN'), ('votre', 'NN'), ('travail', 'NN'), ('et', 'NN'), ('vos', 'NN'), ('recherches', 'NNS'), ('partager', 'NN'), ('ces', 'NNS'), ('connaissances', 'NNS'), ('et', 'VBP'), ('écrire', 'NNP'), ('un', 'JJ'), ('excellent', 'JJ'), ('code', 'NN'), ('tout', 'IN'), ('en', 'FW'), ('suivant', 'JJ'), ('les', 'NNS'), ('processus', 'FW'), ('de', 'FW'), ('développement', 'NN'), ('agiles', 'NNS'), ('typiques', 'NNS'), ('le', 'VBP'), ('générique', 'JJ'), ('masculin', 'NN'), ('est', 'JJS'), ('utilisé', 'JJ'), ('sans', 'NNS'), ('discrimination', 'NN'), ('et', 'FW'), ('uniquement', 'JJ'), ('dans', 'NNS'), ('le', 'VBP'), (\"d'alléger\", 'NN'), ('le', 'NN'), ('texte', 'NN'), ('responsabilités', 'NN'), ('traduire', 'NN'), ('les', 'VBZ'), ('besoins', 'NNS'), ('bioinformatiques', 'NNS'), ('des', 'NNS'), ('clients', 'NNS'), ('en', 'JJ'), ('solutions', 'NNS'), ('innovantes', 'VBZ'), ('et', 'VBP'), ('robustes', 'NNS'), ('prêtes', 'NNS'), ('pour', 'VBP'), ('la', 'JJ'), ('production', 'NN'), ('avec', 'NN'), (\"l'aide\", 'IN'), (\"d'une\", 'NN'), ('équipe', 'NNP'), ('créer', 'NN'), ('des', 'NNS'), ('connaissances', 'NNS'), ('et', 'VBP'), ('des', 'NNS'), ('technologies', 'NNS'), ('en', 'VBP'), (\"s'appropriant\", 'JJ'), ('des', 'NNS'), ('projets', 'NNS'), ('bioinformatiques', 'VBP'), ('agir', 'FW'), ('de', 'FW'), ('manière', 'FW'), ('indépendante', 'NN'), ('en', 'FW'), ('effectuant', 'JJ'), ('votre', 'NN'), ('travail', 'NN'), ('sans', 'NNS'), ('supervision', 'VBP'), ('importante', 'JJ'), ('communiquer', 'NN'), ('et', 'VBP'), ('documenter', 'NN'), ('les', 'NNS'), ('solutions', 'NNS'), ('bioinformatiques', 'NNS'), ('pour', 'VBP'), ('des', 'NNS'), ('publics', 'NNS'), ('techniques', 'NNS'), ('et', 'VBP'), ('non', 'RB'), ('techniques', 'NNS'), ('communiquer', 'VBP'), ('et', 'RB'), ('documenter', 'JJ'), ('la', 'NN'), ('recherche', 'VB'), ('pour', 'NN'), ('des', 'NNS'), ('publics', 'NNS'), ('techniques', 'NNS'), ('et', 'VBP'), ('non', 'RB'), ('techniques', 'NNS'), ('rapporter', 'VBP'), ('et', 'RB'), ('présenter', 'NN'), ('des', 'NNS'), ('solutions', 'NNS'), ('par', 'VBP'), ('exemple', 'JJ'), ('recherche', 'NN'), ('bioinformatique', 'NN'), ('de', 'IN'), ('manière', 'FW'), ('claire', 'NN'), ('et', 'FW'), ('efficace', 'NN'), ('à', 'NN'), ('ses', 'VBZ'), ('collègues', 'NNS'), ('et', 'FW'), ('à', 'NNP'), ('la', 'FW'), ('direction', 'NN'), ('être', 'FW'), ('un', 'JJ'), ('joueur', 'NN'), (\"d'équipe\", 'NN'), ('en', 'FW'), ('participant', 'NN'), ('à', 'NNP'), ('la', 'NNP'), ('révision', 'NN'), ('par', 'NN'), ('les', 'VBZ'), ('collègues', 'NNS'), ('en', 'FW'), ('partageant', 'NN'), ('des', 'NNS'), ('idées', 'VBP'), ('et', 'FW'), ('en', 'FW'), ('aidant', 'NN'), ('tout', 'IN'), ('le', 'JJ'), ('monde', 'NN'), ('à', 'NNP'), ('réussir', 'NN'), ('qualifications', 'NNS'), ('une', 'VBP'), ('maîtrise', 'NN'), ('ou', 'NN'), ('un', 'JJ'), ('doctorat', 'NN'), ('en', 'IN'), ('bioinformatique', 'NN'), ('en', 'FW'), ('informatique', 'JJ'), ('médicale', 'NN'), ('en', 'IN'), ('informatique', 'NN'), ('ou', 'NN'), ('dans', 'NNS'), ('un', 'JJ'), ('domaine', 'NN'), ('lié', 'NN'), ('5', 'CD'), ('ans', 'NNS'), (\"d'expérience\", 'NN'), ('dans', 'NNS'), (\"l'industrie\", 'VBP'), ('sur', 'JJ'), ('des', 'NNS'), ('projets', 'NNS'), ('bioinformatiques', 'VBP'), ('multidisciplinaires', 'NNS'), ('expérience', 'VBP'), ('dans', 'NNS'), ('la', 'JJ'), ('réalisation', 'NN'), ('de', 'IN'), ('recherches', 'NNS'), (\"l'analyse\", 'VBP'), ('et', 'JJ'), ('la', 'FW'), ('communication', 'NN'), ('des', 'NNS'), ('résultats', 'VBP'), ('quelque', 'JJ'), ('expérience', 'NN'), ('en', 'FW'), ('matière', 'NN'), (\"d'exigences\", 'NNS'), ('opérationnelles', 'VBZ'), ('efficacité', 'JJ'), ('prouvée', 'NN'), ('à', 'NNP'), ('travailler', 'NN'), ('avec', 'NN'), ('des', 'VBZ'), ('données', 'JJ'), ('biomédicales', 'NNS'), ('biologie', 'VBP'), ('moléculaire', 'NN'), ('capable', 'JJ'), (\"d'écrire\", 'NN'), ('du', 'NN'), ('code', 'NN'), ('propre', 'NN'), ('réutilisable', 'JJ'), ('et', 'NN'), ('prêt', 'FW'), ('pour', 'NN'), ('la', 'NN'), ('production', 'NN'), ('sur', 'NN'), ('python', 'NN'), ('r', 'NN'), ('et', 'FW'), ('bioconductor', 'NN'), ('connaissance', 'NN'), ('des', 'NNS'), ('statistiques', 'VBP'), ('et', 'FW'), ('des', 'FW'), ('structures', 'FW'), ('de', 'FW'), ('données', 'FW'), ('computationnelles', 'NNS'), ('telles', 'NNS'), ('que', 'VBP'), ('les', 'NNS'), ('graphes', 'NNS'), ('excellente', 'VBP'), ('communication', 'NN'), ('écrite', 'NNP'), ('verbale', 'NN'), ('et', 'NN'), ('interpersonnelle', 'NN'), ('une', 'JJ'), ('expertise', 'NN'), ('dans', 'NNS'), (\"l'analyse\", 'VBP'), ('des', 'NNS'), ('réseaux', 'VBP'), ('et', 'RB'), ('des', 'JJ'), ('voies', 'NNS'), ('de', 'IN'), ('communication', 'NN'), ('et', 'NNS'), ('dans', 'VBZ'), ('des', 'JJ'), ('analyses', 'NNS'), ('similaires', 'VBZ'), ('connaissance', 'NN'), ('des', 'NNS'), ('données', 'VBP'), ('string', 'VBG'), ('reactome', 'NN'), ('kegg', 'NN'), ('et', 'NN'), ('similaires', 'VBZ'), ('qualifications', 'NNS'), ('préférées', 'JJ'), ('expérience', 'NN'), ('avec', 'NN'), ('mongodb', 'NN'), ('git', 'NN'), ('gcp', 'NN'), ('docker', 'NN'), ('aws', 'VBZ'), ('k8s', 'JJ'), ('et', 'NN'), ('les', 'NNS'), ('microservices', 'NNS'), ('expérience', 'RB'), ('en', 'IN'), ('protéomique', 'NN'), ('et', 'NN'), ('génomiques', 'NNS'), ('computationnelles', 'NNS'), ('avantages', 'NNS'), ('poste', 'VBP'), ('permanent', 'JJ'), ('à', 'NNP'), ('temps', 'NNS'), ('plein', 'VBP'), ('salaire', 'NN'), ('de', 'IN'), ('base', 'NN'), ('compétitif', 'NN'), ('prime', 'JJ'), ('couverture', 'NN'), (\"d'assurance\", 'NN'), ('complète', 'JJ'), ('culture', 'NN'), (\"d'entreprise\", 'NN'), ('dynamique', 'NN'), ('avec', 'NN'), ('des', 'NNS'), ('possibilités', 'VBP'), ('de', 'FW'), ('développement', 'FW'), ('de', 'FW'), ('carrière', 'FW'), ('horaires', 'NNS'), ('de', 'IN'), ('travail', 'NN'), ('flexibles', 'NNS'), ('situé', 'VBP'), ('entre', 'JJ'), ('griffintown', 'JJ'), ('et', 'NN'), ('le', 'NN'), ('vieuxmontréal', 'NN'), ('dans', 'NNS'), ('le', 'VBP'), ('quartier', 'JJR'), ('de', 'FW'), ('la', 'FW'), ('cité', 'FW'), ('du', 'FW'), ('multimédia', 'FW'), ('qui', 'FW'), ('fait', 'NN'), ('maintenant', 'NN'), ('partie', 'NN'), ('du', 'NN'), ('pôle', 'NN'), ('holistique', 'NN'), ('de', 'IN'), ('montréal', 'FW'), ('pour', 'JJ'), (\"l'innovation\", 'NN'), (\"l'éducation\", 'NN'), ('et', 'FW'), (\"l'entrepreneuriat\", 'NN'), ('le', 'FW'), ('quartier', 'JJR'), ('de', 'FW'), (\"l'innovation\", 'NN'), ('genaiz', 'NN'), ('est', 'JJS'), ('un', 'JJ'), ('employeur', 'NN'), ('offrant', 'JJ'), (\"l'égalité\", 'NN'), ('des', 'NNS'), ('chances', 'NNS'), ('tous', 'JJ'), ('les', 'NNS'), ('candidats', 'NNS'), ('seront', 'VBP'), ('considérés', 'JJ'), ('pour', 'NN'), ('un', 'JJ'), ('emploi', 'NN'), ('sans', 'NNS'), ('égard', 'VBP'), ('à', 'NNP'), (\"l'âge\", 'NN'), ('à', 'NNP'), ('la', 'FW'), ('couleur', 'NN'), ('aux', 'NN'), ('congés', 'VB'), ('pour', 'NN'), ('soins', 'NNS'), ('familiaux', 'VBP'), ('ou', 'JJ'), ('médicaux', 'NN'), ('à', 'NNP'), (\"l'identité\", 'VBZ'), ('ou', 'JJ'), ('à', 'NNP'), (\"l'expression\", 'NN'), ('sexuelle', 'NN'), ('à', 'NNP'), (\"l'état\", 'NNP'), ('civil', 'JJ'), ('à', 'NNP'), ('la', 'NN'), ('condition', 'NN'), ('médicale', 'NN'), ('à', 'NNP'), (\"l'origine\", 'NN'), ('nationale', 'NN'), ('à', 'NNP'), ('un', 'JJ'), ('handicap', 'NN'), ('physique', 'NN'), ('ou', 'IN'), ('mental', 'JJ'), ('à', 'JJ'), (\"l'affiliation\", 'NN'), ('politique', 'NN'), ('à', 'NNP'), ('la', 'NN'), ('race', 'NN'), ('à', 'NNP'), ('la', 'NNP'), ('religion', 'NN'), ('au', 'NN'), ('sexe', 'NN'), ('compris', 'NN'), ('la', 'FW'), ('grossesse', 'FW'), ('à', 'FW'), (\"l'orientation\", 'NN'), ('sexuelle', 'FW'), ('ou', 'FW'), ('à', 'FW'), ('toute', 'NN'), ('autre', 'NN'), ('caractéristique', 'NN'), ('protégée', 'NN'), ('par', 'NN'), ('les', 'VBZ'), ('lois', 'JJ'), ('règlements', 'NNS'), ('et', 'VBP'), ('ordinogrammes', 'NNS'), ('applicables', 'RB'), ('nous', 'JJ'), ('vous', 'JJ'), ('remercions', 'NNS'), ('de', 'IN'), ('votre', 'FW'), ('intérêt', 'JJ'), ('seuls', 'NN'), ('les', 'NNS'), ('candidats', 'NNS'), ('qualifiés', 'VBP'), ('seront', 'JJ'), ('contactés', 'NN'), ('sarscov2', 'NN'), ('fastest', 'JJS'), ('vaccine', 'NN'), ('ever', 'RB'), ('developed', 'VBD'), ('took', 'VBD'), ('4', 'CD'), ('years', 'NNS'), ('sarscov2', 'JJ'), ('vaccines', 'NNS'), ('developed', 'VBD'), ('less', 'JJR'), ('12', 'CD'), ('months', 'NNS'), ('imagine', 'JJ'), ('world', 'NN'), ('every', 'DT'), ('vaccine', 'NN'), ('developed', 'VBD'), ('speed', 'NN'), ('sarscov2', 'NN'), ('vaccines', 'NNS'), ('help', 'VBP'), ('genaiz', 'VB'), ('make', 'VB'), ('reality', 'NN'), ('join', 'VB'), ('us', 'PRP'), ('genaiz', 'JJ'), ('division', 'NN'), ('uni3t', 'JJ'), ('young', 'JJ'), ('dynamic', 'JJ'), ('software', 'NN'), ('development', 'NN'), ('company', 'NN'), ('active', 'JJ'), ('life', 'NN'), ('science', 'NN'), ('pharmaceutical', 'JJ'), ('industry', 'NN'), ('mission', 'NN'), ('increase', 'NN'), ('collective', 'JJ'), ('wellbeing', 'VBG'), ('accelerating', 'VBG'), ('creation', 'NN'), ('better', 'RBR'), ('products', 'NNS'), ('processes', 'VBZ'), ('treatments', 'NNS'), ('stateoftheart', 'JJ'), ('innovators', 'NNS'), ('assistant', 'VBP'), ('currently', 'RB'), ('looking', 'VBG'), ('bioinformatics', 'NNS'), ('scientist', 'JJ'), ('bring', 'JJ'), ('automation', 'NN'), ('innovation', 'NN'), ('bioinformatics', 'NNS'), ('processes', 'VBZ'), ('clients', 'NNS'), ('involve', 'VB'), ('implementing', 'VBG'), ('standard', 'JJ'), ('analytic', 'JJ'), ('techniques', 'NNS'), ('eg', 'VBP'), ('pathway', 'RB'), ('analysis', 'NN'), ('improving', 'VBG'), ('existing', 'VBG'), ('techniques', 'NNS'), ('genaiz', 'VBP'), ('bioinformatics', 'NNS'), ('scientist', 'NN'), ('must', 'MD'), ('enjoy', 'VB'), ('documenting', 'VBG'), ('work', 'NN'), ('research', 'NN'), ('sharing', 'VBG'), ('knowledge', 'NN'), ('writing', 'VBG'), ('excellent', 'JJ'), ('code', 'NN'), ('following', 'VBG'), ('typical', 'JJ'), ('agile', 'NN'), ('development', 'NN'), ('processes', 'VBZ'), ('responsibilities', 'NNS'), ('translate', 'VBP'), ('client', 'NN'), ('bioinformatics', 'NNS'), ('needs', 'VBZ'), ('innovative', 'JJ'), ('robust', 'JJ'), ('production', 'NN'), ('ready', 'JJ'), ('solutions', 'NNS'), ('help', 'VBP'), ('team', 'VB'), ('create', 'VB'), ('knowledge', 'NNP'), ('technology', 'NN'), ('owning', 'VBG'), ('bioinformatics', 'NNS'), ('projects', 'NNS'), ('act', 'VBP'), ('independently', 'RB'), ('completing', 'VBG'), ('work', 'NN'), ('without', 'IN'), ('significant', 'JJ'), ('supervision', 'NN'), ('communicate', 'NN'), ('document', 'NN'), ('bioinformatics', 'NNS'), ('solutions', 'NNS'), ('technical', 'JJ'), ('nontechnical', 'JJ'), ('audiences', 'NNS'), ('communicate', 'VBP'), ('document', 'JJ'), ('research', 'NN'), ('technical', 'JJ'), ('nontechnical', 'JJ'), ('audiences', 'NNS'), ('report', 'NN'), ('present', 'JJ'), ('solutions', 'NNS'), ('eg', 'VBP'), ('research', 'NN'), ('bioinformatics', 'NNS'), ('clearly', 'RB'), ('effectively', 'RB'), ('peers', 'NNS'), ('management', 'NN'), ('team', 'NN'), ('player', 'NN'), ('participating', 'VBG'), ('peer', 'NN'), ('review', 'NN'), ('sharing', 'VBG'), ('ideas', 'NNS'), ('helping', 'VBG'), ('everyone', 'NN'), ('succeed', 'VB'), ('qualifications', 'NNS'), ('master', 'NN'), (\"'s\", 'POS'), ('phd', 'JJ'), ('degree', 'NN'), ('bioinformatics', 'NNS'), ('medical', 'JJ'), ('informatics', 'NNS'), ('computer', 'NN'), ('science', 'NN'), ('related', 'JJ'), ('field', 'NN'), ('5', 'CD'), ('years', 'NNS'), ('industry', 'NN'), ('experience', 'NN'), ('multidisciplinary', 'JJ'), ('bioinformatics', 'NNS'), ('projects', 'NNS'), ('experience', 'VBP'), ('completing', 'VBG'), ('research', 'NN'), ('analyzing', 'VBG'), ('communicating', 'VBG'), ('results', 'NNS'), ('working', 'VBG'), ('knowledge', 'NN'), ('business', 'NN'), ('requirements', 'NNS'), ('experience', 'NN'), ('working', 'VBG'), ('biomedical', 'JJ'), ('data', 'NNS'), ('molecular', 'JJ'), ('biology', 'NN'), ('able', 'JJ'), ('write', 'JJ'), ('clean', 'JJ'), ('reusable', 'JJ'), ('productionready', 'JJ'), ('code', 'NN'), ('python', 'NN'), ('r', 'NN'), ('bioconductor', 'NN'), ('knowledge', 'NN'), ('statistics', 'NNS'), ('computational', 'JJ'), ('data', 'NNS'), ('structures', 'NNS'), ('graphs', 'VBP'), ('proven', 'JJ'), ('capabilities', 'NNS'), ('network', 'NN'), ('pathway', 'RB'), ('analysis', 'NN'), ('similar', 'JJ'), ('analyses', 'NNS'), ('experience', 'NN'), ('string', 'VBG'), ('reactome', 'NN'), ('kegg', 'NN'), ('similar', 'JJ'), ('data', 'NNS'), ('excellent', 'NN'), ('written', 'VBN'), ('verbal', 'JJ'), ('interpersonal', 'JJ'), ('communication', 'NN'), ('preferred', 'JJ'), ('qualifications', 'NNS'), ('experience', 'NN'), ('mongodb', 'NN'), ('git', 'NN'), ('gcp', 'NN'), ('docker', 'NN'), ('aws', 'VBZ'), ('k8s', 'JJ'), ('microservices', 'NNS'), ('experience', 'VBP'), ('computational', 'JJ'), ('proteomics', 'NNS'), ('genomics', 'NNS'), ('benefits', 'NNS'), ('permanent', 'JJ'), ('fulltime', 'JJ'), ('position', 'NN'), ('competitive', 'JJ'), ('base', 'NN'), ('salary', 'JJ'), ('bonus', 'NN'), ('comprehensive', 'JJ'), ('insurance', 'NN'), ('coverage', 'NN'), ('dynamic', 'JJ'), ('company', 'NN'), ('culture', 'NN'), ('career', 'NN'), ('development', 'NN'), ('opportunities', 'NNS'), ('flexible', 'JJ'), ('working', 'JJ'), ('hours', 'NNS'), ('located', 'VBN'), ('griffintown', 'JJ'), ('old', 'JJ'), ('montreal', 'NN'), ('cité', 'NN'), ('du', 'NN'), ('multimédia', 'NN'), ('neighborhood', 'NN'), ('part', 'NN'), ('montreals', 'NNS'), ('holistic', 'JJ'), ('hub', 'NN'), ('innovation', 'NN'), ('education', 'NN'), ('entrepreneurship', 'FW'), ('quartier', 'JJR'), ('de', 'FW'), ('linnovation', 'NN'), ('genaiz', 'NN'), ('group', 'NN'), ('equal', 'JJ'), ('opportunity', 'NN'), ('employer', 'NN'), ('applicants', 'NNS'), ('receive', 'VBP'), ('consideration', 'NN'), ('employment', 'NN'), ('without', 'IN'), ('regard', 'NN'), ('age', 'NN'), ('color', 'NN'), ('family', 'NN'), ('medical', 'JJ'), ('care', 'NN'), ('leave', 'VB'), ('gender', 'NN'), ('identity', 'NN'), ('expression', 'NN'), ('marital', 'JJ'), ('status', 'NN'), ('medical', 'JJ'), ('condition', 'NN'), ('national', 'JJ'), ('origin', 'NN'), ('physical', 'JJ'), ('mental', 'JJ'), ('disability', 'NN'), ('political', 'JJ'), ('affiliation', 'NN'), ('race', 'NN'), ('religion', 'NN'), ('sex', 'NN'), ('including', 'VBG'), ('pregnancy', 'NN'), ('sexual', 'JJ'), ('orientation', 'NN'), ('characteristic', 'NN'), ('protected', 'VBD'), ('applicable', 'JJ'), ('laws', 'NNS'), ('regulations', 'NNS'), ('ordinances', 'NNS'), ('thank', 'JJ'), ('interest', 'NN'), ('qualifying', 'VBG'), ('candidates', 'NNS'), ('contacted', 'VBD')]\n",
      "[('responsibilities', 'NNS'), ('develop', 'VBP'), ('stateoftheart', 'JJ'), ('computer', 'NN'), ('vision', 'NN'), ('algorithms', 'IN'), ('object', 'JJ'), ('detection', 'NN'), ('classification', 'NN'), ('face', 'NN'), ('recognition', 'NN'), ('prototype', 'NN'), ('hardware', 'NN'), ('software', 'NN'), ('solutions', 'NNS'), ('object', 'VBP'), ('detection', 'NN'), ('classification', 'NN'), ('face', 'NN'), ('recognition', 'NN'), ('develop', 'VB'), ('implement', 'JJ'), ('scalable', 'JJ'), ('efficient', 'NN'), ('modeling', 'VBG'), ('algorithms', 'JJ'), ('work', 'NN'), ('largescale', 'NN'), ('data', 'NNS'), ('production', 'NN'), ('systems', 'NNS'), ('collaborate', 'VBP'), ('product', 'NN'), ('management', 'NN'), ('engineering', 'NN'), ('groups', 'NNS'), ('develop', 'VBP'), ('new', 'JJ'), ('products', 'NNS'), ('features', 'VBZ'), ('skills', 'NNS'), ('qualifications', 'NNS'), ('phd', 'VBP'), ('ms', 'RB'), ('degree', 'JJ'), ('computer', 'NN'), ('science', 'NN'), ('electrical', 'JJ'), ('engineering', 'NN'), ('statistics', 'NNS'), ('applied', 'VBD'), ('math', 'NN'), ('related', 'VBN'), ('fields', 'NNS'), ('expertise', 'RB'), ('deep', 'JJ'), ('learning', 'VBG'), ('deep', 'JJ'), ('neural', 'JJ'), ('networks', 'NNS'), ('convolutional', 'JJ'), ('neural', 'JJ'), ('networks', 'NNS'), ('artificial', 'JJ'), ('intelligence', 'NN'), ('andor', 'NN'), ('related', 'VBN'), ('techniques', 'NNS'), ('proficient', 'VBP'), ('one', 'CD'), ('programming', 'NN'), ('languages', 'VBZ'), ('python', 'VBP'), ('java', 'JJ'), ('familiarity', 'NN'), ('one', 'CD'), ('neural', 'JJ'), ('network', 'NN'), ('frameworks', 'NNS'), ('tensorflow', 'VBP'), ('caffe', 'JJ'), ('mxnet', 'NN'), ('strong', 'JJ'), ('analytical', 'JJ'), ('quantitative', 'NN'), ('problem', 'NN'), ('solving', 'VBG'), ('ability', 'NN'), ('excellent', 'JJ'), ('communication', 'NN'), ('relationship', 'NN'), ('skills', 'VBZ'), ('strong', 'JJ'), ('team', 'NN'), ('player', 'NN'), ('preferred', 'JJ'), ('qualifications', 'NNS'), ('experience', 'VBP'), ('big', 'JJ'), ('data', 'NNS'), ('techniques', 'NNS'), ('hadoop', 'VBP'), ('mapreduce', 'VB'), ('spark', 'JJ'), ('experience', 'NN'), ('relational', 'JJ'), ('sql', 'NN'), ('nosql', 'NN'), ('databases', 'VBZ'), ('compensation', 'NN'), ('tbd', 'NN'), ('apply', 'VB'), ('please', 'JJ'), ('send', 'VB'), ('resume', 'NN'), ('hrawakedatacom', 'NN')]\n",
      "[('qui', 'RB'), ('sommesnous', 'JJ'), ('buspatrouille', 'NN'), ('est', 'JJS'), ('une', 'JJ'), ('entreprise', 'NN'), ('spécialisée', 'NN'), ('dans', 'NNS'), ('la', 'VBP'), ('technologie', 'FW'), ('de', 'FW'), ('sécurité', 'FW'), ('à', 'FW'), ('titre', 'FW'), ('de', 'FW'), ('principal', 'FW'), ('fournisseur', 'JJ'), ('international', 'JJ'), ('de', 'FW'), ('dispositifs', 'FW'), ('visant', 'JJ'), ('à', 'NNP'), ('faire', 'NN'), ('respecter', 'NN'), ('le', 'NN'), ('bras', 'NNS'), (\"d'arrêt\", 'VBP'), ('des', 'NNS'), ('autobus', 'JJ'), ('scolaires', 'NNS'), ('notre', 'JJ'), ('mission', 'NN'), ('principale', 'NN'), ('est', 'JJS'), (\"d'améliorer\", 'NN'), ('la', 'NN'), ('vie', 'FW'), ('des', 'VBZ'), ('élèves', 'NNS'), ('où', 'RP'), (\"qu'ils\", 'NNS'), ('se', 'FW'), ('trouvent', 'NN'), ('la', 'FW'), ('technologie', 'FW'), ('de', 'FW'), ('buspatrouille', 'FW'), ('été', 'FW'), ('déployée', 'FW'), ('sur', 'NN'), ('un', 'JJ'), ('plus', 'CC'), ('grand', 'JJ'), ('nombre', 'NN'), (\"d'autobus\", 'NN'), ('et', 'FW'), ('été', 'NNP'), ('utilisée', 'FW'), ('pour', 'VBP'), ('délivrer', 'NN'), ('un', 'JJ'), ('plus', 'CC'), ('grand', 'JJ'), ('nombre', 'NN'), ('de', 'IN'), ('constats', 'NNS'), (\"d'infraction\", 'VBP'), ('relatifs', 'JJ'), ('au', 'NN'), ('bras', 'NNS'), (\"d'arrêt\", 'VBP'), ('des', 'NNS'), ('autobus', 'JJ'), ('scolaires', 'NNS'), ('que', 'VBP'), ('toute', 'JJ'), ('autre', 'NN'), ('technologie', 'NN'), ('des', 'VBZ'), ('autres', 'NNS'), ('entreprises', 'VBZ'), ('existantes', 'NNS'), ('à', 'NNP'), (\"l'échelle\", 'VBP'), ('mondiale', 'JJ'), ('notre', 'JJ'), ('technologie', 'NN'), ('exclusive', 'JJ'), ('transforme', 'NN'), ('les', 'NNS'), ('autobus', 'VBP'), ('scolaires', 'NNS'), ('en', 'FW'), ('autobus', 'NN'), ('intelligents', 'NNS'), ('équipés', 'FW'), ('de', 'FW'), ('caméras', 'FW'), ('vidéo', 'FW'), ('de', 'FW'), ('gps', 'FW'), ('de', 'FW'), ('télémétrie', 'FW'), ('de', 'FW'), ('traitement', 'FW'), ('de', 'FW'), ('données', 'FW'), ('et', 'FW'), (\"d'archivage\", 'NN'), ('de', 'FW'), ('cette', 'NN'), ('manière', 'RB'), ('nous', 'JJ'), ('permettons', 'NNS'), ('aux', 'VBP'), ('comtés', 'JJ'), ('et', 'FW'), ('aux', 'JJ'), ('districts', 'NNS'), ('scolaires', 'VBZ'), (\"d'améliorer\", 'JJR'), ('la', 'JJ'), ('sécurité', 'NN'), ('des', 'NNS'), ('enfants', 'NNS'), ('buspatrouille', 'VBP'), ('est', 'JJS'), ('en', 'JJ'), ('pleine', 'NN'), ('croissance', 'NN'), ('nous', 'JJ'), ('sommes', 'NNS'), ('donc', 'VBP'), ('à', 'JJ'), ('la', 'NN'), ('recherche', 'NN'), (\"d'un\", 'NN'), ('ou', 'IN'), (\"d'une\", 'JJ'), ('scientifique', 'NN'), ('de', 'IN'), ('données', 'FW'), ('pour', 'JJ'), ('intégrer', 'NN'), ('notre', 'JJ'), ('service', 'NN'), ('de', 'IN'), ('veille', 'FW'), ('stratégique', 'NN'), ('bi', 'NN'), ('si', 'VBP'), ('vous', 'JJ'), ('aimez', 'NN'), ('travailler', 'NN'), ('dans', 'NNS'), ('un', 'JJ'), ('environnement', 'JJ'), ('dynamique', 'NN'), ('avec', 'NN'), ('des', 'VBZ'), ('collègues', 'NNS'), ('talentueux', 'VBP'), ('ce', 'JJ'), ('poste', 'NN'), ('est', 'JJS'), ('pour', 'VBP'), ('vous', 'JJ'), ('responsabilités', 'NN'), ('le', 'JJ'), ('poste', 'NN'), ('de', 'IN'), ('scientifique', 'FW'), ('de', 'FW'), ('données', 'FW'), ('une', 'JJ'), ('grande', 'NN'), ('influence', 'NN'), ('et', 'FW'), ('nécessite', 'FW'), ('de', 'FW'), ('travailler', 'FW'), ('en', 'FW'), ('étroite', 'FW'), ('collaboration', 'NN'), ('avec', 'NN'), ('les', 'VBZ'), ('clients', 'NNS'), ('ainsi', 'JJ'), (\"qu'avec\", 'JJ'), ('les', 'NNS'), ('équipes', 'NNS'), ('des', 'NNS'), ('ventes', 'NNS'), ('et', 'VBP'), ('de', 'IN'), (\"l'exploitation\", 'NN'), ('afin', 'NN'), (\"d'aider\", 'NN'), ('à', 'NNP'), ('prendre', 'NN'), ('des', 'NNS'), ('décisions', 'NNS'), ('fondées', 'VBP'), ('sur', 'JJ'), ('les', 'NNS'), ('données', 'FW'), ('de', 'FW'), ('manière', 'FW'), ('à', 'FW'), ('stimuler', 'NN'), ('une', 'JJ'), ('croissance', 'NN'), ('efficace', 'NN'), ('de', 'IN'), ('buspatrouille', 'FW'), ('si', 'FW'), ('vous', 'JJ'), ('aimez', 'NN'), ('la', 'NN'), ('communication', 'NN'), ('narrative', 'JJ'), ('et', 'NN'), ('le', 'NN'), ('fait', 'NN'), (\"d'influencer\", 'NN'), ('les', 'VBZ'), ('décisions', 'NNS'), ('opérationnelles', 'NNS'), ('au', 'VBP'), ('moyen', 'JJ'), ('des', 'NNS'), ('chiffres', 'VBZ'), ('nous', 'JJ'), ('voulons', 'NNS'), ('faire', 'VBP'), ('votre', 'JJ'), ('connaissance', 'NN'), ('il', 'NN'), (\"s'agit\", 'JJ'), (\"d'un\", 'JJ'), ('poste', 'NN'), ('de', 'IN'), ('premier', 'FW'), ('plan', 'NN'), ('qui', 'VBP'), ('vous', 'JJ'), ('permettra', 'JJ'), (\"d'interagir\", 'NN'), ('régulièrement', 'NN'), ('avec', 'NN'), ('les', 'VBZ'), ('chefs', 'NNS'), (\"d'entreprise\", 'NN'), ('de', 'FW'), ('définir', 'FW'), ('la', 'FW'), ('feuille', 'FW'), ('de', 'FW'), ('route', 'FW'), ('de', 'FW'), (\"l'équipe\", 'FW'), ('et', 'FW'), ('de', 'FW'), ('recenser', 'FW'), ('les', 'FW'), ('besoins', 'VBZ'), ('pour', 'VBP'), ('fournir', 'NN'), ('des', 'NNS'), ('solutions', 'NNS'), ('innovantes', 'NNS'), ('la', 'VBP'), ('personne', 'JJ'), ('idéale', 'NN'), ('est', 'JJS'), ('autonome', 'JJ'), ('très', 'NN'), ('analytique', 'NN'), ('curieuse', 'NN'), ('et', 'FW'), ('de', 'FW'), ('la', 'FW'), ('facilité', 'FW'), ('à', 'FW'), ('plonger', 'NN'), ('dans', 'NNS'), ('de', 'VBP'), ('grands', 'NNS'), ('ensembles', 'NNS'), ('de', 'IN'), ('données', 'FW'), ('afin', 'JJ'), (\"d'en\", 'NN'), ('tirer', 'NN'), ('des', 'VBZ'), ('enseignements', 'NNS'), ('notre', 'JJ'), ('environnement', 'JJ'), ('évolue', 'JJ'), ('rapidement', 'NN'), ('et', 'NN'), ('requiert', 'NN'), ('une', 'JJ'), ('personne', 'NN'), ('enthousiaste', 'NN'), ('flexible', 'JJ'), ('soucieuse', 'NN'), ('du', 'NN'), ('détail', 'NN'), ('analytique', 'NN'), ('et', 'FW'), ('à', 'NNP'), (\"l'aise\", 'VB'), ('pour', 'JJ'), ('travailler', 'NN'), ('avec', 'NN'), ('plusieurs', 'NN'), ('équipes', 'VBZ'), ('et', 'CC'), ('des', 'NNS'), ('priorités', 'VBP'), ('concurrentes', 'NNS'), ('mettre', 'VBP'), ('en', 'IN'), ('pratique', 'NN'), (\"d'excellentes\", 'NNS'), ('compétences', 'NNS'), ('en', 'VBP'), ('matière', 'JJ'), (\"d'analyse\", 'NN'), ('et', 'FW'), ('de', 'FW'), ('résolution', 'NN'), ('de', 'IN'), ('problèmes', 'FW'), ('pour', 'JJ'), ('prendre', 'NN'), ('des', 'NNS'), ('décisions', 'NNS'), (\"d'affaires\", 'NNS'), ('dans', 'NNS'), ('un', 'JJ'), ('environnement', 'JJ'), ('dynamique', 'NN'), ('afin', 'NN'), ('de', 'IN'), ('fournir', 'FW'), ('des', 'NNS'), ('avantages', 'NNS'), ('aux', 'VBP'), ('clients', 'NNS'), ('et', 'VB'), ('des', 'NNS'), ('analyses', 'VBZ'), ('de', 'FW'), ('performance', 'NN'), ('travailler', 'NN'), ('de', 'IN'), ('manière', 'FW'), ('indépendante', 'JJ'), ('et', 'FW'), ('en', 'FW'), ('collaboration', 'NN'), ('avec', 'NN'), (\"d'autres\", 'VBZ'), ('scientifiques', 'NNS'), ('des', 'NNS'), ('ingénieurs', 'VBP'), ('des', 'NNS'), ('concepteurs', 'VBP'), ('des', 'NNS'), ('développeurs', 'VBP'), ('en', 'IN'), ('veille', 'FW'), ('stratégique', 'NN'), ('bi', 'NN'), ('et', 'NN'), ('des', 'VBZ'), ('gestionnaires', 'NNS'), ('de', 'IN'), ('produits', 'NNS'), ('sur', 'VBP'), ('des', 'NNS'), ('projets', 'NNS'), ('complexes', 'VBP'), ('qui', 'JJ'), ('génèrent', 'NN'), ('de', 'IN'), ('la', 'FW'), ('valeur', 'FW'), ('pour', 'FW'), ('buspatrouille', 'FW'), ('posséder', 'NN'), (\"d'excellentes\", 'NNS'), ('aptitudes', 'IN'), ('à', 'NNP'), ('la', 'NNP'), ('communication', 'NN'), ('et', 'NN'), ('être', 'NNP'), ('capable', 'JJ'), ('de', 'FW'), ('structurer', 'FW'), ('un', 'JJ'), ('scénario', 'NN'), ('convaincant', 'JJ'), ('pour', 'NN'), ('présenter', 'NN'), ('une', 'JJ'), ('narration', 'NN'), ('à', 'NNP'), (\"l'aide\", 'NN'), ('de', 'IN'), ('données', 'FW'), ('exploitables', 'NNS'), ('être', 'VBP'), ('capable', 'JJ'), ('de', 'FW'), ('conceptualiser', 'NN'), ('des', 'NNS'), ('problématiques', 'VBP'), ('ou', 'JJ'), ('des', 'NNS'), ('occasions', 'NNS'), (\"d'affaires\", 'NNS'), ('de', 'VBP'), ('formuler', 'NN'), ('des', 'NNS'), ('hypothèses', 'VBZ'), ('et', 'VBP'), ('des', 'NNS'), ('objectifs', 'FW'), ('de', 'FW'), ('définir', 'FW'), ('des', 'NNS'), ('indicateurs', 'VBP'), ('clés', 'NN'), ('de', 'FW'), ('performance', 'NN'), ('et', 'FW'), ('de', 'FW'), ('faire', 'FW'), ('des', 'NNS'), ('recommandations', 'NNS'), ('adéquates', 'NNS'), ('construire', 'VBP'), ('des', 'NNS'), ('modèles', 'NNS'), ('prescriptifs', 'VBP'), ('et', 'JJ'), ('prédictifs', 'FW'), ('de', 'FW'), ('calibre', 'FW'), ('international', 'JJ'), ('pour', 'NN'), ('résoudre', 'NN'), ('des', 'NNS'), ('problèmes', 'VBP'), ('commerciaux', 'JJ'), ('dans', 'NNS'), ('un', 'JJ'), ('environnement', 'JJ'), ('qui', 'NN'), ('évolue', 'NNP'), ('rapidement', 'NN'), ('tirer', 'NN'), ('parti', 'NN'), ('des', 'NNS'), ('données', 'VBP'), ('internes', 'NNS'), ('et', 'CC'), ('externes', 'NNS'), ('pour', 'VBP'), ('synthétiser', 'NN'), ('des', 'NNS'), ('idées', 'VBP'), ('intéressantes', 'NNS'), ('qui', 'VBP'), ('expliquent', 'JJ'), ('les', 'NNS'), ('tendances', 'NNS'), ('sousjacentes', 'VBZ'), ('de', 'IN'), (\"l'écosystème\", 'FW'), ('de', 'FW'), (\"l'application\", 'NN'), ('automatisée', 'NN'), ('des', 'NNS'), ('lois', 'VBP'), ('repérer', 'NN'), ('les', 'NNS'), ('possibilités', 'VBP'), (\"d'automatisation\", 'NN'), ('pour', 'VBP'), ('favoriser', 'NN'), (\"l'évolutivité\", 'NN'), ('et', 'FW'), ('améliorer', 'NN'), ('tant', 'NN'), (\"l'efficacité\", 'NN'), ('que', 'NN'), ('la', 'FW'), ('productivité', 'FW'), ('de', 'FW'), (\"l'équipe\", 'FW'), ('élargie', 'FW'), ('posséder', 'FW'), ('de', 'FW'), ('solides', 'FW'), ('compétences', 'NNS'), ('en', 'FW'), ('communication', 'NN'), ('écrite', 'FW'), ('et', 'FW'), ('verbale', 'FW'), ('avec', 'FW'), ('la', 'FW'), ('capacité', 'FW'), ('de', 'FW'), ('synthétiser', 'FW'), ('efficacement', 'NN'), ('des', 'NNS'), ('idées', 'VBP'), ('notamment', 'JJ'), ('la', 'NN'), ('théorie', 'NN'), ('des', 'NNS'), ('modèles', 'NNS'), ('les', 'NNS'), ('compromis', 'VBP'), ('de', 'IN'), ('sélection', 'NN'), ('et', 'NN'), ('les', 'VBZ'), ('limites', 'VBZ'), ('pour', 'JJ'), ('les', 'NNS'), ('présenter', 'RB'), ('à', 'VBP'), ('la', 'JJ'), ('haute', 'JJ'), ('direction', 'NN'), ('ou', 'IN'), ('à', 'NNP'), ('des', 'FW'), ('clients', 'NNS'), ('en', 'FW'), ('temps', 'NNS'), ('voulu', 'VBP'), ('embaucher', 'RB'), ('former', 'JJ'), ('encadrer', 'NN'), ('et', 'NN'), ('diriger', 'NN'), ('une', 'JJ'), ('solide', 'NN'), ('équipe', 'NNP'), (\"d'analyse\", 'NN'), ('de', 'FW'), ('données', 'FW'), ('pour', 'FW'), ('buspatrouille', 'NN'), ('exigences', 'NNS'), ('un', 'JJ'), ('diplôme', 'NN'), (\"d'études\", 'NNS'), ('supérieures', 'VBZ'), ('de', 'FW'), ('préférence', 'NN'), ('un', 'JJ'), ('doctorat', 'NN'), ('en', 'IN'), ('économie', 'NNP'), ('en', 'FW'), ('finance', 'NN'), ('en', 'FW'), ('statistique', 'NN'), ('ou', 'NN'), ('dans', 'NNS'), ('un', 'JJ'), ('autre', 'JJ'), ('domaine', 'NN'), ('quantitatif', 'JJ'), ('plus', 'CC'), ('de', 'JJ'), ('trois', 'NN'), ('ans', 'NNS'), (\"d'expérience\", 'VBP'), ('pertinente', 'JJ'), ('une', 'JJ'), ('expérience', 'NN'), ('avérée', 'NN'), ('de', 'IN'), ('la', 'FW'), ('manipulation', 'NN'), (\"d'un\", 'FW'), ('large', 'JJ'), ('éventail', 'NNP'), ('de', 'FW'), ('sources', 'NNS'), ('et', 'FW'), ('de', 'FW'), ('systèmes', 'FW'), ('de', 'FW'), ('données', 'FW'), ('pour', 'FW'), ('fournir', 'NN'), ('des', 'NNS'), ('analyses', 'VBZ'), ('et', 'VBP'), ('des', 'NNS'), ('visualisations', 'NNS'), ('qui', 'VBP'), ('ont', 'JJ'), ('des', 'NNS'), ('répercussions', 'NNS'), ('sur', 'VBP'), (\"l'activité\", 'JJ'), ('une', 'JJ'), ('solide', 'JJ'), ('compréhension', 'NN'), ('théorique', 'NN'), ('et', 'FW'), ('une', 'JJ'), ('expertise', 'NN'), ('concrète', 'NN'), ('des', 'NNS'), ('bases', 'VBZ'), ('de', 'IN'), ('données', 'FW'), ('des', 'NNS'), ('structures', 'FW'), ('de', 'FW'), ('données', 'FW'), ('des', 'NNS'), ('mégadonnées', 'FW'), ('de', 'FW'), (\"l'apprentissage\", 'FW'), ('automatique', 'JJ'), ('et', 'FW'), ('des', 'NNS'), ('méthodes', 'FW'), ('le', 'FW'), ('partitionnement', 'NN'), ('en', 'IN'), ('kmoyennes', 'NNS'), ('kmeans', 'NNS'), ('la', 'VBP'), ('forêt', 'JJ'), (\"d'arbres\", 'NNS'), ('décisionnels', 'NNS'), ('les', 'NNS'), ('algorithmes', 'NNS'), (\"d'amplification\", 'NN'), ('de', 'IN'), ('gradient', 'FW'), ('gradient', 'NN'), ('boosting', 'VBG'), ('etc', 'JJ'), ('une', 'JJ'), ('expertise', 'NN'), ('dans', 'NNS'), ('les', 'VBZ'), ('approches', 'NNS'), ('analytiques', 'NNS'), ('de', 'IN'), ('pointe', 'FW'), ('par', 'JJ'), ('exemple', 'NN'), (\"l'analyse\", 'NN'), ('des', 'NNS'), ('bases', 'VBZ'), ('de', 'IN'), ('données', 'FW'), (\"l'analyse\", 'FW'), ('numérique', 'FW'), ('la', 'FW'), ('visualisation', 'NN'), ('des', 'NNS'), ('données', 'VBP'), ('et', 'JJ'), ('les', 'NNS'), ('plateformes', 'NNS'), ('par', 'VBP'), ('exemple', 'JJ'), ('redshift', 'NN'), ('mysql', 'NN'), ('postgresql', 'NN'), ('amazon', 'NN'), ('tableau', 'NN'), ('une', 'JJ'), ('grande', 'JJ'), ('maîtrise', 'NN'), ('de', 'FW'), ('sql', 'FW'), ('r', 'NN'), ('ou', 'FW'), ('python', 'NN'), ('des', 'NNS'), ('compétences', 'NNS'), ('analytiques', 'NNS'), ('exceptionnelles', 'NNS'), ('et', 'VBP'), ('un', 'JJ'), ('sens', 'NNS'), ('aigu', 'VBP'), ('des', 'NNS'), ('affaires', 'NNS'), (\"d'excellentes\", 'NNS'), ('compétences', 'NNS'), ('en', 'VBP'), ('communication', 'NN'), ('avec', 'NN'), ('la', 'NN'), ('capacité', 'JJ'), (\"d'influencer\", 'NN'), ('les', 'VBZ'), ('décideurs', 'NNS'), ('et', 'FW'), (\"d'obtenir\", 'NN'), ('un', 'JJ'), ('consensus', 'NN'), ('au', 'NN'), ('sein', 'NN'), ('des', 'VBZ'), ('équipes', 'NNS'), ('une', 'JJ'), ('curiosité', 'VBP'), ('intellectuelle', 'JJ'), ('une', 'JJ'), ('grande', 'NN'), ('autonomie', 'NN'), ('et', 'FW'), ('un', 'JJ'), ('esprit', 'NN'), (\"d'équipe\", 'NN'), ('rémunération', 'NN'), ('et', 'FW'), ('avantages', 'NNS'), ('un', 'VBP'), ('salaire', 'NN'), ('concurrentiel', 'NN'), ('des', 'NNS'), ('avantages', 'VBZ'), ('sociaux', 'JJ'), ('complets', 'NNS'), ('notamment', 'JJ'), ('une', 'JJ'), ('assurance', 'NN'), ('soins', 'NNS'), ('médicaux', 'VBP'), ('soins', 'NNS'), ('dentaires', 'NNS'), ('et', 'VBP'), ('soins', 'NNS'), ('de', 'FW'), ('la', 'FW'), ('vue', 'FW'), ('un', 'JJ'), ('poste', 'NN'), ('de', 'IN'), ('direction', 'NN'), ('au', 'NN'), ('sein', 'NN'), (\"d'une\", 'NN'), ('entreprise', 'NN'), ('qui', 'NN'), ('se', 'FW'), ('développe', 'FW'), ('rapidement', 'NN'), ('et', 'FW'), ('qui', 'NN'), ('est', 'JJS'), ('investie', 'NN'), (\"d'une\", 'NN'), ('mission', 'NN'), (\"l'occasion\", 'NN'), ('de', 'IN'), ('travailler', 'NN'), ('avec', 'NN'), ('une', 'JJ'), ('équipe', 'NNP'), ('très', 'NN'), ('performante', 'NN'), (\"l'occasion\", 'NN'), ('de', 'IN'), ('contribuer', 'FW'), ('à', 'NNP'), ('la', 'FW'), ('création', 'NN'), (\"d'une\", 'NN'), ('entreprise', 'NN'), ('vouée', 'NN'), ('à', 'NNP'), ('la', 'NNP'), ('sécurité', 'VBD'), ('des', 'NNS'), ('enfants', 'NNS'), ('nous', 'JJ'), ('sommes', 'NNS'), ('à', 'VBP'), ('la', 'JJ'), ('recherche', 'FW'), ('de', 'FW'), ('membres', 'FW'), ('essentiels', 'FW'), ('de', 'FW'), (\"l'équipe\", 'FW'), ('de', 'FW'), ('buspatrouille', 'FW'), ('qui', 'RB'), ('nous', 'JJ'), ('aideront', 'NNS'), ('dans', 'NNS'), ('notre', 'VBP'), ('quête', 'RB'), ('pour', 'JJ'), ('accroître', 'NN'), ('la', 'NN'), ('sécurité', 'NN'), ('des', 'VBZ'), ('enfants', 'NNS'), ('ce', 'JJ'), ('poste', 'NN'), ('joue', 'NN'), ('un', 'JJ'), ('rôle', 'NN'), ('important', 'JJ'), ('dans', 'NNS'), ('notre', 'JJ'), ('entreprise', 'VBP'), ('et', 'FW'), ('constitue', 'NN'), ('une', 'NN'), ('formidable', 'JJ'), ('opportunité', 'JJ'), ('pour', 'NN'), ('les', 'NNS'), ('personnes', 'NNS'), ('qui', 'RB'), ('seront', 'VBP'), ('retenues', 'NNS'), ('nous', 'JJ'), ('offrons', 'NNS'), ('un', 'JJ'), ('milieu', 'FW'), ('de', 'FW'), ('travail', 'FW'), ('inclusif', 'NN'), ('diversifié', 'NN'), ('enthousiaste', 'NN'), ('intègre', 'NN'), ('et', 'FW'), ('profondément', 'NN'), ('engagé', 'NN'), ('venez', 'VBP'), ('nous', 'JJ'), ('aider', 'NN'), ('à', 'NNP'), ('assurer', 'NN'), ('la', 'NN'), ('sécurité', 'NN'), ('des', 'VBZ'), ('enfants', 'NNS'), ('buspatrol', 'VB'), ('mission', 'NN'), ('create', 'JJ'), ('culture', 'NN'), ('responsibility', 'NN'), ('awareness', 'NN'), ('road', 'NN'), ('devoted', 'VBD'), ('making', 'VBG'), ('journey', 'JJ'), ('school', 'NN'), ('safer', 'NN'), ('develop', 'VB'), ('partnerships', 'NNS'), ('deploy', 'VB'), ('safety', 'NN'), ('tech', 'JJ'), ('manage', 'NN'), ('entire', 'JJ'), ('program', 'NN'), ('equipped', 'VBD'), ('thousands', 'NNS'), ('buses', 'NNS'), ('across', 'IN'), ('north', 'JJ'), ('america', 'JJ'), ('innovative', 'JJ'), ('technology', 'NN'), ('buspatrol', 'NN'), ('america', 'NN'), ('cares', 'VBZ'), ('student', 'JJ'), ('safety', 'NN'), ('educate', 'NN'), ('motorists', 'NNS'), ('every', 'DT'), ('day', 'NN'), ('helping', 'VBG'), ('enforce', 'NN'), ('law', 'NN'), ('work', 'NN'), ('school', 'NN'), ('officials', 'NNS'), ('improve', 'VBP'), ('safety', 'NN'), ('responsibilities', 'NNS'), ('data', 'VBP'), ('scientist', 'NN'), ('highimpact', 'NN'), ('role', 'NN'), ('work', 'NN'), ('closely', 'RB'), ('customer', 'NN'), ('sales', 'NNS'), ('operations', 'NNS'), ('teams', 'NNS'), ('help', 'VBP'), ('drive', 'VB'), ('datadriven', 'JJ'), ('decisions', 'NNS'), ('accelerate', 'VBP'), ('buspatrol', 'NN'), (\"'s\", 'POS'), ('efficient', 'JJ'), ('growth', 'NN'), ('storytelling', 'VBG'), ('impacting', 'VBG'), ('operational', 'JJ'), ('decisions', 'NNS'), ('numbers', 'NNS'), ('exciting', 'VBG'), ('want', 'VBP'), ('hear', 'JJ'), ('high', 'JJ'), ('visibility', 'NN'), ('role', 'NN'), ('drive', 'NN'), ('predictive', 'JJ'), ('analytic', 'JJ'), ('insights', 'NNS'), ('best', 'JJS'), ('practices', 'NNS'), ('buspatrol', 'VBP'), ('expands', 'VBZ'), ('global', 'JJ'), ('footprint', 'NN'), ('ideal', 'JJ'), ('candidate', 'NN'), ('selfstarter', 'NN'), ('highly', 'RB'), ('analytical', 'JJ'), ('curious', 'JJ'), ('comfortable', 'JJ'), ('diving', 'VBG'), ('deep', 'JJ'), ('large', 'JJ'), ('data', 'NNS'), ('sets', 'NNS'), ('unearth', 'JJ'), ('insights', 'NNS'), ('environment', 'NN'), ('fastpaced', 'VBD'), ('requires', 'VBZ'), ('someone', 'NN'), ('enthusiastic', 'JJ'), ('flexible', 'JJ'), ('detailoriented', 'VBN'), ('analytical', 'JJ'), ('comfortable', 'JJ'), ('working', 'VBG'), ('multiple', 'JJ'), ('teams', 'NNS'), ('competing', 'VBG'), ('priorities', 'NNS'), ('apply', 'VBP'), ('excellent', 'JJ'), ('analytical', 'JJ'), ('problemsolving', 'NN'), ('skills', 'NNS'), ('drive', 'VBP'), ('business', 'NN'), ('decisions', 'NNS'), ('dynamic', 'VBP'), ('environment', 'NN'), ('deliver', 'NN'), ('customer', 'NN'), ('benefit', 'NN'), ('performance', 'NN'), ('analytics', 'NNS'), ('work', 'VBP'), ('independently', 'RB'), ('collaboratively', 'RB'), ('scientists', 'NNS'), ('engineers', 'NNS'), ('designers', 'NNS'), ('bi', 'VBP'), ('developers', 'NNS'), ('product', 'NN'), ('managers', 'NNS'), ('complex', 'JJ'), ('projects', 'NNS'), ('deliver', 'IN'), ('value', 'NN'), ('buspatrol', 'NN'), ('excellent', 'JJ'), ('communication', 'NN'), ('skills', 'NNS'), ('ability', 'NN'), ('structure', 'NN'), ('compelling', 'VBG'), ('storyline', 'JJ'), ('present', 'JJ'), ('narrative', 'JJ'), ('using', 'VBG'), ('actionable', 'JJ'), ('datadriven', 'JJ'), ('insights', 'NNS'), ('ability', 'NN'), ('conceptualize', 'VBP'), ('business', 'NN'), ('issues', 'NNS'), ('opportunities', 'NNS'), ('formulate', 'VBP'), ('hypotheses', 'NNS'), ('goals', 'NNS'), ('define', 'VBP'), ('kpis', 'NNS'), ('make', 'VBP'), ('appropriate', 'JJ'), ('recommendations', 'NNS'), ('build', 'VBP'), ('world', 'NN'), ('class', 'NN'), ('prescriptive', 'JJ'), ('predictive', 'JJ'), ('models', 'NNS'), ('solve', 'VBP'), ('business', 'NN'), ('problems', 'NNS'), ('fastmoving', 'VBG'), ('environment', 'NN'), ('leverage', 'NN'), ('internal', 'JJ'), ('external', 'JJ'), ('data', 'NNS'), ('synthesize', 'VBP'), ('nuggets', 'NNS'), ('insights', 'NNS'), ('explain', 'VBP'), ('underlying', 'JJ'), ('trends', 'NNS'), ('automated', 'VBN'), ('enforcement', 'JJ'), ('ecosystem', 'NN'), ('identify', 'VB'), ('deliver', 'JJ'), ('automation', 'NN'), ('opportunities', 'NNS'), ('drive', 'VBP'), ('scalability', 'NN'), ('improve', 'VB'), ('efficiency', 'NN'), ('productivity', 'NN'), ('broader', 'VBP'), ('team', 'NN'), ('strong', 'JJ'), ('written', 'VBN'), ('verbal', 'JJ'), ('communication', 'NN'), ('skills', 'NNS'), ('ability', 'NN'), ('effectively', 'RB'), ('synthesize', 'VB'), ('insights', 'NNS'), ('including', 'VBG'), ('model', 'NN'), ('theory', 'NN'), ('selection', 'NN'), ('tradeoffs', 'NNS'), ('limitations', 'NNS'), ('executives', 'NNS'), ('andor', 'VBP'), ('customers', 'NNS'), ('knowledge', 'VBP'), ('skill', 'NN'), ('requirements', 'NNS'), ('strong', 'JJ'), ('theoretical', 'JJ'), ('understanding', 'NN'), ('applied', 'JJ'), ('expertise', 'NN'), ('databases', 'VBZ'), ('data', 'NNS'), ('structures', 'NNS'), ('big', 'JJ'), ('data', 'NNS'), ('machine', 'NN'), ('learning', 'VBG'), ('methods', 'NNS'), ('kmeans', 'NNS'), ('random', 'VBP'), ('forest', 'JJS'), ('gradient', 'NN'), ('boosting', 'VBG'), ('etc', 'JJ'), ('expertise', 'NN'), ('industryleading', 'VBG'), ('analytics', 'NNS'), ('approaches', 'NNS'), ('eg', 'VBP'), ('database', 'NN'), ('analytics', 'NNS'), ('digital', 'JJ'), ('analytics', 'NNS'), ('data', 'NNS'), ('visualization', 'NN'), ('platforms', 'NNS'), ('eg', 'VBP'), ('redshift', 'VB'), ('mysql', 'JJ'), ('postgresql', 'NN'), ('amazon', 'NN'), ('tableau', 'NN'), ('expert', 'NN'), ('proficiency', 'NN'), ('sql', 'VBD'), ('r', 'JJ'), ('andor', 'NN'), ('python', 'NN'), ('exceptional', 'JJ'), ('analytical', 'JJ'), ('skills', 'NNS'), ('strong', 'JJ'), ('business', 'NN'), ('acumen', 'NNS'), ('outstanding', 'JJ'), ('communication', 'NN'), ('skills', 'NNS'), ('ability', 'NN'), ('influence', 'NN'), ('decision', 'NN'), ('makers', 'NNS'), ('build', 'VBP'), ('consensus', 'NN'), ('teams', 'NNS'), ('explain', 'VBP'), ('complex', 'JJ'), ('analytical', 'JJ'), ('concepts', 'NNS'), ('people', 'NNS'), ('fields', 'NNS'), ('intellectually', 'RB'), ('curious', 'JJ'), ('selfstarter', 'NN'), ('team', 'NN'), ('player', 'NN'), ('educationexperience', 'NN'), ('phd', 'NN'), ('preferred', 'VBD'), ('quantitative', 'JJ'), ('field', 'NN'), ('economics', 'NNS'), ('applied', 'VBD'), ('statistics', 'NNS'), ('computer', 'NN'), ('science', 'NN'), ('mathematics', 'NNS'), ('3', 'CD'), ('years', 'NNS'), (\"'\", 'POS'), ('experience', 'NN'), ('applying', 'VBG'), ('data', 'NNS'), ('science', 'NN'), ('methods', 'NNS'), ('including', 'VBG'), ('statistical', 'JJ'), ('modelling', 'NN'), ('machine', 'NN'), ('learning', 'VBG'), ('techniques', 'NNS'), ('business', 'NN'), ('problems', 'NNS'), ('commercial', 'JJ'), ('world', 'NN'), ('compensation', 'NN'), ('benefits', 'NNS'), ('competitive', 'JJ'), ('salary', 'JJ'), ('comprehensive', 'JJ'), ('benefits', 'NNS'), ('including', 'VBG'), ('medical', 'JJ'), ('dental', 'JJ'), ('vision', 'NN'), ('insurance', 'NN'), ('opportunity', 'NN'), ('work', 'NN'), ('high', 'JJ'), ('performing', 'VBG'), ('team', 'NN'), ('travel', 'NN'), ('opportunity', 'NN'), ('help', 'VBP'), ('build', 'VB'), ('company', 'NN'), ('dedicated', 'VBN'), ('children', 'NNS'), (\"'s\", 'POS'), ('safety', 'NN'), ('looking', 'VBG'), ('valued', 'VBN'), ('partner', 'NN'), ('add', 'VBP'), ('team', 'NN'), ('important', 'JJ'), ('role', 'NN'), ('us', 'PRP'), ('great', 'JJ'), ('opportunity', 'NN'), ('right', 'RB'), ('candidate', 'VB'), ('environment', 'NN'), ('inclusive', 'JJ'), ('diverse', 'NN'), ('ignited', 'VBD'), ('built', 'JJ'), ('integrity', 'NN'), ('deeply', 'RB'), ('committed', 'VBD'), ('come', 'NN'), ('help', 'NN'), ('us', 'PRP'), ('keep', 'VB'), ('children', 'NNS'), ('safe', 'JJ')]\n",
      "[('70', 'CD'), ('years', 'NNS'), ('charles', 'VBZ'), ('river', 'RB'), ('employees', 'NNS'), ('worked', 'VBD'), ('together', 'RB'), ('assist', 'JJ'), ('discovery', 'NN'), ('development', 'NN'), ('safe', 'JJ'), ('manufacture', 'NN'), ('new', 'JJ'), ('drug', 'NN'), ('therapies', 'NNS'), ('join', 'VBP'), ('family', 'NN'), ('significant', 'JJ'), ('impact', 'NN'), ('health', 'NN'), ('wellbeing', 'VBG'), ('people', 'NNS'), ('across', 'IN'), ('globe', 'NN'), ('whether', 'IN'), ('background', 'NN'), ('life', 'NN'), ('sciences', 'NNS'), ('finance', 'NN'), ('sales', 'NNS'), ('another', 'DT'), ('area', 'NN'), ('skills', 'VBZ'), ('play', 'RBS'), ('important', 'JJ'), ('role', 'NN'), ('work', 'NN'), ('perform', 'VB'), ('return', 'NN'), ('help', 'NN'), ('build', 'VB'), ('career', 'NN'), ('feel', 'NN'), ('passionate', 'NN'), ('important', 'JJ'), ('order', 'NN'), ('considered', 'VBN'), ('position', 'NN'), ('resumecv', 'NN'), ('must', 'MD'), ('uploaded', 'VB'), ('submitted', 'VBN'), ('application', 'NN'), ('process', 'NN'), ('please', 'NN'), ('make', 'VB'), ('sure', 'JJ'), ('work', 'NN'), ('history', 'NN'), ('education', 'NN'), ('added', 'VBD'), ('correctly', 'RB'), ('job', 'NN'), ('summary', 'JJ'), ('support', 'NN'), ('scientists', 'NNS'), ('maintaining', 'VBG'), ('study', 'NN'), ('deliverables', 'NNS'), ('respecting', 'VBG'), ('timelines', 'NNS'), ('preserving', 'VBG'), ('quality', 'NN'), ('work', 'NN'), ('compliant', 'NN'), ('good', 'JJ'), ('laboratory', 'NN'), ('practices', 'NNS'), ('glp', 'VBP'), ('standard', 'JJ'), ('operating', 'NN'), ('procedures', 'NNS'), ('sop', 'VBP'), ('analytical', 'JJ'), ('procedures', 'NNS'), ('ap', 'VBP'), ('study', 'NN'), ('plans', 'NNS'), ('currently', 'RB'), ('looking', 'VBG'), ('data', 'NNS'), ('management', 'NN'), ('specialist', 'NN'), ('immunotoxicology', 'NN'), ('group', 'NN'), ('located', 'VBD'), ('senneville', 'JJ'), ('qc', 'NN'), ('following', 'VBG'), ('responsibilities', 'NNS'), ('related', 'VBN'), ('position', 'NN'), ('contribute', 'NN'), ('quality', 'NN'), ('control', 'NN'), ('reviewing', 'VBG'), ('analytical', 'JJ'), ('procedures', 'NNS'), ('procedure', 'VBP'), ('forms', 'NNS'), ('related', 'JJ'), ('documentation', 'NN'), ('assigned', 'VBN'), ('studies', 'NNS'), ('follow', 'VBP'), ('ensure', 'VB'), ('application', 'NN'), ('glp', 'NN'), ('sops', 'VBZ'), ('special', 'JJ'), ('procedures', 'NNS'), ('health', 'NN'), ('safety', 'NN'), ('rules', 'NNS'), ('assigned', 'VBN'), ('studies', 'NNS'), ('perform', 'VBP'), ('review', 'NN'), ('tabulation', 'NN'), ('results', 'NNS'), ('participate', 'VB'), ('writing', 'VBG'), ('study', 'JJ'), ('report', 'NN'), ('collaborate', 'NN'), ('scientist', 'NN'), ('compile', 'NN'), ('assemble', 'JJ'), ('study', 'NN'), ('deliverables', 'NNS'), ('audit', 'VBP'), ('ready', 'JJ'), ('state', 'NN'), ('submission', 'NN'), ('quality', 'NN'), ('assurance', 'NN'), ('department', 'NN'), ('qa', 'NN'), ('answer', 'NN'), ('qa', 'NN'), ('findings', 'NNS'), ('preparing', 'VBG'), ('revision', 'NN'), ('study', 'NN'), ('summary', 'JJ'), ('eg', 'NN'), ('mqs', 'NN'), ('mvs', 'NN'), ('required', 'VBN'), ('perform', 'RB'), ('related', 'JJ'), ('duties', 'NNS'), ('assigned', 'VBD'), ('following', 'VBG'), ('minimum', 'JJ'), ('qualifications', 'NNS'), ('related', 'VBN'), ('senior', 'JJ'), ('analyst', 'NN'), ('position', 'NN'), ('dec', 'NN'), ('sciences', 'NNS'), ('aec', 'VBP'), ('equivalent', 'JJ'), ('combination', 'NN'), ('education', 'NN'), ('experience', 'NN'), ('may', 'MD'), ('considered', 'VB'), ('acceptable', 'JJ'), ('substitute', 'NN'), ('specific', 'JJ'), ('education', 'NN'), ('experience', 'NN'), ('listed', 'VBD'), ('able', 'JJ'), ('work', 'NN'), ('part', 'NN'), ('team', 'NN'), ('positive', 'JJ'), ('attitude', 'NN'), ('good', 'JJ'), ('interpersonal', 'JJ'), ('relationships', 'NNS'), ('professionalism', 'NN'), ('adapt', 'NN'), ('changes', 'NNS'), ('actively', 'RB'), ('participate', 'VBP'), ('departmental', 'JJ'), ('meetings', 'NNS'), ('improve', 'VBP'), ('performance', 'NN'), ('quality', 'NN'), ('good', 'JJ'), ('understanding', 'NN'), ('microsoft', 'JJ'), ('office', 'NN'), ('software', 'NN'), ('data', 'NNS'), ('generating', 'VBG'), ('software', 'NN'), ('used', 'VBN'), ('department', 'NN'), ('relevant', 'JJ'), ('role', 'NN'), ('important', 'JJ'), ('resume', 'NN'), ('required', 'VBN'), ('considered', 'VBN'), ('position', 'NN'), ('uploaded', 'JJ'), ('resume', 'NN'), ('candidate', 'NN'), ('profile', 'NN'), ('please', 'NN'), ('return', 'VB'), ('upload', 'JJ'), ('field', 'NN'), ('attach', 'VBP'), ('resumecv', 'JJ'), ('safety', 'NN'), ('assessment', 'NN'), ('charles', 'NNS'), ('river', 'RB'), ('committed', 'VBD'), ('helping', 'VBG'), ('partners', 'NNS'), ('expedite', 'RB'), ('preclinical', 'JJ'), ('drug', 'NN'), ('development', 'NN'), ('exceptional', 'JJ'), ('safety', 'NN'), ('assessment', 'NN'), ('services', 'NNS'), ('stateoftheart', 'NN'), ('facilities', 'NNS'), ('expert', 'VBP'), ('regulatory', 'JJ'), ('guidance', 'NN'), ('individual', 'NN'), ('specialty', 'NN'), ('toxicology', 'NN'), ('ind', 'IN'), ('enabling', 'VBG'), ('studies', 'NNS'), ('tailored', 'VBN'), ('packages', 'NNS'), ('total', 'JJ'), ('laboratory', 'JJ'), ('support', 'NN'), ('deeply', 'NN'), ('experienced', 'VBD'), ('team', 'NN'), ('design', 'NN'), ('execute', 'NN'), ('programs', 'NNS'), ('anticipate', 'VBP'), ('challenges', 'NNS'), ('avoid', 'VBP'), ('roadblocks', 'NNS'), ('smooth', 'JJ'), ('efficient', 'JJ'), ('journey', 'NN'), ('market', 'NN'), ('year', 'NN'), ('approximately', 'RB'), ('120', 'CD'), ('investigational', 'JJ'), ('new', 'JJ'), ('drug', 'NN'), ('ind', 'NN'), ('programs', 'NNS'), ('conducted', 'VBD'), ('safety', 'NN'), ('assessment', 'NN'), ('facilities', 'NNS')]\n",
      "[('transforming', 'VBG'), ('cyber', 'JJ'), ('security', 'NN'), ('industry', 'NN'), ('us', 'PRP'), ('f8th', 'JJ'), ('uses', 'NNS'), ('machine', 'NN'), ('learning', 'VBG'), ('identify', 'JJ'), ('users', 'NNS'), ('fraudsters', 'NNS'), ('realtime', 'VBP'), ('via', 'IN'), ('100s', 'CD'), ('patterns', 'NNS'), ('individual', 'JJ'), ('uses', 'NNS'), ('mouse', 'VBP'), ('keyboard', 'NN'), ('touchscreen', 'NN'), ('inputs', 'VBZ'), ('continuously', 'RB'), ('analyzes', 'JJ'), ('typing', 'VBG'), ('speed', 'NN'), ('movement', 'NN'), ('speed', 'NN'), ('clicking', 'VBG'), ('speed', 'NN'), ('acceleration', 'NN'), ('builds', 'VBZ'), ('behavioural', 'JJ'), ('profile', 'JJ'), ('job', 'NN'), ('description', 'NN'), ('excellent', 'JJ'), ('sql', 'NN'), ('skills', 'NNS'), ('fluency', 'VBP'), ('python', 'JJ'), ('experience', 'NN'), ('least', 'JJS'), ('one', 'CD'), ('statistical', 'JJ'), ('package', 'NN'), ('r', 'NN'), ('pandasnumpyscipymatplotlib', 'NN'), ('stata', 'NN'), ('matlab', 'NN'), ('deep', 'JJ'), ('understanding', 'NN'), ('modern', 'JJ'), ('statistical', 'JJ'), ('machine', 'NN'), ('learning', 'NN'), ('models', 'NNS'), ('apply', 'VBP'), ('evaluate', 'JJ'), ('performance', 'NN'), ('create', 'NN'), ('apply', 'VB'), ('model', 'NN'), ('algorithm', 'IN'), ('testing', 'VBG'), ('strategies', 'NNS'), ('measure', 'NN'), ('conduct', 'NN'), ('multivariate', 'NN'), ('testing', 'VBG'), ('ab', 'JJ'), ('testing', 'VBG'), ('measure', 'NN'), ('effectiveness', 'NN'), ('models', 'NNS'), ('make', 'VBP'), ('ongoing', 'JJ'), ('changes', 'NNS'), ('collaborate', 'VBP'), ('lead', 'JJ'), ('teams', 'NNS'), ('feature', 'VBP'), ('extraction', 'NN'), ('data', 'NNS'), ('representation', 'NN'), ('automatic', 'JJ'), ('data', 'NNS'), ('pipeline', 'NN'), ('collection', 'NN'), ('design', 'NN'), ('well', 'RB'), ('data', 'VBZ'), ('quality', 'NN'), ('assurance', 'NN'), ('monitoring', 'VBG'), ('functional', 'JJ'), ('endtoend', 'JJ'), ('integration', 'NN'), ('regression', 'NN'), ('automatedmanual', 'JJ'), ('testing', 'NN'), ('requirements', 'NNS'), ('bachelorsmaster', 'NN'), (\"'s\", 'POS'), ('degree', 'NN'), ('data', 'NNS'), ('science', 'NN'), ('computer', 'NN'), ('science', 'NN'), ('applied', 'VBD'), ('math', 'NN'), ('statistics', 'NNS'), ('related', 'JJ'), ('technical', 'JJ'), ('field', 'NN'), ('msphd', 'VBD'), ('degree', 'JJ'), ('cs', 'NN'), ('related', 'VBN'), ('areas', 'NNS'), ('preferred', 'VBN'), ('3', 'CD'), ('years', 'NNS'), ('experience', 'RB'), ('software', 'NN'), ('development', 'NN'), ('machinelearning', 'VBG'), ('handson', 'NN'), ('3', 'CD'), ('years', 'NNS'), ('experience', 'RB'), ('machine', 'NN'), ('learning', 'VBG'), ('text', 'JJ'), ('analysis', 'NN'), ('data', 'NNS'), ('mining', 'NN'), ('nlp', 'NN'), ('knowledge', 'NN'), ('scala', 'NN'), ('python', 'NN'), ('c', 'VBP'), ('c', 'NN'), ('java', 'NN'), ('typescript', 'VBZ'), ('23', 'CD'), ('years', 'NNS'), ('experience', 'JJ'), ('experience', 'NN'), ('sql', 'NN'), ('nosql', 'JJ'), ('databases', 'NNS'), ('experience', 'NN'), ('using', 'VBG'), ('pytorch', 'NN'), ('popular', 'JJ'), ('nlp', 'JJ'), ('libraries', 'NNS'), ('fairseq', 'VBP'), ('allennlp', 'JJ'), ('huggingface', 'NN'), ('spacy', 'NN'), ('experience', 'NN'), ('one', 'CD'), ('backend', 'NN'), ('programming', 'NN'), ('languages', 'VBZ'), ('c', 'VBP'), ('python', 'JJ'), ('familiarity', 'NN'), ('working', 'VBG'), ('large', 'JJ'), ('data', 'NNS'), ('sets', 'NNS'), ('big', 'JJ'), ('data', 'NNS'), ('platforms', 'NNS'), ('hadoop', 'VBP'), ('pyspark', 'NN'), ('kubernetes', 'NNS'), ('deep', 'VBP'), ('knowledge', 'NN'), ('advanced', 'JJ'), ('statistical', 'JJ'), ('techniques', 'NNS'), ('concepts', 'NNS'), ('machine', 'NN'), ('learning', 'VBG'), ('techniques', 'NNS'), ('expertise', 'VBP'), ('applications', 'NNS'), ('excellent', 'JJ'), ('communications', 'NNS'), ('skills', 'NNS'), ('ability', 'NN'), ('share', 'NN'), ('insights', 'NNS'), ('expectations', 'NNS'), ('clients', 'NNS'), ('stakeholders', 'NNS'), ('colleagues', 'NNS'), ('locally', 'RB'), ('remotely', 'RB'), ('offer', 'VBP'), ('startup', 'JJ'), ('lifestyle', 'JJ'), ('cyber', 'NN'), ('security', 'NN'), ('company', 'NN'), ('experience', 'NN'), ('working', 'VBG'), ('closely', 'RB'), ('founders', 'NNS'), ('company', 'NN'), ('note', 'VBP'), ('kindly', 'RB'), ('mention', 'JJ'), ('job', 'NN'), ('title', 'NN'), ('subject', 'JJ'), ('email', 'NN'), ('expected', 'VBN'), ('start', 'NN'), ('date', 'NN'), ('20210701', 'CD'), ('job', 'NN'), ('types', 'NNS'), ('fulltime', 'VBP'), ('permanent', 'JJ'), ('benefits', 'NNS'), ('employee', 'NN'), ('stock', 'NN'), ('purchase', 'NN'), ('plan', 'NN'), ('schedule', 'VBZ'), ('8', 'CD'), ('hour', 'NN'), ('shift', 'NN'), ('monday', 'NN'), ('friday', 'JJ'), ('work', 'NN'), ('remotely', 'RB'), ('yes', 'VB')]\n"
     ]
    }
   ],
   "source": [
    "# for sake of simplicity, showing 10 job desc based on the same seed value at 5\n",
    "tagged_stanzas = []\n",
    "tagged = []\n",
    "\n",
    "for word in desc_df['tokenized_desc'].sample(10, random_state = 5):\n",
    "    tagged_word = nltk.pos_tag(word)\n",
    "    print(tagged_word)\n",
    "\n",
    "    tagged_stanzas.append(tagged_word)\n",
    "\n",
    "# This format is needed for below visualizer as in takes only two values. If you skip this format, it might give you - \"too many values to unpack error\" \n",
    "tagged.append(tagged_stanzas)\n"
   ]
  },
  {
   "cell_type": "code",
   "execution_count": 46,
   "id": "623ea647",
   "metadata": {},
   "outputs": [
    {
     "data": {
      "image/png": "[encoded data removed]",
      "text/plain": [
       "<Figure size 1080x1080 with 1 Axes>"
      ]
     },
     "metadata": {},
     "output_type": "display_data"
    },
    {
     "data": {
      "text/plain": [
       "<AxesSubplot:title={'center':'PosTag plot for 5238-token corpus'}, xlabel='Penn Treebank part-of-speech tags', ylabel='Count'>"
      ]
     },
     "execution_count": 46,
     "metadata": {},
     "output_type": "execute_result"
    }
   ],
   "source": [
    "# Create the visualizer\n",
    "from yellowbrick.text import PosTagVisualizer\n",
    "plt.figure(figsize=(15,15))\n",
    "viz = PosTagVisualizer()\n",
    "viz.fit(tagged)\n",
    "viz.show()"
   ]
  },
  {
   "cell_type": "code",
   "execution_count": null,
   "id": "319d5f41",
   "metadata": {},
   "outputs": [],
   "source": [
    "Refereneces: Intro to NLP by WomenWhoCode - "
   ]
  }
 ],
 "metadata": {
  "kernelspec": {
   "display_name": "Python 3",
   "language": "python",
   "name": "python3"
  },
  "language_info": {
   "codemirror_mode": {
    "name": "ipython",
    "version": 3
   },
   "file_extension": ".py",
   "mimetype": "text/x-python",
   "name": "python",
   "nbconvert_exporter": "python",
   "pygments_lexer": "ipython3",
   "version": "3.8.2"
  }
 },
 "nbformat": 4,
 "nbformat_minor": 5
}
