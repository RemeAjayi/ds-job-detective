{
 "cells": [
  {
   "cell_type": "code",
   "execution_count": 1,
   "id": "22401b3d",
   "metadata": {},
   "outputs": [],
   "source": [
    "import pandas as pd\n",
    "df = pd.read_csv('outputs/data_science_jobs.csv')"
   ]
  },
  {
   "cell_type": "code",
   "execution_count": 2,
   "id": "c26d9015",
   "metadata": {},
   "outputs": [
    {
     "data": {
      "text/html": [
       "<div>\n",
       "<style scoped>\n",
       "    .dataframe tbody tr th:only-of-type {\n",
       "        vertical-align: middle;\n",
       "    }\n",
       "\n",
       "    .dataframe tbody tr th {\n",
       "        vertical-align: top;\n",
       "    }\n",
       "\n",
       "    .dataframe thead th {\n",
       "        text-align: right;\n",
       "    }\n",
       "</style>\n",
       "<table border=\"1\" class=\"dataframe\">\n",
       "  <thead>\n",
       "    <tr style=\"text-align: right;\">\n",
       "      <th></th>\n",
       "      <th>Unnamed: 0</th>\n",
       "      <th>Job Title</th>\n",
       "      <th>Company Name</th>\n",
       "      <th>Job Description</th>\n",
       "      <th>Location</th>\n",
       "      <th>Job Board</th>\n",
       "    </tr>\n",
       "  </thead>\n",
       "  <tbody>\n",
       "    <tr>\n",
       "      <th>0</th>\n",
       "      <td>0</td>\n",
       "      <td>Data Scientist</td>\n",
       "      <td>Metricsflow Inc</td>\n",
       "      <td>At Metricsflow, we work to shape the future of...</td>\n",
       "      <td>St. John's</td>\n",
       "      <td>Glassdoor</td>\n",
       "    </tr>\n",
       "    <tr>\n",
       "      <th>1</th>\n",
       "      <td>1</td>\n",
       "      <td>Data Scientist - 05/12/21</td>\n",
       "      <td>Acerta Analytics Solutions Inc</td>\n",
       "      <td>Acerta’s machine learning platforms leverage a...</td>\n",
       "      <td>Kitchener</td>\n",
       "      <td>Indeed</td>\n",
       "    </tr>\n",
       "    <tr>\n",
       "      <th>2</th>\n",
       "      <td>2</td>\n",
       "      <td>Data Engineer</td>\n",
       "      <td>GoodLife Fitness\\n</td>\n",
       "      <td>Position Description\\n\\n\\n\\n\\nDATA ENGINEER\\n*...</td>\n",
       "      <td>Midtown Toronto</td>\n",
       "      <td>Glassdoor</td>\n",
       "    </tr>\n",
       "    <tr>\n",
       "      <th>3</th>\n",
       "      <td>3</td>\n",
       "      <td>Safety Aggregate Reporting &amp; Analytics Coordin...</td>\n",
       "      <td>IQVIA</td>\n",
       "      <td>Job Overview\\nManage the administrative suppor...</td>\n",
       "      <td>Kirkland</td>\n",
       "      <td>Indeed</td>\n",
       "    </tr>\n",
       "    <tr>\n",
       "      <th>4</th>\n",
       "      <td>4</td>\n",
       "      <td>Senior Data Engineer</td>\n",
       "      <td>Samsung Electronics\\n</td>\n",
       "      <td>Position Summary\\n\\nThe SmartThings Big Data t...</td>\n",
       "      <td>Vancouver</td>\n",
       "      <td>Glassdoor</td>\n",
       "    </tr>\n",
       "  </tbody>\n",
       "</table>\n",
       "</div>"
      ],
      "text/plain": [
       "   Unnamed: 0                                          Job Title  \\\n",
       "0           0                                     Data Scientist   \n",
       "1           1                          Data Scientist - 05/12/21   \n",
       "2           2                                      Data Engineer   \n",
       "3           3  Safety Aggregate Reporting & Analytics Coordin...   \n",
       "4           4                               Senior Data Engineer   \n",
       "\n",
       "                     Company Name  \\\n",
       "0                 Metricsflow Inc   \n",
       "1  Acerta Analytics Solutions Inc   \n",
       "2              GoodLife Fitness\\n   \n",
       "3                           IQVIA   \n",
       "4           Samsung Electronics\\n   \n",
       "\n",
       "                                     Job Description         Location  \\\n",
       "0  At Metricsflow, we work to shape the future of...       St. John's   \n",
       "1  Acerta’s machine learning platforms leverage a...        Kitchener   \n",
       "2  Position Description\\n\\n\\n\\n\\nDATA ENGINEER\\n*...  Midtown Toronto   \n",
       "3  Job Overview\\nManage the administrative suppor...         Kirkland   \n",
       "4  Position Summary\\n\\nThe SmartThings Big Data t...        Vancouver   \n",
       "\n",
       "   Job Board  \n",
       "0  Glassdoor  \n",
       "1     Indeed  \n",
       "2  Glassdoor  \n",
       "3     Indeed  \n",
       "4  Glassdoor  "
      ]
     },
     "execution_count": 2,
     "metadata": {},
     "output_type": "execute_result"
    }
   ],
   "source": [
    "df.head()"
   ]
  },
  {
   "cell_type": "code",
   "execution_count": 3,
   "id": "0e0bf3ba",
   "metadata": {},
   "outputs": [],
   "source": [
    "df = df.drop(df.columns[0], axis = 1) "
   ]
  },
  {
   "cell_type": "code",
   "execution_count": 4,
   "id": "9a024ef9",
   "metadata": {},
   "outputs": [
    {
     "data": {
      "text/html": [
       "<div>\n",
       "<style scoped>\n",
       "    .dataframe tbody tr th:only-of-type {\n",
       "        vertical-align: middle;\n",
       "    }\n",
       "\n",
       "    .dataframe tbody tr th {\n",
       "        vertical-align: top;\n",
       "    }\n",
       "\n",
       "    .dataframe thead th {\n",
       "        text-align: right;\n",
       "    }\n",
       "</style>\n",
       "<table border=\"1\" class=\"dataframe\">\n",
       "  <thead>\n",
       "    <tr style=\"text-align: right;\">\n",
       "      <th></th>\n",
       "      <th>Job Title</th>\n",
       "      <th>Company Name</th>\n",
       "      <th>Job Description</th>\n",
       "      <th>Location</th>\n",
       "      <th>Job Board</th>\n",
       "    </tr>\n",
       "  </thead>\n",
       "  <tbody>\n",
       "    <tr>\n",
       "      <th>0</th>\n",
       "      <td>Data Scientist</td>\n",
       "      <td>Metricsflow Inc</td>\n",
       "      <td>At Metricsflow, we work to shape the future of...</td>\n",
       "      <td>St. John's</td>\n",
       "      <td>Glassdoor</td>\n",
       "    </tr>\n",
       "    <tr>\n",
       "      <th>1</th>\n",
       "      <td>Data Scientist - 05/12/21</td>\n",
       "      <td>Acerta Analytics Solutions Inc</td>\n",
       "      <td>Acerta’s machine learning platforms leverage a...</td>\n",
       "      <td>Kitchener</td>\n",
       "      <td>Indeed</td>\n",
       "    </tr>\n",
       "    <tr>\n",
       "      <th>2</th>\n",
       "      <td>Data Engineer</td>\n",
       "      <td>GoodLife Fitness\\n</td>\n",
       "      <td>Position Description\\n\\n\\n\\n\\nDATA ENGINEER\\n*...</td>\n",
       "      <td>Midtown Toronto</td>\n",
       "      <td>Glassdoor</td>\n",
       "    </tr>\n",
       "    <tr>\n",
       "      <th>3</th>\n",
       "      <td>Safety Aggregate Reporting &amp; Analytics Coordin...</td>\n",
       "      <td>IQVIA</td>\n",
       "      <td>Job Overview\\nManage the administrative suppor...</td>\n",
       "      <td>Kirkland</td>\n",
       "      <td>Indeed</td>\n",
       "    </tr>\n",
       "    <tr>\n",
       "      <th>4</th>\n",
       "      <td>Senior Data Engineer</td>\n",
       "      <td>Samsung Electronics\\n</td>\n",
       "      <td>Position Summary\\n\\nThe SmartThings Big Data t...</td>\n",
       "      <td>Vancouver</td>\n",
       "      <td>Glassdoor</td>\n",
       "    </tr>\n",
       "  </tbody>\n",
       "</table>\n",
       "</div>"
      ],
      "text/plain": [
       "                                           Job Title  \\\n",
       "0                                     Data Scientist   \n",
       "1                          Data Scientist - 05/12/21   \n",
       "2                                      Data Engineer   \n",
       "3  Safety Aggregate Reporting & Analytics Coordin...   \n",
       "4                               Senior Data Engineer   \n",
       "\n",
       "                     Company Name  \\\n",
       "0                 Metricsflow Inc   \n",
       "1  Acerta Analytics Solutions Inc   \n",
       "2              GoodLife Fitness\\n   \n",
       "3                           IQVIA   \n",
       "4           Samsung Electronics\\n   \n",
       "\n",
       "                                     Job Description         Location  \\\n",
       "0  At Metricsflow, we work to shape the future of...       St. John's   \n",
       "1  Acerta’s machine learning platforms leverage a...        Kitchener   \n",
       "2  Position Description\\n\\n\\n\\n\\nDATA ENGINEER\\n*...  Midtown Toronto   \n",
       "3  Job Overview\\nManage the administrative suppor...         Kirkland   \n",
       "4  Position Summary\\n\\nThe SmartThings Big Data t...        Vancouver   \n",
       "\n",
       "   Job Board  \n",
       "0  Glassdoor  \n",
       "1     Indeed  \n",
       "2  Glassdoor  \n",
       "3     Indeed  \n",
       "4  Glassdoor  "
      ]
     },
     "execution_count": 4,
     "metadata": {},
     "output_type": "execute_result"
    }
   ],
   "source": [
    "df.head()"
   ]
  },
  {
   "cell_type": "code",
   "execution_count": 5,
   "id": "d411c01b",
   "metadata": {},
   "outputs": [
    {
     "name": "stdout",
     "output_type": "stream",
     "text": [
      "<class 'pandas.core.frame.DataFrame'>\n",
      "RangeIndex: 881 entries, 0 to 880\n",
      "Data columns (total 5 columns):\n",
      " #   Column           Non-Null Count  Dtype \n",
      "---  ------           --------------  ----- \n",
      " 0   Job Title        881 non-null    object\n",
      " 1   Company Name     881 non-null    object\n",
      " 2   Job Description  881 non-null    object\n",
      " 3   Location         881 non-null    object\n",
      " 4   Job Board        881 non-null    object\n",
      "dtypes: object(5)\n",
      "memory usage: 34.5+ KB\n"
     ]
    }
   ],
   "source": [
    "df.info()"
   ]
  },
  {
   "cell_type": "code",
   "execution_count": 6,
   "id": "2d550558",
   "metadata": {},
   "outputs": [
    {
     "data": {
      "text/plain": [
       "<AxesSubplot:xlabel='Job Board', ylabel='Counts'>"
      ]
     },
     "execution_count": 6,
     "metadata": {},
     "output_type": "execute_result"
    },
    {
     "data": {
      "image/png": "[encoded data removed]",
      "text/plain": [
       "<Figure size 720x504 with 1 Axes>"
      ]
     },
     "metadata": {
      "needs_background": "light"
     },
     "output_type": "display_data"
    }
   ],
   "source": [
    "import matplotlib.pyplot as plt\n",
    "\n",
    "plt.figure(figsize=(10,7))\n",
    "\n",
    "plt.xlabel(\"Job Board\")\n",
    "plt.ylabel(\"Counts\")\n",
    "\n",
    "df[\"Job Board\"].value_counts().plot(kind='bar')"
   ]
  },
  {
   "cell_type": "code",
   "execution_count": 7,
   "id": "5fe3f4ad",
   "metadata": {},
   "outputs": [
    {
     "data": {
      "text/plain": [
       "<AxesSubplot:xlabel='Location', ylabel='Counts'>"
      ]
     },
     "execution_count": 7,
     "metadata": {},
     "output_type": "execute_result"
    },
    {
     "data": {
      "image/png": "[encoded data removed]",
      "text/plain": [
       "<Figure size 1080x936 with 1 Axes>"
      ]
     },
     "metadata": {
      "needs_background": "light"
     },
     "output_type": "display_data"
    }
   ],
   "source": [
    "plt.figure(figsize=(15,13))\n",
    "\n",
    "plt.xlabel(\"Location\")\n",
    "plt.ylabel(\"Counts\")\n",
    "df[\"Location\"].value_counts().plot(kind='bar')"
   ]
  },
  {
   "cell_type": "markdown",
   "id": "a61b45c8",
   "metadata": {},
   "source": [
    "### Most Frequent Job Titles"
   ]
  },
  {
   "cell_type": "code",
   "execution_count": 9,
   "id": "254d8725",
   "metadata": {},
   "outputs": [
    {
     "data": {
      "text/plain": [
       "['Data Scientist',\n",
       " 'Data Engineer',\n",
       " 'Senior Data Scientist',\n",
       " 'Senior Data Analyst',\n",
       " 'Machine Learning Engineer',\n",
       " 'Lead Data Scientist',\n",
       " 'Data Analyst',\n",
       " 'Senior Data Engineer',\n",
       " 'Sr. Data Analyst',\n",
       " 'Big Data Engineer']"
      ]
     },
     "execution_count": 9,
     "metadata": {},
     "output_type": "execute_result"
    }
   ],
   "source": [
    "df['Job Title'].value_counts()[:10].index.tolist()\n"
   ]
  },
  {
   "cell_type": "markdown",
   "id": "65edcf8f",
   "metadata": {},
   "source": [
    "### Least Frequent Job Titles"
   ]
  },
  {
   "cell_type": "code",
   "execution_count": 10,
   "id": "52314e47",
   "metadata": {},
   "outputs": [
    {
     "data": {
      "text/plain": [
       "['Data Analyst (Research)',\n",
       " 'Data Science Manager',\n",
       " 'Part-Time Content Creator - Data Analytics',\n",
       " 'Research Scientist - Visual Analytics',\n",
       " 'Data and Applied Scientist',\n",
       " 'Data Scientist / Senior Data Scientist - North American Integrated Analytics',\n",
       " 'Senior Optical Simulation Engineer or Scientist',\n",
       " 'AI Developer - ATG',\n",
       " 'Architecte de données / Data Architect - 312699',\n",
       " 'CPXE-Data & AI Growth Analytics Analyst']"
      ]
     },
     "execution_count": 10,
     "metadata": {},
     "output_type": "execute_result"
    }
   ],
   "source": [
    "df['Job Title'].value_counts()[-10:].index.tolist()\n"
   ]
  },
  {
   "cell_type": "code",
   "execution_count": 11,
   "id": "d0fe7d8b",
   "metadata": {},
   "outputs": [
    {
     "data": {
      "text/plain": [
       "Job Title          0\n",
       "Company Name       0\n",
       "Job Description    0\n",
       "Location           0\n",
       "Job Board          0\n",
       "dtype: int64"
      ]
     },
     "execution_count": 11,
     "metadata": {},
     "output_type": "execute_result"
    }
   ],
   "source": [
    "#check for null values\n",
    "df.isnull().sum()"
   ]
  },
  {
   "cell_type": "code",
   "execution_count": 12,
   "id": "fc03ae31",
   "metadata": {},
   "outputs": [],
   "source": [
    "#drop null values\n",
    "#df = df.dropna(subset = ['Job Description'])\n",
    "#df.isnull().sum()"
   ]
  },
  {
   "cell_type": "code",
   "execution_count": 13,
   "id": "4f9d1328",
   "metadata": {},
   "outputs": [
    {
     "data": {
      "text/html": [
       "<div>\n",
       "<style scoped>\n",
       "    .dataframe tbody tr th:only-of-type {\n",
       "        vertical-align: middle;\n",
       "    }\n",
       "\n",
       "    .dataframe tbody tr th {\n",
       "        vertical-align: top;\n",
       "    }\n",
       "\n",
       "    .dataframe thead th {\n",
       "        text-align: right;\n",
       "    }\n",
       "</style>\n",
       "<table border=\"1\" class=\"dataframe\">\n",
       "  <thead>\n",
       "    <tr style=\"text-align: right;\">\n",
       "      <th></th>\n",
       "      <th>Job Title</th>\n",
       "    </tr>\n",
       "  </thead>\n",
       "  <tbody>\n",
       "    <tr>\n",
       "      <th>852</th>\n",
       "      <td>HEAD OF ANALYTICS &amp; INSIGHTS/DATA SCIENTIST</td>\n",
       "    </tr>\n",
       "    <tr>\n",
       "      <th>207</th>\n",
       "      <td>Machine Learning Engineer</td>\n",
       "    </tr>\n",
       "    <tr>\n",
       "      <th>627</th>\n",
       "      <td>Data Engineer / Power BI Developer, Omnia AI</td>\n",
       "    </tr>\n",
       "    <tr>\n",
       "      <th>671</th>\n",
       "      <td>Junior Business Intelligence Developer - Data ...</td>\n",
       "    </tr>\n",
       "    <tr>\n",
       "      <th>661</th>\n",
       "      <td>Data Scientist Technical Lead (Montreal), Inta...</td>\n",
       "    </tr>\n",
       "    <tr>\n",
       "      <th>489</th>\n",
       "      <td>Bio informaticien/Bioinformatics scientist</td>\n",
       "    </tr>\n",
       "    <tr>\n",
       "      <th>434</th>\n",
       "      <td>Data Scientist</td>\n",
       "    </tr>\n",
       "    <tr>\n",
       "      <th>448</th>\n",
       "      <td>Scientifique de données / Data Scientist</td>\n",
       "    </tr>\n",
       "    <tr>\n",
       "      <th>634</th>\n",
       "      <td>Data Management Specialist - Immunotoxicology</td>\n",
       "    </tr>\n",
       "    <tr>\n",
       "      <th>748</th>\n",
       "      <td>Data Scientist</td>\n",
       "    </tr>\n",
       "  </tbody>\n",
       "</table>\n",
       "</div>"
      ],
      "text/plain": [
       "                                             Job Title\n",
       "852        HEAD OF ANALYTICS & INSIGHTS/DATA SCIENTIST\n",
       "207                          Machine Learning Engineer\n",
       "627       Data Engineer / Power BI Developer, Omnia AI\n",
       "671  Junior Business Intelligence Developer - Data ...\n",
       "661  Data Scientist Technical Lead (Montreal), Inta...\n",
       "489         Bio informaticien/Bioinformatics scientist\n",
       "434                                     Data Scientist\n",
       "448           Scientifique de données / Data Scientist\n",
       "634      Data Management Specialist - Immunotoxicology\n",
       "748                                     Data Scientist"
      ]
     },
     "execution_count": 13,
     "metadata": {},
     "output_type": "execute_result"
    }
   ],
   "source": [
    "#Extract titles for analysis\n",
    "job_title_df = df['Job Title'].to_frame()\n",
    "job_title_df.sample(10, random_state = 5)"
   ]
  },
  {
   "cell_type": "code",
   "execution_count": 14,
   "id": "ea785ddc",
   "metadata": {},
   "outputs": [
    {
     "data": {
      "text/plain": [
       "<AxesSubplot:xlabel='Job Title length', ylabel='No. of jobs'>"
      ]
     },
     "execution_count": 14,
     "metadata": {},
     "output_type": "execute_result"
    },
    {
     "data": {
      "image/png": "[encoded data removed]",
      "text/plain": [
       "<Figure size 504x504 with 1 Axes>"
      ]
     },
     "metadata": {
      "needs_background": "light"
     },
     "output_type": "display_data"
    }
   ],
   "source": [
    "# visualizing title length\n",
    "\n",
    "plt.figure(figsize=(7,7))\n",
    "plt.xlabel(\"Job Title length\")\n",
    "plt.ylabel(\"No. of jobs\")\n",
    "\n",
    "job_title_df['Job Title'].str.len().hist()"
   ]
  },
  {
   "cell_type": "markdown",
   "id": "ecdeeea9",
   "metadata": {},
   "source": [
    "### Job Title Length\n",
    "Most Jobs have shorter titles, because most of the Job titles are generic. Few jobs have really long titles because the product or company name is added."
   ]
  },
  {
   "cell_type": "code",
   "execution_count": 15,
   "id": "bd0dc5cb",
   "metadata": {},
   "outputs": [
    {
     "data": {
      "text/html": [
       "<div>\n",
       "<style scoped>\n",
       "    .dataframe tbody tr th:only-of-type {\n",
       "        vertical-align: middle;\n",
       "    }\n",
       "\n",
       "    .dataframe tbody tr th {\n",
       "        vertical-align: top;\n",
       "    }\n",
       "\n",
       "    .dataframe thead th {\n",
       "        text-align: right;\n",
       "    }\n",
       "</style>\n",
       "<table border=\"1\" class=\"dataframe\">\n",
       "  <thead>\n",
       "    <tr style=\"text-align: right;\">\n",
       "      <th></th>\n",
       "      <th>Job Description</th>\n",
       "    </tr>\n",
       "  </thead>\n",
       "  <tbody>\n",
       "    <tr>\n",
       "      <th>852</th>\n",
       "      <td>For over 25 years we’ve been helping our commu...</td>\n",
       "    </tr>\n",
       "    <tr>\n",
       "      <th>207</th>\n",
       "      <td>About the job\\nIndividually we are people, but...</td>\n",
       "    </tr>\n",
       "    <tr>\n",
       "      <th>627</th>\n",
       "      <td>Job Type: Permanent\\nPrimary Location: Vancouv...</td>\n",
       "    </tr>\n",
       "    <tr>\n",
       "      <th>671</th>\n",
       "      <td>Our subsidiary is in PropTech and real estate ...</td>\n",
       "    </tr>\n",
       "    <tr>\n",
       "      <th>661</th>\n",
       "      <td>Who needs insurance? Everybody. That keeps us ...</td>\n",
       "    </tr>\n",
       "    <tr>\n",
       "      <th>489</th>\n",
       "      <td>Avant le SRAS-CoV-2, un vaccin qui était dével...</td>\n",
       "    </tr>\n",
       "    <tr>\n",
       "      <th>434</th>\n",
       "      <td>RESPONSIBILITIES:\\nDevelop state-of-the-art co...</td>\n",
       "    </tr>\n",
       "    <tr>\n",
       "      <th>448</th>\n",
       "      <td>Qui sommes-nous :\\nBusPatrouille est une entre...</td>\n",
       "    </tr>\n",
       "    <tr>\n",
       "      <th>634</th>\n",
       "      <td>For 70 years, Charles River employees have wor...</td>\n",
       "    </tr>\n",
       "    <tr>\n",
       "      <th>748</th>\n",
       "      <td>We're transforming the Cyber Security industry...</td>\n",
       "    </tr>\n",
       "  </tbody>\n",
       "</table>\n",
       "</div>"
      ],
      "text/plain": [
       "                                       Job Description\n",
       "852  For over 25 years we’ve been helping our commu...\n",
       "207  About the job\\nIndividually we are people, but...\n",
       "627  Job Type: Permanent\\nPrimary Location: Vancouv...\n",
       "671  Our subsidiary is in PropTech and real estate ...\n",
       "661  Who needs insurance? Everybody. That keeps us ...\n",
       "489  Avant le SRAS-CoV-2, un vaccin qui était dével...\n",
       "434  RESPONSIBILITIES:\\nDevelop state-of-the-art co...\n",
       "448  Qui sommes-nous :\\nBusPatrouille est une entre...\n",
       "634  For 70 years, Charles River employees have wor...\n",
       "748  We're transforming the Cyber Security industry..."
      ]
     },
     "execution_count": 15,
     "metadata": {},
     "output_type": "execute_result"
    }
   ],
   "source": [
    "#Extracting Job Descriptions\n",
    "desc_df = df['Job Description'].to_frame()\n",
    "desc_df.sample(10, random_state=5)\n"
   ]
  },
  {
   "cell_type": "code",
   "execution_count": 18,
   "id": "5ef9f2e5",
   "metadata": {},
   "outputs": [
    {
     "data": {
      "text/plain": [
       "\"About Fiix\\nFiix is on a mission to build better maintenance teams by connecting customers to the tools, resources, and technology they need to join the future of maintenance. We help our customers drive better business outcomes with easy-to-use, AI-driven maintenance software, an open ecosystem, pre-built integrations and the industry expertise they need for maintenance success. There are over 2600 maintenance teams in 90+ countries using Fiix to improve communication, asset health, and even sustainability.\\nCreating positive social impact is baked into our company DNA, and as one of Canada’s fastest-growing companies and Best Workplaces, we’re transforming an industry and doing it the right way.\\n\\nAbout the team\\nOur Fiixers are the key to our success. Our team is made up of professionals who bring together a variety of experiences, backgrounds and perspectives. We celebrate the diversity of our people and place a high value on creating an environment where everyone can bring their whole self to work.\\n\\nAs a Fiixer, you will work in a caring and collaborative culture, alongside people who are passionate and purpose-driven. You’ll have the support and resources you need to grow, achieve your professional goals and develop your career for the future.\\n\\nIn our fast-paced, high-growth environment, you’ll have the opportunity to work on challenging projects, develop your expertise and pursue leadership, within and outside of your role. Plus, as a BCorp certified organization, there are tons of opportunities to make an impact! Take paid time off to volunteer in your community, start up a new committee, join an employee resource group, or mentor other Fiixers. Best of all, you’ll have the flexibility to work remotely or come and experience our awesome office. No matter where you’re working from, we’re committed to ensuring that the Fiixer experience is best in class!\\n\\nWe’re looking for a Software Developer focused to join our Applied AI team and help take Fiix’s explosive growth to a whole new level. We think most software is too complex, too many features with too many promises. We're on a mission to change that - to build truly superior software that changes the way people work. Our team is growing fast and we're looking for talented developers just like you that are hungry to innovate.\\nWhat you will do:\\nEnd to end development from architecture to deployment of new Applied AI products\\nWork with team to design, build, maintain and optimize our data management and analytics pipeline\\nPartner with machine learning engineering to support model development and deployment, including infrastructure and prediction delivery\\nLead development of the AI team's deployment and CI/CD infrastructure\\nWhat we're looking for:\\n3+ years’ software development experience using Python or Java with RDBMS\\nProficiency in software engineering fundamentals – data structures, algorithms and design\\nExperience with distributed cloud-native systems, ideally with working knowledge of message- or stream-oriented architectures\\nExperience building and optimizing data pipelines, architectures and data sets\\nInterest and ability to learn new technologies\\nFamiliarity with AWS, ideally using an infrastructure as code (IaC) approach and tooling\\nExposure to modern frontend development with ES6 (TypeScript preferred) and Angular 2+ or React\\nExperience with testing tools and methodologies (i.e. unit testing, integration testing, performance and capacity testing)\\nExperience with Git-based SCM\\nSelf-starter with a strong desire to work on a small collaborative team in an agile environment\\nExperience with Kubernetes and TerraForm will be a plus\\nIdeally B.Sc. or above in Computer Science or equivalent\\nEquity Statement\\n\\nAt Fiix, we recognize that people come with a wealth of experience and talent beyond just the technical requirements of a job. If your experience is close to what you see listed here, please still consider applying. Diversity of experience and skills combined with passion is a key to innovation and excellence. Therefore, we encourage people from all backgrounds to apply to our positions. Please let us know if you require accommodations during the interview process.\""
      ]
     },
     "execution_count": 18,
     "metadata": {},
     "output_type": "execute_result"
    }
   ],
   "source": [
    "desc_df['Job Description'][455]"
   ]
  },
  {
   "cell_type": "code",
   "execution_count": 19,
   "id": "3a3687f7",
   "metadata": {},
   "outputs": [],
   "source": [
    "#clean titles by creating a new column with the french version?\n",
    "#What differentiates jobs with intern or Manager or Research in the title?"
   ]
  },
  {
   "cell_type": "markdown",
   "id": "1d8bd7e0",
   "metadata": {},
   "source": [
    "Some Job descriptions were truncated, so I had to inspect my scraper. Apparently the glassdoor scraper was truncating some description because of list tags in some job descriptions. "
   ]
  },
  {
   "cell_type": "code",
   "execution_count": 20,
   "id": "5ded056a",
   "metadata": {},
   "outputs": [
    {
     "name": "stderr",
     "output_type": "stream",
     "text": [
      "[nltk_data] Downloading package punkt to /Users/olohireme/nltk_data...\n",
      "[nltk_data]   Package punkt is already up-to-date!\n",
      "[nltk_data] Downloading package averaged_perceptron_tagger to\n",
      "[nltk_data]     /Users/olohireme/nltk_data...\n",
      "[nltk_data]   Package averaged_perceptron_tagger is already up-to-\n",
      "[nltk_data]       date!\n"
     ]
    }
   ],
   "source": [
    "import nltk\n",
    "nltk.download('punkt')\n",
    "nltk.download('averaged_perceptron_tagger')\n",
    "from nltk.tokenize import word_tokenize"
   ]
  },
  {
   "cell_type": "code",
   "execution_count": 26,
   "id": "05b41db5",
   "metadata": {},
   "outputs": [
    {
     "name": "stdout",
     "output_type": "stream",
     "text": [
      "Requirement already satisfied: contractions in /opt/anaconda3/lib/python3.8/site-packages (0.0.52)\r\n",
      "Requirement already satisfied: textsearch>=0.0.21 in /opt/anaconda3/lib/python3.8/site-packages (from contractions) (0.0.21)\r\n",
      "Requirement already satisfied: anyascii in /opt/anaconda3/lib/python3.8/site-packages (from textsearch>=0.0.21->contractions) (0.2.0)\r\n",
      "Requirement already satisfied: pyahocorasick in /opt/anaconda3/lib/python3.8/site-packages (from textsearch>=0.0.21->contractions) (1.4.2)\r\n"
     ]
    }
   ],
   "source": [
    "#install contractions\n",
    "!pip install contractions\n"
   ]
  },
  {
   "cell_type": "code",
   "execution_count": 24,
   "id": "342601b5",
   "metadata": {},
   "outputs": [
    {
     "ename": "ModuleNotFoundError",
     "evalue": "No module named 'contractions'",
     "output_type": "error",
     "traceback": [
      "\u001b[0;31m---------------------------------------------------------------------------\u001b[0m",
      "\u001b[0;31mModuleNotFoundError\u001b[0m                       Traceback (most recent call last)",
      "\u001b[0;32m<ipython-input-24-5122c53f6257>\u001b[0m in \u001b[0;36m<module>\u001b[0;34m\u001b[0m\n\u001b[0;32m----> 1\u001b[0;31m \u001b[0;32mimport\u001b[0m \u001b[0mcontractions\u001b[0m\u001b[0;34m\u001b[0m\u001b[0;34m\u001b[0m\u001b[0m\n\u001b[0m",
      "\u001b[0;31mModuleNotFoundError\u001b[0m: No module named 'contractions'"
     ]
    }
   ],
   "source": [
    "import contractions"
   ]
  },
  {
   "cell_type": "code",
   "execution_count": null,
   "id": "a6ad1924",
   "metadata": {},
   "outputs": [],
   "source": [
    "desc_df['Job Description'] = desc_df['Job Description'].apply(lambda x: [contractions.fix(word) for word in x.split()])\n",
    "desc_df.sample(10, random_state = 5)"
   ]
  },
  {
   "cell_type": "code",
   "execution_count": null,
   "id": "7ba49c32",
   "metadata": {},
   "outputs": [],
   "source": [
    "#cocatenating items back into a single string\n",
    "content_df['content'] = [' '.join(map(str, l)) for l in content_df['content']]\n",
    "content_df.sample(10, random_state = 5)"
   ]
  },
  {
   "cell_type": "code",
   "execution_count": null,
   "id": "80044774",
   "metadata": {},
   "outputs": [],
   "source": [
    "#observe changes\n",
    "desc_df['Job Description'][55]"
   ]
  },
  {
   "cell_type": "markdown",
   "id": "64c25b1d",
   "metadata": {},
   "source": [
    "Noise Cleaning"
   ]
  },
  {
   "cell_type": "code",
   "execution_count": null,
   "id": "579bf547",
   "metadata": {},
   "outputs": [],
   "source": [
    "import regex as re\n",
    "desc_df['Job Description'] = desc_df['Job Description'].str.lower()\n",
    "desc_df['Job Description'] = desc_df['Job Description'].apply(lambda x: re.sub(r'[^\\w\\d\\s\\']+', '', x))\n",
    "desc_df.sample(10, random_state = 5)"
   ]
  },
  {
   "cell_type": "code",
   "execution_count": null,
   "id": "deb3b7af",
   "metadata": {},
   "outputs": [],
   "source": [
    "#nltk tokenization\n",
    "desc_df['tokenized_content'] = desc_df['content'].apply(word_tokenize)\n",
    "desc_df.sample(10, random_state = 5)"
   ]
  },
  {
   "cell_type": "code",
   "execution_count": null,
   "id": "001635a6",
   "metadata": {},
   "outputs": [],
   "source": [
    "# initializing Stop words libraries\n",
    "nltk.download('stopwords')\n",
    "from nltk.corpus import stopwords\n",
    "stop_words = set(stopwords.words('english'))"
   ]
  },
  {
   "cell_type": "code",
   "execution_count": null,
   "id": "1602af14",
   "metadata": {},
   "outputs": [],
   "source": [
    "# Before removing checking occurances of stopwords in article content\n",
    "def plot_top_stopwords_barchart(text):\n",
    "    stop=set(stopwords.words('english'))\n",
    "    \n",
    "    new= text.str.split()\n",
    "    new=new.values.tolist()\n",
    "    corpus=[word for i in new for word in i]\n",
    "    from collections import defaultdict\n",
    "    dic=defaultdict(int)\n",
    "    for word in corpus:\n",
    "        if word in stop:\n",
    "            dic[word]+=1\n",
    "            \n",
    "    top=sorted(dic.items(), key=lambda x:x[1],reverse=True)[:10]\n",
    "    x,y=zip(*top)\n",
    "    plt.figure(figsize=(10,10))\n",
    "    plt.bar(x,y)\n",
    "\n",
    "plot_top_stopwords_barchart(desc_df['Job Description'])"
   ]
  },
  {
   "cell_type": "code",
   "execution_count": null,
   "id": "73b22e79",
   "metadata": {},
   "outputs": [],
   "source": [
    "\n",
    "import seaborn as sns\n",
    "from collections import  Counter\n",
    "\n",
    "def plot_top_non_stopwords_barchart(text):\n",
    "    stop=set(stopwords.words('english'))\n",
    "    \n",
    "    new= text.str.split()\n",
    "    new=new.values.tolist()\n",
    "    corpus=[word for i in new for word in i]\n",
    "\n",
    "    counter=Counter(corpus)\n",
    "    most=counter.most_common()\n",
    "    x, y=[], []\n",
    "    for word,count in most[:50]:\n",
    "        if (word not in stop):\n",
    "            x.append(word)\n",
    "            y.append(count)\n",
    "    plt.figure(figsize=(10,10))\n",
    "    sns.barplot(x=y,y=x)\n",
    "\n",
    "plot_top_non_stopwords_barchart(desc_df['Job Description'])"
   ]
  },
  {
   "cell_type": "code",
   "execution_count": null,
   "id": "d4037e09",
   "metadata": {},
   "outputs": [],
   "source": [
    "#remove stopwords \n",
    "\n",
    "desc_df['tokenized_content'] = desc_df['tokenized_content'].apply(lambda x: [word for word in x if word not in stop_words])\n",
    "desc_df['tokenized_content_join'] = [' '.join(map(str, l)) for l in desc_df['tokenized_content']]\n",
    "\n",
    "desc_df.sample(10, random_state = 5)"
   ]
  },
  {
   "cell_type": "code",
   "execution_count": null,
   "id": "24655ee0",
   "metadata": {},
   "outputs": [],
   "source": [
    "# for sake of simplicity, showing 10 job desc based on the same seed value at 5\n",
    "tagged_stanzas = []\n",
    "tagged = []\n",
    "\n",
    "for word in content_df['tokenized_content'].sample(10, random_state = 5):\n",
    "  tagged_word = nltk.pos_tag(word)\n",
    "  print(tagged_word)\n",
    "\n",
    "  tagged_stanzas.append(tagged_word)\n",
    "\n",
    "# This format is needed for below visualizer as in takes only two values. If you skip this format, it might give you - \"too many values to unpack error\" \n",
    "tagged.append(tagged_stanzas)\n"
   ]
  },
  {
   "cell_type": "code",
   "execution_count": null,
   "id": "319d5f41",
   "metadata": {},
   "outputs": [],
   "source": [
    "Refereneces: Intro to NLP by WomenWhoCode - "
   ]
  }
 ],
 "metadata": {
  "kernelspec": {
   "display_name": "Python 3",
   "language": "python",
   "name": "python3"
  },
  "language_info": {
   "codemirror_mode": {
    "name": "ipython",
    "version": 3
   },
   "file_extension": ".py",
   "mimetype": "text/x-python",
   "name": "python",
   "nbconvert_exporter": "python",
   "pygments_lexer": "ipython3",
   "version": "3.8.2"
  }
 },
 "nbformat": 4,
 "nbformat_minor": 5
}
