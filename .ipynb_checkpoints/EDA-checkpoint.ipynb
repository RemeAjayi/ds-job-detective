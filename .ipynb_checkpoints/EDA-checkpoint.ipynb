{
 "cells": [
  {
   "cell_type": "code",
   "execution_count": 3,
   "id": "22401b3d",
   "metadata": {},
   "outputs": [],
   "source": [
    "import pandas as pd\n",
    "df = pd.read_csv('outputs/data_science_jobs.csv')"
   ]
  },
  {
   "cell_type": "code",
   "execution_count": 4,
   "id": "c26d9015",
   "metadata": {},
   "outputs": [
    {
     "data": {
      "text/html": [
       "<div>\n",
       "<style scoped>\n",
       "    .dataframe tbody tr th:only-of-type {\n",
       "        vertical-align: middle;\n",
       "    }\n",
       "\n",
       "    .dataframe tbody tr th {\n",
       "        vertical-align: top;\n",
       "    }\n",
       "\n",
       "    .dataframe thead th {\n",
       "        text-align: right;\n",
       "    }\n",
       "</style>\n",
       "<table border=\"1\" class=\"dataframe\">\n",
       "  <thead>\n",
       "    <tr style=\"text-align: right;\">\n",
       "      <th></th>\n",
       "      <th>Unnamed: 0</th>\n",
       "      <th>Job Title</th>\n",
       "      <th>Company Name</th>\n",
       "      <th>Job Description</th>\n",
       "      <th>Location</th>\n",
       "      <th>Job Board</th>\n",
       "    </tr>\n",
       "  </thead>\n",
       "  <tbody>\n",
       "    <tr>\n",
       "      <th>0</th>\n",
       "      <td>0</td>\n",
       "      <td>Scientist, Data</td>\n",
       "      <td>Mosaic North America\\n</td>\n",
       "      <td>:\\n\\nThe Data Scientist will join the Advanced...</td>\n",
       "      <td>Midtown Toronto</td>\n",
       "      <td>Glassdoor</td>\n",
       "    </tr>\n",
       "    <tr>\n",
       "      <th>1</th>\n",
       "      <td>1</td>\n",
       "      <td>Machine Learning Engineer</td>\n",
       "      <td>Tiger Analytics</td>\n",
       "      <td>Tiger Analytics is an advanced analytics consu...</td>\n",
       "      <td>Midtown Toronto</td>\n",
       "      <td>Glassdoor</td>\n",
       "    </tr>\n",
       "    <tr>\n",
       "      <th>2</th>\n",
       "      <td>2</td>\n",
       "      <td>Applied Scientist - Inference and Metrics (Rem...</td>\n",
       "      <td>Yelp\\n</td>\n",
       "      <td>Are you intrigued by data? Yelp has hundreds o...</td>\n",
       "      <td>Midtown Toronto</td>\n",
       "      <td>Glassdoor</td>\n",
       "    </tr>\n",
       "    <tr>\n",
       "      <th>3</th>\n",
       "      <td>3</td>\n",
       "      <td>Specialist Data Science</td>\n",
       "      <td>Canadian National Railway\\n</td>\n",
       "      <td>At CN, we work together to move our company—an...</td>\n",
       "      <td>Edmonton</td>\n",
       "      <td>Glassdoor</td>\n",
       "    </tr>\n",
       "    <tr>\n",
       "      <th>4</th>\n",
       "      <td>4</td>\n",
       "      <td>AI Engineer</td>\n",
       "      <td>Cerebri AI</td>\n",
       "      <td>Cerebri AI CVX platform uses the best Artifici...</td>\n",
       "      <td>Toronto</td>\n",
       "      <td>Indeed</td>\n",
       "    </tr>\n",
       "  </tbody>\n",
       "</table>\n",
       "</div>"
      ],
      "text/plain": [
       "   Unnamed: 0                                          Job Title  \\\n",
       "0           0                                    Scientist, Data   \n",
       "1           1                          Machine Learning Engineer   \n",
       "2           2  Applied Scientist - Inference and Metrics (Rem...   \n",
       "3           3                            Specialist Data Science   \n",
       "4           4                                        AI Engineer   \n",
       "\n",
       "                  Company Name  \\\n",
       "0       Mosaic North America\\n   \n",
       "1              Tiger Analytics   \n",
       "2                       Yelp\\n   \n",
       "3  Canadian National Railway\\n   \n",
       "4                   Cerebri AI   \n",
       "\n",
       "                                     Job Description         Location  \\\n",
       "0  :\\n\\nThe Data Scientist will join the Advanced...  Midtown Toronto   \n",
       "1  Tiger Analytics is an advanced analytics consu...  Midtown Toronto   \n",
       "2  Are you intrigued by data? Yelp has hundreds o...  Midtown Toronto   \n",
       "3  At CN, we work together to move our company—an...         Edmonton   \n",
       "4  Cerebri AI CVX platform uses the best Artifici...          Toronto   \n",
       "\n",
       "   Job Board  \n",
       "0  Glassdoor  \n",
       "1  Glassdoor  \n",
       "2  Glassdoor  \n",
       "3  Glassdoor  \n",
       "4     Indeed  "
      ]
     },
     "execution_count": 4,
     "metadata": {},
     "output_type": "execute_result"
    }
   ],
   "source": [
    "df.head()"
   ]
  },
  {
   "cell_type": "code",
   "execution_count": 6,
   "id": "0e0bf3ba",
   "metadata": {},
   "outputs": [],
   "source": [
    "df = df.drop(df.columns[0], axis = 1) "
   ]
  },
  {
   "cell_type": "code",
   "execution_count": 7,
   "id": "9a024ef9",
   "metadata": {},
   "outputs": [
    {
     "data": {
      "text/html": [
       "<div>\n",
       "<style scoped>\n",
       "    .dataframe tbody tr th:only-of-type {\n",
       "        vertical-align: middle;\n",
       "    }\n",
       "\n",
       "    .dataframe tbody tr th {\n",
       "        vertical-align: top;\n",
       "    }\n",
       "\n",
       "    .dataframe thead th {\n",
       "        text-align: right;\n",
       "    }\n",
       "</style>\n",
       "<table border=\"1\" class=\"dataframe\">\n",
       "  <thead>\n",
       "    <tr style=\"text-align: right;\">\n",
       "      <th></th>\n",
       "      <th>Job Title</th>\n",
       "      <th>Company Name</th>\n",
       "      <th>Job Description</th>\n",
       "      <th>Location</th>\n",
       "      <th>Job Board</th>\n",
       "    </tr>\n",
       "  </thead>\n",
       "  <tbody>\n",
       "    <tr>\n",
       "      <th>0</th>\n",
       "      <td>Scientist, Data</td>\n",
       "      <td>Mosaic North America\\n</td>\n",
       "      <td>:\\n\\nThe Data Scientist will join the Advanced...</td>\n",
       "      <td>Midtown Toronto</td>\n",
       "      <td>Glassdoor</td>\n",
       "    </tr>\n",
       "    <tr>\n",
       "      <th>1</th>\n",
       "      <td>Machine Learning Engineer</td>\n",
       "      <td>Tiger Analytics</td>\n",
       "      <td>Tiger Analytics is an advanced analytics consu...</td>\n",
       "      <td>Midtown Toronto</td>\n",
       "      <td>Glassdoor</td>\n",
       "    </tr>\n",
       "    <tr>\n",
       "      <th>2</th>\n",
       "      <td>Applied Scientist - Inference and Metrics (Rem...</td>\n",
       "      <td>Yelp\\n</td>\n",
       "      <td>Are you intrigued by data? Yelp has hundreds o...</td>\n",
       "      <td>Midtown Toronto</td>\n",
       "      <td>Glassdoor</td>\n",
       "    </tr>\n",
       "    <tr>\n",
       "      <th>3</th>\n",
       "      <td>Specialist Data Science</td>\n",
       "      <td>Canadian National Railway\\n</td>\n",
       "      <td>At CN, we work together to move our company—an...</td>\n",
       "      <td>Edmonton</td>\n",
       "      <td>Glassdoor</td>\n",
       "    </tr>\n",
       "    <tr>\n",
       "      <th>4</th>\n",
       "      <td>AI Engineer</td>\n",
       "      <td>Cerebri AI</td>\n",
       "      <td>Cerebri AI CVX platform uses the best Artifici...</td>\n",
       "      <td>Toronto</td>\n",
       "      <td>Indeed</td>\n",
       "    </tr>\n",
       "  </tbody>\n",
       "</table>\n",
       "</div>"
      ],
      "text/plain": [
       "                                           Job Title  \\\n",
       "0                                    Scientist, Data   \n",
       "1                          Machine Learning Engineer   \n",
       "2  Applied Scientist - Inference and Metrics (Rem...   \n",
       "3                            Specialist Data Science   \n",
       "4                                        AI Engineer   \n",
       "\n",
       "                  Company Name  \\\n",
       "0       Mosaic North America\\n   \n",
       "1              Tiger Analytics   \n",
       "2                       Yelp\\n   \n",
       "3  Canadian National Railway\\n   \n",
       "4                   Cerebri AI   \n",
       "\n",
       "                                     Job Description         Location  \\\n",
       "0  :\\n\\nThe Data Scientist will join the Advanced...  Midtown Toronto   \n",
       "1  Tiger Analytics is an advanced analytics consu...  Midtown Toronto   \n",
       "2  Are you intrigued by data? Yelp has hundreds o...  Midtown Toronto   \n",
       "3  At CN, we work together to move our company—an...         Edmonton   \n",
       "4  Cerebri AI CVX platform uses the best Artifici...          Toronto   \n",
       "\n",
       "   Job Board  \n",
       "0  Glassdoor  \n",
       "1  Glassdoor  \n",
       "2  Glassdoor  \n",
       "3  Glassdoor  \n",
       "4     Indeed  "
      ]
     },
     "execution_count": 7,
     "metadata": {},
     "output_type": "execute_result"
    }
   ],
   "source": [
    "df.head()"
   ]
  },
  {
   "cell_type": "code",
   "execution_count": 8,
   "id": "d411c01b",
   "metadata": {},
   "outputs": [
    {
     "name": "stdout",
     "output_type": "stream",
     "text": [
      "<class 'pandas.core.frame.DataFrame'>\n",
      "RangeIndex: 982 entries, 0 to 981\n",
      "Data columns (total 5 columns):\n",
      " #   Column           Non-Null Count  Dtype \n",
      "---  ------           --------------  ----- \n",
      " 0   Job Title        982 non-null    object\n",
      " 1   Company Name     982 non-null    object\n",
      " 2   Job Description  981 non-null    object\n",
      " 3   Location         982 non-null    object\n",
      " 4   Job Board        982 non-null    object\n",
      "dtypes: object(5)\n",
      "memory usage: 38.5+ KB\n"
     ]
    }
   ],
   "source": [
    "df.info()"
   ]
  },
  {
   "cell_type": "code",
   "execution_count": 9,
   "id": "2d550558",
   "metadata": {},
   "outputs": [
    {
     "data": {
      "text/plain": [
       "<AxesSubplot:xlabel='Job Board', ylabel='Counts'>"
      ]
     },
     "execution_count": 9,
     "metadata": {},
     "output_type": "execute_result"
    },
    {
     "data": {
      "image/png": "[encoded data removed]",
      "text/plain": [
       "<Figure size 720x504 with 1 Axes>"
      ]
     },
     "metadata": {
      "needs_background": "light"
     },
     "output_type": "display_data"
    }
   ],
   "source": [
    "import matplotlib.pyplot as plt\n",
    "\n",
    "plt.figure(figsize=(10,7))\n",
    "\n",
    "plt.xlabel(\"Job Board\")\n",
    "plt.ylabel(\"Counts\")\n",
    "\n",
    "df[\"Job Board\"].value_counts().plot(kind='bar')"
   ]
  },
  {
   "cell_type": "code",
   "execution_count": 10,
   "id": "5fe3f4ad",
   "metadata": {},
   "outputs": [
    {
     "ename": "ModuleNotFoundError",
     "evalue": "No module named 'geopandas'",
     "output_type": "error",
     "traceback": [
      "\u001b[0;31m---------------------------------------------------------------------------\u001b[0m",
      "\u001b[0;31mModuleNotFoundError\u001b[0m                       Traceback (most recent call last)",
      "\u001b[0;32m<ipython-input-10-4d41e087abbb>\u001b[0m in \u001b[0;36m<module>\u001b[0;34m\u001b[0m\n\u001b[0;32m----> 1\u001b[0;31m \u001b[0;32mimport\u001b[0m \u001b[0mgeopandas\u001b[0m \u001b[0;32mas\u001b[0m \u001b[0mgpd\u001b[0m\u001b[0;34m\u001b[0m\u001b[0;34m\u001b[0m\u001b[0m\n\u001b[0m\u001b[1;32m      2\u001b[0m \u001b[0mcan\u001b[0m \u001b[0;34m=\u001b[0m \u001b[0mgpd\u001b[0m\u001b[0;34m.\u001b[0m\u001b[0mGeoDataFrame\u001b[0m\u001b[0;34m.\u001b[0m\u001b[0mfrom_file\u001b[0m\u001b[0;34m(\u001b[0m\u001b[0;34m\"CAN_adm1.shp\"\u001b[0m\u001b[0;34m)\u001b[0m\u001b[0;34m\u001b[0m\u001b[0;34m\u001b[0m\u001b[0m\n\u001b[1;32m      3\u001b[0m \u001b[0;31m# The first element\u001b[0m\u001b[0;34m\u001b[0m\u001b[0;34m\u001b[0m\u001b[0;34m\u001b[0m\u001b[0m\n\u001b[1;32m      4\u001b[0m \u001b[0mcan\u001b[0m\u001b[0;34m.\u001b[0m\u001b[0mhead\u001b[0m\u001b[0;34m(\u001b[0m\u001b[0;36m5\u001b[0m\u001b[0;34m)\u001b[0m\u001b[0;34m\u001b[0m\u001b[0;34m\u001b[0m\u001b[0m\n\u001b[1;32m      5\u001b[0m \u001b[0;31m### many data\u001b[0m\u001b[0;34m\u001b[0m\u001b[0;34m\u001b[0m\u001b[0;34m\u001b[0m\u001b[0m\n",
      "\u001b[0;31mModuleNotFoundError\u001b[0m: No module named 'geopandas'"
     ]
    }
   ],
   "source": [
    "import geopandas as gpd\n",
    "can = gpd.GeoDataFrame.from_file(\"CAN_adm1.shp\")\n",
    "# The first element\n",
    "can.head(5)\n",
    "### many data \n",
    "#plot the shapefile/GeoDataFrame\n",
    "can.plot()"
   ]
  },
  {
   "cell_type": "code",
   "execution_count": null,
   "id": "d69ddf39",
   "metadata": {},
   "outputs": [],
   "source": []
  }
 ],
 "metadata": {
  "kernelspec": {
   "display_name": "Python 3",
   "language": "python",
   "name": "python3"
  },
  "language_info": {
   "codemirror_mode": {
    "name": "ipython",
    "version": 3
   },
   "file_extension": ".py",
   "mimetype": "text/x-python",
   "name": "python",
   "nbconvert_exporter": "python",
   "pygments_lexer": "ipython3",
   "version": "3.8.8"
  }
 },
 "nbformat": 4,
 "nbformat_minor": 5
}
